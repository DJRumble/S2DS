{
 "cells": [
  {
   "cell_type": "code",
   "execution_count": 11,
   "metadata": {
    "collapsed": false
   },
   "outputs": [
    {
     "name": "stdout",
     "output_type": "stream",
     "text": [
      "The autoreload extension is already loaded. To reload it, use:\n",
      "  %reload_ext autoreload\n"
     ]
    }
   ],
   "source": [
    "%load_ext autoreload\n",
    "%autoreload 2\n",
    "%matplotlib inline\n",
    "\n",
    "import os\n",
    "from functools import reduce\n",
    "import sys\n",
    "sys.path.append(os.environ['ROOT_DIR'])\n",
    "from setting import *\n",
    "\n",
    "import matplotlib.pylab as plt\n",
    "import pandas as pd\n",
    "import random\n",
    "import seaborn as sns\n",
    "from tqdm import *\n",
    "import numpy as np\n",
    "\n",
    "from src.data.helper import *\n",
    "from src.visualization.visualize import MailCenter,RoyalMail"
   ]
  },
  {
   "cell_type": "code",
   "execution_count": 5,
   "metadata": {
    "collapsed": false
   },
   "outputs": [],
   "source": [
    "d = pd.read_csv(os.path.join(MODELS_DIR,'Model_for_all_AG.csv'))"
   ]
  },
  {
   "cell_type": "code",
   "execution_count": 10,
   "metadata": {
    "collapsed": false
   },
   "outputs": [],
   "source": [
    "d2 = d[['Point Forecast','date','Lo 80','Hi 80','Lo 95','Hi 95','stream','mc','DO','format','count']]\n",
    "d2.columns = ['yhat','date','Lo80','Hi80','Lo95','Hi95','stream','MC','DO','format','ytrue']"
   ]
  },
  {
   "cell_type": "code",
   "execution_count": 12,
   "metadata": {
    "collapsed": false
   },
   "outputs": [
    {
     "name": "stderr",
     "output_type": "stream",
     "text": [
      "100%|██████████| 12900/12900 [00:32<00:00, 397.02it/s]\n"
     ]
    }
   ],
   "source": [
    "final = d2\n",
    "gp = final.groupby(['MC','DO','stream'])\n",
    "for (MC,DO,stream), df in tqdm(gp,total=gp.ngroups):\n",
    "    name = '{}_{}_{}'.format('_'.join(MC.split(' ')),\n",
    "                                      '_'.join(DO.split(' ')), stream)\n",
    "    fname = os.path.join(STLARIMA_MODEL,name)\n",
    "    df.to_csv(fname,index=False)"
   ]
  },
  {
   "cell_type": "code",
   "execution_count": 13,
   "metadata": {
    "collapsed": false
   },
   "outputs": [
    {
     "data": {
      "text/plain": [
       "['aberdeen_mail_centre_altens_do_T0001',\n",
       " 'aberdeen_mail_centre_altens_do_T0003',\n",
       " 'aberdeen_mail_centre_altens_do_T0030',\n",
       " 'aberdeen_mail_centre_altens_do_T0064',\n",
       " 'aberdeen_mail_centre_altens_do_T0076',\n",
       " 'aberdeen_mail_centre_altens_do_T0079',\n",
       " 'aberdeen_mail_centre_altens_do_T0092',\n",
       " 'aberdeen_mail_centre_altens_do_T0093',\n",
       " 'aberdeen_mail_centre_altens_do_T0094',\n",
       " 'aberdeen_mail_centre_altens_do_T0095',\n",
       " 'aberdeen_mail_centre_banchory_do_T0001',\n",
       " 'aberdeen_mail_centre_banchory_do_T0003',\n",
       " 'aberdeen_mail_centre_banchory_do_T0030',\n",
       " 'aberdeen_mail_centre_banchory_do_T0064',\n",
       " 'aberdeen_mail_centre_banchory_do_T0076',\n",
       " 'aberdeen_mail_centre_banchory_do_T0079',\n",
       " 'aberdeen_mail_centre_banchory_do_T0092',\n",
       " 'aberdeen_mail_centre_banchory_do_T0093',\n",
       " 'aberdeen_mail_centre_banchory_do_T0094',\n",
       " 'aberdeen_mail_centre_banchory_do_T0095',\n",
       " 'aberdeen_mail_centre_banff_do_T0001',\n",
       " 'aberdeen_mail_centre_banff_do_T0003',\n",
       " 'aberdeen_mail_centre_banff_do_T0030',\n",
       " 'aberdeen_mail_centre_banff_do_T0064',\n",
       " 'aberdeen_mail_centre_banff_do_T0076',\n",
       " 'aberdeen_mail_centre_banff_do_T0079',\n",
       " 'aberdeen_mail_centre_banff_do_T0092',\n",
       " 'aberdeen_mail_centre_banff_do_T0093',\n",
       " 'aberdeen_mail_centre_banff_do_T0094',\n",
       " 'aberdeen_mail_centre_banff_do_T0095',\n",
       " 'aberdeen_mail_centre_bridge_of_don_do_T0001',\n",
       " 'aberdeen_mail_centre_bridge_of_don_do_T0003',\n",
       " 'aberdeen_mail_centre_bridge_of_don_do_T0030',\n",
       " 'aberdeen_mail_centre_bridge_of_don_do_T0064',\n",
       " 'aberdeen_mail_centre_bridge_of_don_do_T0076',\n",
       " 'aberdeen_mail_centre_bridge_of_don_do_T0079',\n",
       " 'aberdeen_mail_centre_bridge_of_don_do_T0092',\n",
       " 'aberdeen_mail_centre_bridge_of_don_do_T0093',\n",
       " 'aberdeen_mail_centre_bridge_of_don_do_T0094',\n",
       " 'aberdeen_mail_centre_bridge_of_don_do_T0095',\n",
       " 'aberdeen_mail_centre_buckie_do_T0001',\n",
       " 'aberdeen_mail_centre_buckie_do_T0003',\n",
       " 'aberdeen_mail_centre_buckie_do_T0030',\n",
       " 'aberdeen_mail_centre_buckie_do_T0064',\n",
       " 'aberdeen_mail_centre_buckie_do_T0076',\n",
       " 'aberdeen_mail_centre_buckie_do_T0079',\n",
       " 'aberdeen_mail_centre_buckie_do_T0092',\n",
       " 'aberdeen_mail_centre_buckie_do_T0093',\n",
       " 'aberdeen_mail_centre_buckie_do_T0094',\n",
       " 'aberdeen_mail_centre_buckie_do_T0095',\n",
       " 'aberdeen_mail_centre_dyce_do_T0001',\n",
       " 'aberdeen_mail_centre_dyce_do_T0003',\n",
       " 'aberdeen_mail_centre_dyce_do_T0030',\n",
       " 'aberdeen_mail_centre_dyce_do_T0064',\n",
       " 'aberdeen_mail_centre_dyce_do_T0076',\n",
       " 'aberdeen_mail_centre_dyce_do_T0079',\n",
       " 'aberdeen_mail_centre_dyce_do_T0092',\n",
       " 'aberdeen_mail_centre_dyce_do_T0093',\n",
       " 'aberdeen_mail_centre_dyce_do_T0094',\n",
       " 'aberdeen_mail_centre_dyce_do_T0095',\n",
       " 'aberdeen_mail_centre_ellon_do_T0001',\n",
       " 'aberdeen_mail_centre_ellon_do_T0003',\n",
       " 'aberdeen_mail_centre_ellon_do_T0030',\n",
       " 'aberdeen_mail_centre_ellon_do_T0064',\n",
       " 'aberdeen_mail_centre_ellon_do_T0076',\n",
       " 'aberdeen_mail_centre_ellon_do_T0079',\n",
       " 'aberdeen_mail_centre_ellon_do_T0092',\n",
       " 'aberdeen_mail_centre_ellon_do_T0093',\n",
       " 'aberdeen_mail_centre_ellon_do_T0094',\n",
       " 'aberdeen_mail_centre_ellon_do_T0095',\n",
       " 'aberdeen_mail_centre_fraserburgh_do_T0001',\n",
       " 'aberdeen_mail_centre_fraserburgh_do_T0003',\n",
       " 'aberdeen_mail_centre_fraserburgh_do_T0030',\n",
       " 'aberdeen_mail_centre_fraserburgh_do_T0064',\n",
       " 'aberdeen_mail_centre_fraserburgh_do_T0076',\n",
       " 'aberdeen_mail_centre_fraserburgh_do_T0079',\n",
       " 'aberdeen_mail_centre_fraserburgh_do_T0092',\n",
       " 'aberdeen_mail_centre_fraserburgh_do_T0093',\n",
       " 'aberdeen_mail_centre_fraserburgh_do_T0094',\n",
       " 'aberdeen_mail_centre_fraserburgh_do_T0095',\n",
       " 'aberdeen_mail_centre_huntly_do_T0001',\n",
       " 'aberdeen_mail_centre_huntly_do_T0003',\n",
       " 'aberdeen_mail_centre_huntly_do_T0030',\n",
       " 'aberdeen_mail_centre_huntly_do_T0064',\n",
       " 'aberdeen_mail_centre_huntly_do_T0076',\n",
       " 'aberdeen_mail_centre_huntly_do_T0079',\n",
       " 'aberdeen_mail_centre_huntly_do_T0092',\n",
       " 'aberdeen_mail_centre_huntly_do_T0093',\n",
       " 'aberdeen_mail_centre_huntly_do_T0094',\n",
       " 'aberdeen_mail_centre_huntly_do_T0095',\n",
       " 'aberdeen_mail_centre_inverurie_do_T0001',\n",
       " 'aberdeen_mail_centre_inverurie_do_T0003',\n",
       " 'aberdeen_mail_centre_inverurie_do_T0030',\n",
       " 'aberdeen_mail_centre_inverurie_do_T0064',\n",
       " 'aberdeen_mail_centre_inverurie_do_T0076',\n",
       " 'aberdeen_mail_centre_inverurie_do_T0079',\n",
       " 'aberdeen_mail_centre_inverurie_do_T0092',\n",
       " 'aberdeen_mail_centre_inverurie_do_T0093',\n",
       " 'aberdeen_mail_centre_inverurie_do_T0094',\n",
       " 'aberdeen_mail_centre_inverurie_do_T0095',\n",
       " 'aberdeen_mail_centre_keith_do_T0001',\n",
       " 'aberdeen_mail_centre_keith_do_T0003',\n",
       " 'aberdeen_mail_centre_keith_do_T0030',\n",
       " 'aberdeen_mail_centre_keith_do_T0064',\n",
       " 'aberdeen_mail_centre_keith_do_T0076',\n",
       " 'aberdeen_mail_centre_keith_do_T0079',\n",
       " 'aberdeen_mail_centre_keith_do_T0092',\n",
       " 'aberdeen_mail_centre_keith_do_T0093',\n",
       " 'aberdeen_mail_centre_keith_do_T0094',\n",
       " 'aberdeen_mail_centre_keith_do_T0095',\n",
       " 'aberdeen_mail_centre_kittybrewster_do_T0001',\n",
       " 'aberdeen_mail_centre_kittybrewster_do_T0003',\n",
       " 'aberdeen_mail_centre_kittybrewster_do_T0030',\n",
       " 'aberdeen_mail_centre_kittybrewster_do_T0064',\n",
       " 'aberdeen_mail_centre_kittybrewster_do_T0076',\n",
       " 'aberdeen_mail_centre_kittybrewster_do_T0079',\n",
       " 'aberdeen_mail_centre_kittybrewster_do_T0092',\n",
       " 'aberdeen_mail_centre_kittybrewster_do_T0093',\n",
       " 'aberdeen_mail_centre_kittybrewster_do_T0094',\n",
       " 'aberdeen_mail_centre_kittybrewster_do_T0095',\n",
       " 'aberdeen_mail_centre_laurencekirk_do_T0001',\n",
       " 'aberdeen_mail_centre_laurencekirk_do_T0003',\n",
       " 'aberdeen_mail_centre_laurencekirk_do_T0030',\n",
       " 'aberdeen_mail_centre_laurencekirk_do_T0064',\n",
       " 'aberdeen_mail_centre_laurencekirk_do_T0076',\n",
       " 'aberdeen_mail_centre_laurencekirk_do_T0079',\n",
       " 'aberdeen_mail_centre_laurencekirk_do_T0092',\n",
       " 'aberdeen_mail_centre_laurencekirk_do_T0093',\n",
       " 'aberdeen_mail_centre_laurencekirk_do_T0094',\n",
       " 'aberdeen_mail_centre_laurencekirk_do_T0095',\n",
       " 'aberdeen_mail_centre_lerwick_do_T0001',\n",
       " 'aberdeen_mail_centre_lerwick_do_T0003',\n",
       " 'aberdeen_mail_centre_lerwick_do_T0030',\n",
       " 'aberdeen_mail_centre_lerwick_do_T0064',\n",
       " 'aberdeen_mail_centre_lerwick_do_T0079',\n",
       " 'aberdeen_mail_centre_lerwick_do_T0092',\n",
       " 'aberdeen_mail_centre_lerwick_do_T0093',\n",
       " 'aberdeen_mail_centre_lerwick_do_T0094',\n",
       " 'aberdeen_mail_centre_lerwick_do_T0095',\n",
       " 'aberdeen_mail_centre_mastrick_do_T0001',\n",
       " 'aberdeen_mail_centre_mastrick_do_T0003',\n",
       " 'aberdeen_mail_centre_mastrick_do_T0030',\n",
       " 'aberdeen_mail_centre_mastrick_do_T0064',\n",
       " 'aberdeen_mail_centre_mastrick_do_T0076',\n",
       " 'aberdeen_mail_centre_mastrick_do_T0079',\n",
       " 'aberdeen_mail_centre_mastrick_do_T0092',\n",
       " 'aberdeen_mail_centre_mastrick_do_T0093',\n",
       " 'aberdeen_mail_centre_mastrick_do_T0094',\n",
       " 'aberdeen_mail_centre_mastrick_do_T0095',\n",
       " 'aberdeen_mail_centre_peterhead_do_T0001',\n",
       " 'aberdeen_mail_centre_peterhead_do_T0003',\n",
       " 'aberdeen_mail_centre_peterhead_do_T0030',\n",
       " 'aberdeen_mail_centre_peterhead_do_T0064',\n",
       " 'aberdeen_mail_centre_peterhead_do_T0076',\n",
       " 'aberdeen_mail_centre_peterhead_do_T0079',\n",
       " 'aberdeen_mail_centre_peterhead_do_T0092',\n",
       " 'aberdeen_mail_centre_peterhead_do_T0093',\n",
       " 'aberdeen_mail_centre_peterhead_do_T0094',\n",
       " 'aberdeen_mail_centre_peterhead_do_T0095',\n",
       " 'aberdeen_mail_centre_stonehaven_do_T0001',\n",
       " 'aberdeen_mail_centre_stonehaven_do_T0003',\n",
       " 'aberdeen_mail_centre_stonehaven_do_T0030',\n",
       " 'aberdeen_mail_centre_stonehaven_do_T0064',\n",
       " 'aberdeen_mail_centre_stonehaven_do_T0076',\n",
       " 'aberdeen_mail_centre_stonehaven_do_T0079',\n",
       " 'aberdeen_mail_centre_stonehaven_do_T0092',\n",
       " 'aberdeen_mail_centre_stonehaven_do_T0093',\n",
       " 'aberdeen_mail_centre_stonehaven_do_T0094',\n",
       " 'aberdeen_mail_centre_stonehaven_do_T0095',\n",
       " 'aberdeen_mail_centre_turriff_do_T0001',\n",
       " 'aberdeen_mail_centre_turriff_do_T0003',\n",
       " 'aberdeen_mail_centre_turriff_do_T0030',\n",
       " 'aberdeen_mail_centre_turriff_do_T0064',\n",
       " 'aberdeen_mail_centre_turriff_do_T0076',\n",
       " 'aberdeen_mail_centre_turriff_do_T0079',\n",
       " 'aberdeen_mail_centre_turriff_do_T0092',\n",
       " 'aberdeen_mail_centre_turriff_do_T0093',\n",
       " 'aberdeen_mail_centre_turriff_do_T0094',\n",
       " 'aberdeen_mail_centre_turriff_do_T0095',\n",
       " 'aberdeen_mail_centre_westhill_do_T0001',\n",
       " 'aberdeen_mail_centre_westhill_do_T0003',\n",
       " 'aberdeen_mail_centre_westhill_do_T0030',\n",
       " 'aberdeen_mail_centre_westhill_do_T0064',\n",
       " 'aberdeen_mail_centre_westhill_do_T0076',\n",
       " 'aberdeen_mail_centre_westhill_do_T0079',\n",
       " 'aberdeen_mail_centre_westhill_do_T0092',\n",
       " 'aberdeen_mail_centre_westhill_do_T0093',\n",
       " 'aberdeen_mail_centre_westhill_do_T0094',\n",
       " 'aberdeen_mail_centre_westhill_do_T0095',\n",
       " 'birmingham_mail_centre_alcester_do_T0001',\n",
       " 'birmingham_mail_centre_alcester_do_T0003',\n",
       " 'birmingham_mail_centre_alcester_do_T0030',\n",
       " 'birmingham_mail_centre_alcester_do_T0064',\n",
       " 'birmingham_mail_centre_alcester_do_T0076',\n",
       " 'birmingham_mail_centre_alcester_do_T0079',\n",
       " 'birmingham_mail_centre_alcester_do_T0092',\n",
       " 'birmingham_mail_centre_alcester_do_T0093',\n",
       " 'birmingham_mail_centre_alcester_do_T0094',\n",
       " 'birmingham_mail_centre_alcester_do_T0095',\n",
       " 'birmingham_mail_centre_birmingham_central_do_T0001',\n",
       " 'birmingham_mail_centre_birmingham_central_do_T0003',\n",
       " 'birmingham_mail_centre_birmingham_central_do_T0030',\n",
       " 'birmingham_mail_centre_birmingham_central_do_T0041',\n",
       " 'birmingham_mail_centre_birmingham_central_do_T0064',\n",
       " 'birmingham_mail_centre_birmingham_central_do_T0076',\n",
       " 'birmingham_mail_centre_birmingham_central_do_T0079',\n",
       " 'birmingham_mail_centre_birmingham_central_do_T0092',\n",
       " 'birmingham_mail_centre_birmingham_central_do_T0093',\n",
       " 'birmingham_mail_centre_birmingham_central_do_T0094',\n",
       " 'birmingham_mail_centre_birmingham_central_do_T0095',\n",
       " 'birmingham_mail_centre_birmingham_east_do_T0001',\n",
       " 'birmingham_mail_centre_birmingham_east_do_T0003',\n",
       " 'birmingham_mail_centre_birmingham_east_do_T0030',\n",
       " 'birmingham_mail_centre_birmingham_east_do_T0064',\n",
       " 'birmingham_mail_centre_birmingham_east_do_T0076',\n",
       " 'birmingham_mail_centre_birmingham_east_do_T0079',\n",
       " 'birmingham_mail_centre_birmingham_east_do_T0092',\n",
       " 'birmingham_mail_centre_birmingham_east_do_T0093',\n",
       " 'birmingham_mail_centre_birmingham_east_do_T0094',\n",
       " 'birmingham_mail_centre_birmingham_east_do_T0095',\n",
       " 'birmingham_mail_centre_birmingham_selly_oak_do_T0001',\n",
       " 'birmingham_mail_centre_birmingham_selly_oak_do_T0003',\n",
       " 'birmingham_mail_centre_birmingham_selly_oak_do_T0030',\n",
       " 'birmingham_mail_centre_birmingham_selly_oak_do_T0064',\n",
       " 'birmingham_mail_centre_birmingham_selly_oak_do_T0076',\n",
       " 'birmingham_mail_centre_birmingham_selly_oak_do_T0079',\n",
       " 'birmingham_mail_centre_birmingham_selly_oak_do_T0092',\n",
       " 'birmingham_mail_centre_birmingham_selly_oak_do_T0093',\n",
       " 'birmingham_mail_centre_birmingham_selly_oak_do_T0094',\n",
       " 'birmingham_mail_centre_birmingham_selly_oak_do_T0095',\n",
       " 'birmingham_mail_centre_birmingham_west_do_T0001',\n",
       " 'birmingham_mail_centre_birmingham_west_do_T0003',\n",
       " 'birmingham_mail_centre_birmingham_west_do_T0030',\n",
       " 'birmingham_mail_centre_birmingham_west_do_T0041',\n",
       " 'birmingham_mail_centre_birmingham_west_do_T0064',\n",
       " 'birmingham_mail_centre_birmingham_west_do_T0076',\n",
       " 'birmingham_mail_centre_birmingham_west_do_T0079',\n",
       " 'birmingham_mail_centre_birmingham_west_do_T0092',\n",
       " 'birmingham_mail_centre_birmingham_west_do_T0093',\n",
       " 'birmingham_mail_centre_birmingham_west_do_T0094',\n",
       " 'birmingham_mail_centre_birmingham_west_do_T0095',\n",
       " 'birmingham_mail_centre_bromsgrove_do_T0001',\n",
       " 'birmingham_mail_centre_bromsgrove_do_T0003',\n",
       " 'birmingham_mail_centre_bromsgrove_do_T0030',\n",
       " 'birmingham_mail_centre_bromsgrove_do_T0041',\n",
       " 'birmingham_mail_centre_bromsgrove_do_T0064',\n",
       " 'birmingham_mail_centre_bromsgrove_do_T0076',\n",
       " 'birmingham_mail_centre_bromsgrove_do_T0079',\n",
       " 'birmingham_mail_centre_bromsgrove_do_T0092',\n",
       " 'birmingham_mail_centre_bromsgrove_do_T0093',\n",
       " 'birmingham_mail_centre_bromsgrove_do_T0094',\n",
       " 'birmingham_mail_centre_bromsgrove_do_T0095',\n",
       " 'birmingham_mail_centre_castle_bromwich_do_T0001',\n",
       " 'birmingham_mail_centre_castle_bromwich_do_T0003',\n",
       " 'birmingham_mail_centre_castle_bromwich_do_T0030',\n",
       " 'birmingham_mail_centre_castle_bromwich_do_T0064',\n",
       " 'birmingham_mail_centre_castle_bromwich_do_T0076',\n",
       " 'birmingham_mail_centre_castle_bromwich_do_T0079',\n",
       " 'birmingham_mail_centre_castle_bromwich_do_T0092',\n",
       " 'birmingham_mail_centre_castle_bromwich_do_T0093',\n",
       " 'birmingham_mail_centre_castle_bromwich_do_T0094',\n",
       " 'birmingham_mail_centre_castle_bromwich_do_T0095',\n",
       " 'birmingham_mail_centre_chelmsley_wood_do_T0001',\n",
       " 'birmingham_mail_centre_chelmsley_wood_do_T0003',\n",
       " 'birmingham_mail_centre_chelmsley_wood_do_T0030',\n",
       " 'birmingham_mail_centre_chelmsley_wood_do_T0064',\n",
       " 'birmingham_mail_centre_chelmsley_wood_do_T0076',\n",
       " 'birmingham_mail_centre_chelmsley_wood_do_T0079',\n",
       " 'birmingham_mail_centre_chelmsley_wood_do_T0092',\n",
       " 'birmingham_mail_centre_chelmsley_wood_do_T0093',\n",
       " 'birmingham_mail_centre_chelmsley_wood_do_T0094',\n",
       " 'birmingham_mail_centre_chelmsley_wood_do_T0095',\n",
       " 'birmingham_mail_centre_coleshill_do_T0001',\n",
       " 'birmingham_mail_centre_coleshill_do_T0003',\n",
       " 'birmingham_mail_centre_coleshill_do_T0030',\n",
       " 'birmingham_mail_centre_coleshill_do_T0064',\n",
       " 'birmingham_mail_centre_coleshill_do_T0076',\n",
       " 'birmingham_mail_centre_coleshill_do_T0079',\n",
       " 'birmingham_mail_centre_coleshill_do_T0092',\n",
       " 'birmingham_mail_centre_coleshill_do_T0093',\n",
       " 'birmingham_mail_centre_coleshill_do_T0094',\n",
       " 'birmingham_mail_centre_coleshill_do_T0095',\n",
       " 'birmingham_mail_centre_coombs_wood_do_T0001',\n",
       " 'birmingham_mail_centre_coombs_wood_do_T0003',\n",
       " 'birmingham_mail_centre_coombs_wood_do_T0030',\n",
       " 'birmingham_mail_centre_coombs_wood_do_T0041',\n",
       " 'birmingham_mail_centre_coombs_wood_do_T0064',\n",
       " 'birmingham_mail_centre_coombs_wood_do_T0076',\n",
       " 'birmingham_mail_centre_coombs_wood_do_T0079',\n",
       " 'birmingham_mail_centre_coombs_wood_do_T0092',\n",
       " 'birmingham_mail_centre_coombs_wood_do_T0093',\n",
       " 'birmingham_mail_centre_coombs_wood_do_T0094',\n",
       " 'birmingham_mail_centre_coombs_wood_do_T0095',\n",
       " 'birmingham_mail_centre_droitwich_do_T0001',\n",
       " 'birmingham_mail_centre_droitwich_do_T0003',\n",
       " 'birmingham_mail_centre_droitwich_do_T0030',\n",
       " 'birmingham_mail_centre_droitwich_do_T0064',\n",
       " 'birmingham_mail_centre_droitwich_do_T0076',\n",
       " 'birmingham_mail_centre_droitwich_do_T0079',\n",
       " 'birmingham_mail_centre_droitwich_do_T0092',\n",
       " 'birmingham_mail_centre_droitwich_do_T0093',\n",
       " 'birmingham_mail_centre_droitwich_do_T0094',\n",
       " 'birmingham_mail_centre_droitwich_do_T0095',\n",
       " 'birmingham_mail_centre_erdington_do_T0001',\n",
       " 'birmingham_mail_centre_erdington_do_T0003',\n",
       " 'birmingham_mail_centre_erdington_do_T0030',\n",
       " 'birmingham_mail_centre_erdington_do_T0064',\n",
       " 'birmingham_mail_centre_erdington_do_T0076',\n",
       " 'birmingham_mail_centre_erdington_do_T0079',\n",
       " 'birmingham_mail_centre_erdington_do_T0092',\n",
       " 'birmingham_mail_centre_erdington_do_T0093',\n",
       " 'birmingham_mail_centre_erdington_do_T0094',\n",
       " 'birmingham_mail_centre_erdington_do_T0095',\n",
       " 'birmingham_mail_centre_evesham_do_T0001',\n",
       " 'birmingham_mail_centre_evesham_do_T0003',\n",
       " 'birmingham_mail_centre_evesham_do_T0030',\n",
       " 'birmingham_mail_centre_evesham_do_T0064',\n",
       " 'birmingham_mail_centre_evesham_do_T0076',\n",
       " 'birmingham_mail_centre_evesham_do_T0079',\n",
       " 'birmingham_mail_centre_evesham_do_T0092',\n",
       " 'birmingham_mail_centre_evesham_do_T0093',\n",
       " 'birmingham_mail_centre_evesham_do_T0094',\n",
       " 'birmingham_mail_centre_evesham_do_T0095',\n",
       " 'birmingham_mail_centre_great_barr_do_T0001',\n",
       " 'birmingham_mail_centre_great_barr_do_T0003',\n",
       " 'birmingham_mail_centre_great_barr_do_T0030',\n",
       " 'birmingham_mail_centre_great_barr_do_T0041',\n",
       " 'birmingham_mail_centre_great_barr_do_T0064',\n",
       " 'birmingham_mail_centre_great_barr_do_T0076',\n",
       " 'birmingham_mail_centre_great_barr_do_T0079',\n",
       " 'birmingham_mail_centre_great_barr_do_T0092',\n",
       " 'birmingham_mail_centre_great_barr_do_T0093',\n",
       " 'birmingham_mail_centre_great_barr_do_T0094',\n",
       " 'birmingham_mail_centre_great_barr_do_T0095',\n",
       " 'birmingham_mail_centre_hall_green_do_T0001',\n",
       " 'birmingham_mail_centre_hall_green_do_T0003',\n",
       " 'birmingham_mail_centre_hall_green_do_T0030',\n",
       " 'birmingham_mail_centre_hall_green_do_T0064',\n",
       " 'birmingham_mail_centre_hall_green_do_T0076',\n",
       " 'birmingham_mail_centre_hall_green_do_T0079',\n",
       " 'birmingham_mail_centre_hall_green_do_T0092',\n",
       " 'birmingham_mail_centre_hall_green_do_T0093',\n",
       " 'birmingham_mail_centre_hall_green_do_T0094',\n",
       " 'birmingham_mail_centre_hall_green_do_T0095',\n",
       " 'birmingham_mail_centre_henley_in_arden_do_T0001',\n",
       " 'birmingham_mail_centre_henley_in_arden_do_T0003',\n",
       " 'birmingham_mail_centre_henley_in_arden_do_T0030',\n",
       " 'birmingham_mail_centre_henley_in_arden_do_T0064',\n",
       " 'birmingham_mail_centre_henley_in_arden_do_T0076',\n",
       " 'birmingham_mail_centre_henley_in_arden_do_T0079',\n",
       " 'birmingham_mail_centre_henley_in_arden_do_T0092',\n",
       " 'birmingham_mail_centre_henley_in_arden_do_T0093',\n",
       " 'birmingham_mail_centre_henley_in_arden_do_T0094',\n",
       " 'birmingham_mail_centre_henley_in_arden_do_T0095',\n",
       " 'birmingham_mail_centre_hereford_do_T0001',\n",
       " 'birmingham_mail_centre_hereford_do_T0003',\n",
       " 'birmingham_mail_centre_hereford_do_T0030',\n",
       " 'birmingham_mail_centre_hereford_do_T0041',\n",
       " 'birmingham_mail_centre_hereford_do_T0064',\n",
       " 'birmingham_mail_centre_hereford_do_T0076',\n",
       " 'birmingham_mail_centre_hereford_do_T0079',\n",
       " 'birmingham_mail_centre_hereford_do_T0092',\n",
       " 'birmingham_mail_centre_hereford_do_T0093',\n",
       " 'birmingham_mail_centre_hereford_do_T0094',\n",
       " 'birmingham_mail_centre_hereford_do_T0095',\n",
       " 'birmingham_mail_centre_hockley_b_do_T0001',\n",
       " 'birmingham_mail_centre_hockley_b_do_T0003',\n",
       " 'birmingham_mail_centre_hockley_b_do_T0030',\n",
       " 'birmingham_mail_centre_hockley_b_do_T0064',\n",
       " 'birmingham_mail_centre_hockley_b_do_T0076',\n",
       " 'birmingham_mail_centre_hockley_b_do_T0079',\n",
       " 'birmingham_mail_centre_hockley_b_do_T0092',\n",
       " 'birmingham_mail_centre_hockley_b_do_T0093',\n",
       " 'birmingham_mail_centre_hockley_b_do_T0094',\n",
       " 'birmingham_mail_centre_hockley_b_do_T0095',\n",
       " 'birmingham_mail_centre_kings_norton_do_T0001',\n",
       " 'birmingham_mail_centre_kings_norton_do_T0003',\n",
       " 'birmingham_mail_centre_kings_norton_do_T0030',\n",
       " 'birmingham_mail_centre_kings_norton_do_T0064',\n",
       " 'birmingham_mail_centre_kings_norton_do_T0076',\n",
       " 'birmingham_mail_centre_kings_norton_do_T0079',\n",
       " 'birmingham_mail_centre_kings_norton_do_T0092',\n",
       " 'birmingham_mail_centre_kings_norton_do_T0093',\n",
       " 'birmingham_mail_centre_kings_norton_do_T0094',\n",
       " 'birmingham_mail_centre_kings_norton_do_T0095',\n",
       " 'birmingham_mail_centre_kitts_green_do_T0001',\n",
       " 'birmingham_mail_centre_kitts_green_do_T0003',\n",
       " 'birmingham_mail_centre_kitts_green_do_T0030',\n",
       " 'birmingham_mail_centre_kitts_green_do_T0041',\n",
       " 'birmingham_mail_centre_kitts_green_do_T0064',\n",
       " 'birmingham_mail_centre_kitts_green_do_T0076',\n",
       " 'birmingham_mail_centre_kitts_green_do_T0079',\n",
       " 'birmingham_mail_centre_kitts_green_do_T0092',\n",
       " 'birmingham_mail_centre_kitts_green_do_T0093',\n",
       " 'birmingham_mail_centre_kitts_green_do_T0094',\n",
       " 'birmingham_mail_centre_kitts_green_do_T0095',\n",
       " 'birmingham_mail_centre_knowle_do_T0001',\n",
       " 'birmingham_mail_centre_knowle_do_T0003',\n",
       " 'birmingham_mail_centre_knowle_do_T0030',\n",
       " 'birmingham_mail_centre_knowle_do_T0064',\n",
       " 'birmingham_mail_centre_knowle_do_T0076',\n",
       " 'birmingham_mail_centre_knowle_do_T0079',\n",
       " 'birmingham_mail_centre_knowle_do_T0092',\n",
       " 'birmingham_mail_centre_knowle_do_T0093',\n",
       " 'birmingham_mail_centre_knowle_do_T0094',\n",
       " 'birmingham_mail_centre_knowle_do_T0095',\n",
       " 'birmingham_mail_centre_ledbury_do_T0001',\n",
       " 'birmingham_mail_centre_ledbury_do_T0003',\n",
       " 'birmingham_mail_centre_ledbury_do_T0030',\n",
       " 'birmingham_mail_centre_ledbury_do_T0064',\n",
       " 'birmingham_mail_centre_ledbury_do_T0076',\n",
       " 'birmingham_mail_centre_ledbury_do_T0079',\n",
       " 'birmingham_mail_centre_ledbury_do_T0092',\n",
       " 'birmingham_mail_centre_ledbury_do_T0093',\n",
       " 'birmingham_mail_centre_ledbury_do_T0094',\n",
       " 'birmingham_mail_centre_ledbury_do_T0095',\n",
       " 'birmingham_mail_centre_leominster_do_T0001',\n",
       " 'birmingham_mail_centre_leominster_do_T0003',\n",
       " 'birmingham_mail_centre_leominster_do_T0030',\n",
       " 'birmingham_mail_centre_leominster_do_T0064',\n",
       " 'birmingham_mail_centre_leominster_do_T0076',\n",
       " 'birmingham_mail_centre_leominster_do_T0079',\n",
       " 'birmingham_mail_centre_leominster_do_T0092',\n",
       " 'birmingham_mail_centre_leominster_do_T0093',\n",
       " 'birmingham_mail_centre_leominster_do_T0094',\n",
       " 'birmingham_mail_centre_leominster_do_T0095',\n",
       " 'birmingham_mail_centre_malvern_do_T0001',\n",
       " 'birmingham_mail_centre_malvern_do_T0003',\n",
       " 'birmingham_mail_centre_malvern_do_T0030',\n",
       " 'birmingham_mail_centre_malvern_do_T0064',\n",
       " 'birmingham_mail_centre_malvern_do_T0076',\n",
       " 'birmingham_mail_centre_malvern_do_T0079',\n",
       " 'birmingham_mail_centre_malvern_do_T0092',\n",
       " 'birmingham_mail_centre_malvern_do_T0093',\n",
       " 'birmingham_mail_centre_malvern_do_T0094',\n",
       " 'birmingham_mail_centre_malvern_do_T0095',\n",
       " 'birmingham_mail_centre_moseley_do_T0001',\n",
       " 'birmingham_mail_centre_moseley_do_T0003',\n",
       " 'birmingham_mail_centre_moseley_do_T0030',\n",
       " 'birmingham_mail_centre_moseley_do_T0041',\n",
       " 'birmingham_mail_centre_moseley_do_T0064',\n",
       " 'birmingham_mail_centre_moseley_do_T0076',\n",
       " 'birmingham_mail_centre_moseley_do_T0079',\n",
       " 'birmingham_mail_centre_moseley_do_T0092',\n",
       " 'birmingham_mail_centre_moseley_do_T0093',\n",
       " 'birmingham_mail_centre_moseley_do_T0094',\n",
       " 'birmingham_mail_centre_moseley_do_T0095',\n",
       " 'birmingham_mail_centre_northfield_do_T0001',\n",
       " 'birmingham_mail_centre_northfield_do_T0003',\n",
       " 'birmingham_mail_centre_northfield_do_T0030',\n",
       " 'birmingham_mail_centre_northfield_do_T0064',\n",
       " 'birmingham_mail_centre_northfield_do_T0076',\n",
       " 'birmingham_mail_centre_northfield_do_T0079',\n",
       " 'birmingham_mail_centre_northfield_do_T0092',\n",
       " 'birmingham_mail_centre_northfield_do_T0093',\n",
       " 'birmingham_mail_centre_northfield_do_T0094',\n",
       " 'birmingham_mail_centre_northfield_do_T0095',\n",
       " 'birmingham_mail_centre_oldbury_do_T0001',\n",
       " 'birmingham_mail_centre_oldbury_do_T0003',\n",
       " 'birmingham_mail_centre_oldbury_do_T0030',\n",
       " 'birmingham_mail_centre_oldbury_do_T0064',\n",
       " 'birmingham_mail_centre_oldbury_do_T0076',\n",
       " 'birmingham_mail_centre_oldbury_do_T0079',\n",
       " 'birmingham_mail_centre_oldbury_do_T0092',\n",
       " 'birmingham_mail_centre_oldbury_do_T0093',\n",
       " 'birmingham_mail_centre_oldbury_do_T0094',\n",
       " 'birmingham_mail_centre_oldbury_do_T0095',\n",
       " 'birmingham_mail_centre_pershore_do_T0001',\n",
       " 'birmingham_mail_centre_pershore_do_T0003',\n",
       " 'birmingham_mail_centre_pershore_do_T0030',\n",
       " 'birmingham_mail_centre_pershore_do_T0064',\n",
       " 'birmingham_mail_centre_pershore_do_T0076',\n",
       " 'birmingham_mail_centre_pershore_do_T0079',\n",
       " 'birmingham_mail_centre_pershore_do_T0092',\n",
       " 'birmingham_mail_centre_pershore_do_T0093',\n",
       " 'birmingham_mail_centre_pershore_do_T0094',\n",
       " 'birmingham_mail_centre_pershore_do_T0095',\n",
       " 'birmingham_mail_centre_quinton_do_T0001',\n",
       " 'birmingham_mail_centre_quinton_do_T0003',\n",
       " 'birmingham_mail_centre_quinton_do_T0030',\n",
       " 'birmingham_mail_centre_quinton_do_T0064',\n",
       " 'birmingham_mail_centre_quinton_do_T0076',\n",
       " 'birmingham_mail_centre_quinton_do_T0079',\n",
       " 'birmingham_mail_centre_quinton_do_T0092',\n",
       " 'birmingham_mail_centre_quinton_do_T0093',\n",
       " 'birmingham_mail_centre_quinton_do_T0094',\n",
       " 'birmingham_mail_centre_quinton_do_T0095',\n",
       " 'birmingham_mail_centre_redditch_do_T0001',\n",
       " 'birmingham_mail_centre_redditch_do_T0003',\n",
       " 'birmingham_mail_centre_redditch_do_T0030',\n",
       " 'birmingham_mail_centre_redditch_do_T0041',\n",
       " 'birmingham_mail_centre_redditch_do_T0064',\n",
       " 'birmingham_mail_centre_redditch_do_T0076',\n",
       " 'birmingham_mail_centre_redditch_do_T0079',\n",
       " 'birmingham_mail_centre_redditch_do_T0092',\n",
       " 'birmingham_mail_centre_redditch_do_T0093',\n",
       " 'birmingham_mail_centre_redditch_do_T0094',\n",
       " 'birmingham_mail_centre_redditch_do_T0095',\n",
       " 'birmingham_mail_centre_redfern_park_do_T0001',\n",
       " 'birmingham_mail_centre_redfern_park_do_T0003',\n",
       " 'birmingham_mail_centre_redfern_park_do_T0030',\n",
       " 'birmingham_mail_centre_redfern_park_do_T0064',\n",
       " 'birmingham_mail_centre_redfern_park_do_T0076',\n",
       " 'birmingham_mail_centre_redfern_park_do_T0079',\n",
       " 'birmingham_mail_centre_redfern_park_do_T0092',\n",
       " 'birmingham_mail_centre_redfern_park_do_T0093',\n",
       " 'birmingham_mail_centre_redfern_park_do_T0094',\n",
       " 'birmingham_mail_centre_redfern_park_do_T0095',\n",
       " 'birmingham_mail_centre_rednal_do_T0001',\n",
       " 'birmingham_mail_centre_rednal_do_T0003',\n",
       " 'birmingham_mail_centre_rednal_do_T0030',\n",
       " 'birmingham_mail_centre_rednal_do_T0064',\n",
       " 'birmingham_mail_centre_rednal_do_T0076',\n",
       " 'birmingham_mail_centre_rednal_do_T0079',\n",
       " 'birmingham_mail_centre_rednal_do_T0092',\n",
       " 'birmingham_mail_centre_rednal_do_T0093',\n",
       " 'birmingham_mail_centre_rednal_do_T0094',\n",
       " 'birmingham_mail_centre_rednal_do_T0095',\n",
       " 'birmingham_mail_centre_ross_on_wye_do_T0001',\n",
       " 'birmingham_mail_centre_ross_on_wye_do_T0003',\n",
       " 'birmingham_mail_centre_ross_on_wye_do_T0030',\n",
       " 'birmingham_mail_centre_ross_on_wye_do_T0064',\n",
       " 'birmingham_mail_centre_ross_on_wye_do_T0076',\n",
       " 'birmingham_mail_centre_ross_on_wye_do_T0079',\n",
       " 'birmingham_mail_centre_ross_on_wye_do_T0092',\n",
       " 'birmingham_mail_centre_ross_on_wye_do_T0093',\n",
       " 'birmingham_mail_centre_ross_on_wye_do_T0094',\n",
       " 'birmingham_mail_centre_ross_on_wye_do_T0095',\n",
       " 'birmingham_mail_centre_shirley_b_do_T0001',\n",
       " 'birmingham_mail_centre_shirley_b_do_T0003',\n",
       " 'birmingham_mail_centre_shirley_b_do_T0030',\n",
       " 'birmingham_mail_centre_shirley_b_do_T0064',\n",
       " 'birmingham_mail_centre_shirley_b_do_T0076',\n",
       " 'birmingham_mail_centre_shirley_b_do_T0079',\n",
       " 'birmingham_mail_centre_shirley_b_do_T0092',\n",
       " 'birmingham_mail_centre_shirley_b_do_T0093',\n",
       " 'birmingham_mail_centre_shirley_b_do_T0094',\n",
       " 'birmingham_mail_centre_shirley_b_do_T0095',\n",
       " 'birmingham_mail_centre_smethwick_do_T0001',\n",
       " 'birmingham_mail_centre_smethwick_do_T0003',\n",
       " 'birmingham_mail_centre_smethwick_do_T0030',\n",
       " 'birmingham_mail_centre_smethwick_do_T0064',\n",
       " 'birmingham_mail_centre_smethwick_do_T0076',\n",
       " 'birmingham_mail_centre_smethwick_do_T0079',\n",
       " 'birmingham_mail_centre_smethwick_do_T0092',\n",
       " 'birmingham_mail_centre_smethwick_do_T0093',\n",
       " 'birmingham_mail_centre_smethwick_do_T0094',\n",
       " 'birmingham_mail_centre_smethwick_do_T0095',\n",
       " 'birmingham_mail_centre_solihull_do_T0001',\n",
       " 'birmingham_mail_centre_solihull_do_T0003',\n",
       " 'birmingham_mail_centre_solihull_do_T0030',\n",
       " 'birmingham_mail_centre_solihull_do_T0041',\n",
       " 'birmingham_mail_centre_solihull_do_T0064',\n",
       " 'birmingham_mail_centre_solihull_do_T0076',\n",
       " 'birmingham_mail_centre_solihull_do_T0079',\n",
       " 'birmingham_mail_centre_solihull_do_T0092',\n",
       " 'birmingham_mail_centre_solihull_do_T0093',\n",
       " 'birmingham_mail_centre_solihull_do_T0094',\n",
       " 'birmingham_mail_centre_solihull_do_T0095',\n",
       " 'birmingham_mail_centre_sutton_coldfield_do_T0001',\n",
       " 'birmingham_mail_centre_sutton_coldfield_do_T0003',\n",
       " 'birmingham_mail_centre_sutton_coldfield_do_T0030',\n",
       " 'birmingham_mail_centre_sutton_coldfield_do_T0041',\n",
       " 'birmingham_mail_centre_sutton_coldfield_do_T0064',\n",
       " 'birmingham_mail_centre_sutton_coldfield_do_T0076',\n",
       " 'birmingham_mail_centre_sutton_coldfield_do_T0079',\n",
       " 'birmingham_mail_centre_sutton_coldfield_do_T0092',\n",
       " 'birmingham_mail_centre_sutton_coldfield_do_T0093',\n",
       " 'birmingham_mail_centre_sutton_coldfield_do_T0094',\n",
       " 'birmingham_mail_centre_sutton_coldfield_do_T0095',\n",
       " 'birmingham_mail_centre_tamworth_do_T0001',\n",
       " 'birmingham_mail_centre_tamworth_do_T0003',\n",
       " 'birmingham_mail_centre_tamworth_do_T0030',\n",
       " 'birmingham_mail_centre_tamworth_do_T0041',\n",
       " 'birmingham_mail_centre_tamworth_do_T0064',\n",
       " 'birmingham_mail_centre_tamworth_do_T0076',\n",
       " 'birmingham_mail_centre_tamworth_do_T0079',\n",
       " 'birmingham_mail_centre_tamworth_do_T0092',\n",
       " 'birmingham_mail_centre_tamworth_do_T0093',\n",
       " 'birmingham_mail_centre_tamworth_do_T0094',\n",
       " 'birmingham_mail_centre_tamworth_do_T0095',\n",
       " 'birmingham_mail_centre_west_bromwich_do_T0001',\n",
       " 'birmingham_mail_centre_west_bromwich_do_T0003',\n",
       " 'birmingham_mail_centre_west_bromwich_do_T0030',\n",
       " 'birmingham_mail_centre_west_bromwich_do_T0064',\n",
       " 'birmingham_mail_centre_west_bromwich_do_T0076',\n",
       " 'birmingham_mail_centre_west_bromwich_do_T0079',\n",
       " 'birmingham_mail_centre_west_bromwich_do_T0092',\n",
       " 'birmingham_mail_centre_west_bromwich_do_T0093',\n",
       " 'birmingham_mail_centre_west_bromwich_do_T0094',\n",
       " 'birmingham_mail_centre_west_bromwich_do_T0095',\n",
       " 'birmingham_mail_centre_worcester_do_T0001',\n",
       " 'birmingham_mail_centre_worcester_do_T0003',\n",
       " 'birmingham_mail_centre_worcester_do_T0030',\n",
       " 'birmingham_mail_centre_worcester_do_T0064',\n",
       " 'birmingham_mail_centre_worcester_do_T0076',\n",
       " 'birmingham_mail_centre_worcester_do_T0079',\n",
       " 'birmingham_mail_centre_worcester_do_T0092',\n",
       " 'birmingham_mail_centre_worcester_do_T0093',\n",
       " 'birmingham_mail_centre_worcester_do_T0094',\n",
       " 'birmingham_mail_centre_worcester_do_T0095',\n",
       " 'bristol_mail_centre_avonmouth_do_T0001',\n",
       " 'bristol_mail_centre_avonmouth_do_T0003',\n",
       " 'bristol_mail_centre_avonmouth_do_T0030',\n",
       " 'bristol_mail_centre_avonmouth_do_T0064',\n",
       " 'bristol_mail_centre_avonmouth_do_T0076',\n",
       " 'bristol_mail_centre_avonmouth_do_T0079',\n",
       " 'bristol_mail_centre_avonmouth_do_T0092',\n",
       " 'bristol_mail_centre_avonmouth_do_T0093',\n",
       " 'bristol_mail_centre_avonmouth_do_T0094',\n",
       " 'bristol_mail_centre_avonmouth_do_T0095',\n",
       " 'bristol_mail_centre_bath_do_T0001',\n",
       " 'bristol_mail_centre_bath_do_T0003',\n",
       " 'bristol_mail_centre_bath_do_T0030',\n",
       " 'bristol_mail_centre_bath_do_T0041',\n",
       " 'bristol_mail_centre_bath_do_T0064',\n",
       " 'bristol_mail_centre_bath_do_T0076',\n",
       " 'bristol_mail_centre_bath_do_T0079',\n",
       " 'bristol_mail_centre_bath_do_T0092',\n",
       " 'bristol_mail_centre_bath_do_T0093',\n",
       " 'bristol_mail_centre_bath_do_T0094',\n",
       " 'bristol_mail_centre_bath_do_T0095',\n",
       " 'bristol_mail_centre_bradford_on_avon_do_T0001',\n",
       " 'bristol_mail_centre_bradford_on_avon_do_T0003',\n",
       " 'bristol_mail_centre_bradford_on_avon_do_T0030',\n",
       " 'bristol_mail_centre_bradford_on_avon_do_T0064',\n",
       " 'bristol_mail_centre_bradford_on_avon_do_T0076',\n",
       " 'bristol_mail_centre_bradford_on_avon_do_T0079',\n",
       " 'bristol_mail_centre_bradford_on_avon_do_T0092',\n",
       " 'bristol_mail_centre_bradford_on_avon_do_T0093',\n",
       " 'bristol_mail_centre_bradford_on_avon_do_T0094',\n",
       " 'bristol_mail_centre_bradford_on_avon_do_T0095',\n",
       " 'bristol_mail_centre_bridgwater_do_T0001',\n",
       " 'bristol_mail_centre_bridgwater_do_T0003',\n",
       " 'bristol_mail_centre_bridgwater_do_T0030',\n",
       " 'bristol_mail_centre_bridgwater_do_T0064',\n",
       " 'bristol_mail_centre_bridgwater_do_T0076',\n",
       " 'bristol_mail_centre_bridgwater_do_T0079',\n",
       " 'bristol_mail_centre_bridgwater_do_T0092',\n",
       " 'bristol_mail_centre_bridgwater_do_T0093',\n",
       " 'bristol_mail_centre_bridgwater_do_T0094',\n",
       " 'bristol_mail_centre_bridgwater_do_T0095',\n",
       " 'bristol_mail_centre_bristol_city_do_T0001',\n",
       " 'bristol_mail_centre_bristol_city_do_T0003',\n",
       " 'bristol_mail_centre_bristol_city_do_T0030',\n",
       " 'bristol_mail_centre_bristol_city_do_T0041',\n",
       " 'bristol_mail_centre_bristol_city_do_T0064',\n",
       " 'bristol_mail_centre_bristol_city_do_T0076',\n",
       " 'bristol_mail_centre_bristol_city_do_T0079',\n",
       " 'bristol_mail_centre_bristol_city_do_T0092',\n",
       " 'bristol_mail_centre_bristol_city_do_T0093',\n",
       " 'bristol_mail_centre_bristol_city_do_T0094',\n",
       " 'bristol_mail_centre_bristol_city_do_T0095',\n",
       " 'bristol_mail_centre_bristol_east_central_do_T0001',\n",
       " 'bristol_mail_centre_bristol_east_central_do_T0003',\n",
       " 'bristol_mail_centre_bristol_east_central_do_T0030',\n",
       " 'bristol_mail_centre_bristol_east_central_do_T0064',\n",
       " 'bristol_mail_centre_bristol_east_central_do_T0076',\n",
       " 'bristol_mail_centre_bristol_east_central_do_T0079',\n",
       " 'bristol_mail_centre_bristol_east_central_do_T0092',\n",
       " 'bristol_mail_centre_bristol_east_central_do_T0093',\n",
       " 'bristol_mail_centre_bristol_east_central_do_T0094',\n",
       " 'bristol_mail_centre_bristol_east_central_do_T0095',\n",
       " 'bristol_mail_centre_bristol_east_do_T0001',\n",
       " 'bristol_mail_centre_bristol_east_do_T0003',\n",
       " 'bristol_mail_centre_bristol_east_do_T0030',\n",
       " 'bristol_mail_centre_bristol_east_do_T0041',\n",
       " 'bristol_mail_centre_bristol_east_do_T0064',\n",
       " 'bristol_mail_centre_bristol_east_do_T0076',\n",
       " 'bristol_mail_centre_bristol_east_do_T0079',\n",
       " 'bristol_mail_centre_bristol_east_do_T0092',\n",
       " 'bristol_mail_centre_bristol_east_do_T0093',\n",
       " 'bristol_mail_centre_bristol_east_do_T0094',\n",
       " 'bristol_mail_centre_bristol_east_do_T0095',\n",
       " 'bristol_mail_centre_bristol_fishponds_do_T0001',\n",
       " 'bristol_mail_centre_bristol_fishponds_do_T0003',\n",
       " 'bristol_mail_centre_bristol_fishponds_do_T0030',\n",
       " 'bristol_mail_centre_bristol_fishponds_do_T0041',\n",
       " 'bristol_mail_centre_bristol_fishponds_do_T0064',\n",
       " 'bristol_mail_centre_bristol_fishponds_do_T0076',\n",
       " 'bristol_mail_centre_bristol_fishponds_do_T0079',\n",
       " 'bristol_mail_centre_bristol_fishponds_do_T0092',\n",
       " 'bristol_mail_centre_bristol_fishponds_do_T0093',\n",
       " 'bristol_mail_centre_bristol_fishponds_do_T0094',\n",
       " 'bristol_mail_centre_bristol_fishponds_do_T0095',\n",
       " 'bristol_mail_centre_bristol_north_do_T0001',\n",
       " 'bristol_mail_centre_bristol_north_do_T0003',\n",
       " 'bristol_mail_centre_bristol_north_do_T0030',\n",
       " 'bristol_mail_centre_bristol_north_do_T0041',\n",
       " 'bristol_mail_centre_bristol_north_do_T0064',\n",
       " 'bristol_mail_centre_bristol_north_do_T0076',\n",
       " 'bristol_mail_centre_bristol_north_do_T0079',\n",
       " 'bristol_mail_centre_bristol_north_do_T0092',\n",
       " 'bristol_mail_centre_bristol_north_do_T0093',\n",
       " 'bristol_mail_centre_bristol_north_do_T0094',\n",
       " 'bristol_mail_centre_bristol_north_do_T0095',\n",
       " 'bristol_mail_centre_bristol_south_do_T0001',\n",
       " 'bristol_mail_centre_bristol_south_do_T0003',\n",
       " 'bristol_mail_centre_bristol_south_do_T0030',\n",
       " 'bristol_mail_centre_bristol_south_do_T0041',\n",
       " 'bristol_mail_centre_bristol_south_do_T0064',\n",
       " 'bristol_mail_centre_bristol_south_do_T0076',\n",
       " 'bristol_mail_centre_bristol_south_do_T0079',\n",
       " 'bristol_mail_centre_bristol_south_do_T0092',\n",
       " 'bristol_mail_centre_bristol_south_do_T0093',\n",
       " 'bristol_mail_centre_bristol_south_do_T0094',\n",
       " 'bristol_mail_centre_bristol_south_do_T0095',\n",
       " 'bristol_mail_centre_bristol_south_east_do_T0001',\n",
       " 'bristol_mail_centre_bristol_south_east_do_T0003',\n",
       " 'bristol_mail_centre_bristol_south_east_do_T0030',\n",
       " 'bristol_mail_centre_bristol_south_east_do_T0041',\n",
       " 'bristol_mail_centre_bristol_south_east_do_T0064',\n",
       " 'bristol_mail_centre_bristol_south_east_do_T0076',\n",
       " 'bristol_mail_centre_bristol_south_east_do_T0079',\n",
       " 'bristol_mail_centre_bristol_south_east_do_T0092',\n",
       " 'bristol_mail_centre_bristol_south_east_do_T0093',\n",
       " 'bristol_mail_centre_bristol_south_east_do_T0094',\n",
       " 'bristol_mail_centre_bristol_south_east_do_T0095',\n",
       " 'bristol_mail_centre_burnham_on_sea_do_T0001',\n",
       " 'bristol_mail_centre_burnham_on_sea_do_T0003',\n",
       " 'bristol_mail_centre_burnham_on_sea_do_T0030',\n",
       " 'bristol_mail_centre_burnham_on_sea_do_T0064',\n",
       " 'bristol_mail_centre_burnham_on_sea_do_T0076',\n",
       " 'bristol_mail_centre_burnham_on_sea_do_T0079',\n",
       " 'bristol_mail_centre_burnham_on_sea_do_T0092',\n",
       " 'bristol_mail_centre_burnham_on_sea_do_T0093',\n",
       " 'bristol_mail_centre_burnham_on_sea_do_T0094',\n",
       " 'bristol_mail_centre_burnham_on_sea_do_T0095',\n",
       " 'bristol_mail_centre_chard_do_T0001',\n",
       " 'bristol_mail_centre_chard_do_T0003',\n",
       " 'bristol_mail_centre_chard_do_T0030',\n",
       " 'bristol_mail_centre_chard_do_T0064',\n",
       " 'bristol_mail_centre_chard_do_T0076',\n",
       " 'bristol_mail_centre_chard_do_T0079',\n",
       " 'bristol_mail_centre_chard_do_T0092',\n",
       " 'bristol_mail_centre_chard_do_T0093',\n",
       " 'bristol_mail_centre_chard_do_T0094',\n",
       " 'bristol_mail_centre_chard_do_T0095',\n",
       " 'bristol_mail_centre_cheddar_do_T0001',\n",
       " 'bristol_mail_centre_cheddar_do_T0003',\n",
       " 'bristol_mail_centre_cheddar_do_T0030',\n",
       " 'bristol_mail_centre_cheddar_do_T0064',\n",
       " 'bristol_mail_centre_cheddar_do_T0076',\n",
       " 'bristol_mail_centre_cheddar_do_T0079',\n",
       " 'bristol_mail_centre_cheddar_do_T0092',\n",
       " 'bristol_mail_centre_cheddar_do_T0093',\n",
       " 'bristol_mail_centre_cheddar_do_T0094',\n",
       " 'bristol_mail_centre_cheddar_do_T0095',\n",
       " 'bristol_mail_centre_cheltenham_do_T0001',\n",
       " 'bristol_mail_centre_cheltenham_do_T0003',\n",
       " 'bristol_mail_centre_cheltenham_do_T0030',\n",
       " 'bristol_mail_centre_cheltenham_do_T0064',\n",
       " 'bristol_mail_centre_cheltenham_do_T0076',\n",
       " 'bristol_mail_centre_cheltenham_do_T0079',\n",
       " 'bristol_mail_centre_cheltenham_do_T0092',\n",
       " 'bristol_mail_centre_cheltenham_do_T0093',\n",
       " 'bristol_mail_centre_cheltenham_do_T0094',\n",
       " 'bristol_mail_centre_cheltenham_do_T0095',\n",
       " 'bristol_mail_centre_cinderford_do_T0001',\n",
       " 'bristol_mail_centre_cinderford_do_T0003',\n",
       " 'bristol_mail_centre_cinderford_do_T0030',\n",
       " 'bristol_mail_centre_cinderford_do_T0064',\n",
       " 'bristol_mail_centre_cinderford_do_T0076',\n",
       " 'bristol_mail_centre_cinderford_do_T0079',\n",
       " 'bristol_mail_centre_cinderford_do_T0092',\n",
       " 'bristol_mail_centre_cinderford_do_T0093',\n",
       " 'bristol_mail_centre_cinderford_do_T0094',\n",
       " 'bristol_mail_centre_cinderford_do_T0095',\n",
       " 'bristol_mail_centre_cirencester_do_T0001',\n",
       " 'bristol_mail_centre_cirencester_do_T0003',\n",
       " 'bristol_mail_centre_cirencester_do_T0030',\n",
       " 'bristol_mail_centre_cirencester_do_T0064',\n",
       " 'bristol_mail_centre_cirencester_do_T0076',\n",
       " 'bristol_mail_centre_cirencester_do_T0079',\n",
       " 'bristol_mail_centre_cirencester_do_T0092',\n",
       " 'bristol_mail_centre_cirencester_do_T0093',\n",
       " 'bristol_mail_centre_cirencester_do_T0094',\n",
       " 'bristol_mail_centre_cirencester_do_T0095',\n",
       " 'bristol_mail_centre_clevedon_do_T0001',\n",
       " 'bristol_mail_centre_clevedon_do_T0003',\n",
       " 'bristol_mail_centre_clevedon_do_T0030',\n",
       " 'bristol_mail_centre_clevedon_do_T0041',\n",
       " 'bristol_mail_centre_clevedon_do_T0064',\n",
       " 'bristol_mail_centre_clevedon_do_T0076',\n",
       " 'bristol_mail_centre_clevedon_do_T0079',\n",
       " 'bristol_mail_centre_clevedon_do_T0092',\n",
       " 'bristol_mail_centre_clevedon_do_T0093',\n",
       " 'bristol_mail_centre_clevedon_do_T0094',\n",
       " 'bristol_mail_centre_clevedon_do_T0095',\n",
       " 'bristol_mail_centre_clifton_bs_do_T0001',\n",
       " 'bristol_mail_centre_clifton_bs_do_T0003',\n",
       " 'bristol_mail_centre_clifton_bs_do_T0030',\n",
       " 'bristol_mail_centre_clifton_bs_do_T0041',\n",
       " 'bristol_mail_centre_clifton_bs_do_T0064',\n",
       " 'bristol_mail_centre_clifton_bs_do_T0076',\n",
       " 'bristol_mail_centre_clifton_bs_do_T0079',\n",
       " 'bristol_mail_centre_clifton_bs_do_T0092',\n",
       " 'bristol_mail_centre_clifton_bs_do_T0093',\n",
       " 'bristol_mail_centre_clifton_bs_do_T0094',\n",
       " 'bristol_mail_centre_clifton_bs_do_T0095',\n",
       " 'bristol_mail_centre_coleford_do_T0001',\n",
       " 'bristol_mail_centre_coleford_do_T0003',\n",
       " 'bristol_mail_centre_coleford_do_T0030',\n",
       " 'bristol_mail_centre_coleford_do_T0064',\n",
       " 'bristol_mail_centre_coleford_do_T0076',\n",
       " 'bristol_mail_centre_coleford_do_T0079',\n",
       " 'bristol_mail_centre_coleford_do_T0092',\n",
       " 'bristol_mail_centre_coleford_do_T0093',\n",
       " 'bristol_mail_centre_coleford_do_T0094',\n",
       " 'bristol_mail_centre_coleford_do_T0095',\n",
       " 'bristol_mail_centre_crewkerne_do_T0001',\n",
       " 'bristol_mail_centre_crewkerne_do_T0003',\n",
       " 'bristol_mail_centre_crewkerne_do_T0030',\n",
       " 'bristol_mail_centre_crewkerne_do_T0064',\n",
       " 'bristol_mail_centre_crewkerne_do_T0076',\n",
       " 'bristol_mail_centre_crewkerne_do_T0079',\n",
       " 'bristol_mail_centre_crewkerne_do_T0092',\n",
       " 'bristol_mail_centre_crewkerne_do_T0093',\n",
       " 'bristol_mail_centre_crewkerne_do_T0094',\n",
       " 'bristol_mail_centre_crewkerne_do_T0095',\n",
       " 'bristol_mail_centre_dursley_do_T0001',\n",
       " 'bristol_mail_centre_dursley_do_T0003',\n",
       " 'bristol_mail_centre_dursley_do_T0030',\n",
       " 'bristol_mail_centre_dursley_do_T0064',\n",
       " 'bristol_mail_centre_dursley_do_T0076',\n",
       " 'bristol_mail_centre_dursley_do_T0079',\n",
       " 'bristol_mail_centre_dursley_do_T0092',\n",
       " 'bristol_mail_centre_dursley_do_T0093',\n",
       " 'bristol_mail_centre_dursley_do_T0094',\n",
       " 'bristol_mail_centre_dursley_do_T0095',\n",
       " 'bristol_mail_centre_frome_do_T0001',\n",
       " 'bristol_mail_centre_frome_do_T0003',\n",
       " 'bristol_mail_centre_frome_do_T0030',\n",
       " 'bristol_mail_centre_frome_do_T0064',\n",
       " 'bristol_mail_centre_frome_do_T0076',\n",
       " 'bristol_mail_centre_frome_do_T0079',\n",
       " 'bristol_mail_centre_frome_do_T0092',\n",
       " 'bristol_mail_centre_frome_do_T0093',\n",
       " 'bristol_mail_centre_frome_do_T0094',\n",
       " 'bristol_mail_centre_frome_do_T0095',\n",
       " 'bristol_mail_centre_glastonbury_do_T0001',\n",
       " 'bristol_mail_centre_glastonbury_do_T0003',\n",
       " 'bristol_mail_centre_glastonbury_do_T0030',\n",
       " 'bristol_mail_centre_glastonbury_do_T0064',\n",
       " 'bristol_mail_centre_glastonbury_do_T0076',\n",
       " 'bristol_mail_centre_glastonbury_do_T0079',\n",
       " 'bristol_mail_centre_glastonbury_do_T0092',\n",
       " 'bristol_mail_centre_glastonbury_do_T0093',\n",
       " 'bristol_mail_centre_glastonbury_do_T0094',\n",
       " 'bristol_mail_centre_glastonbury_do_T0095',\n",
       " 'bristol_mail_centre_gloucester_north_do_T0001',\n",
       " 'bristol_mail_centre_gloucester_north_do_T0003',\n",
       " 'bristol_mail_centre_gloucester_north_do_T0030',\n",
       " 'bristol_mail_centre_gloucester_north_do_T0076',\n",
       " 'bristol_mail_centre_gloucester_north_do_T0079',\n",
       " 'bristol_mail_centre_gloucester_north_do_T0092',\n",
       " 'bristol_mail_centre_gloucester_north_do_T0093',\n",
       " 'bristol_mail_centre_gloucester_north_do_T0094',\n",
       " 'bristol_mail_centre_gloucester_north_do_T0095',\n",
       " 'bristol_mail_centre_gloucester_south_do_T0001',\n",
       " 'bristol_mail_centre_gloucester_south_do_T0003',\n",
       " 'bristol_mail_centre_gloucester_south_do_T0030',\n",
       " 'bristol_mail_centre_gloucester_south_do_T0064',\n",
       " 'bristol_mail_centre_gloucester_south_do_T0076',\n",
       " 'bristol_mail_centre_gloucester_south_do_T0079',\n",
       " 'bristol_mail_centre_gloucester_south_do_T0092',\n",
       " 'bristol_mail_centre_gloucester_south_do_T0093',\n",
       " 'bristol_mail_centre_gloucester_south_do_T0094',\n",
       " 'bristol_mail_centre_gloucester_south_do_T0095',\n",
       " 'bristol_mail_centre_keynsham_do_T0001',\n",
       " 'bristol_mail_centre_keynsham_do_T0003',\n",
       " 'bristol_mail_centre_keynsham_do_T0030',\n",
       " 'bristol_mail_centre_keynsham_do_T0041',\n",
       " 'bristol_mail_centre_keynsham_do_T0064',\n",
       " 'bristol_mail_centre_keynsham_do_T0076',\n",
       " 'bristol_mail_centre_keynsham_do_T0079',\n",
       " 'bristol_mail_centre_keynsham_do_T0092',\n",
       " 'bristol_mail_centre_keynsham_do_T0093',\n",
       " 'bristol_mail_centre_keynsham_do_T0094',\n",
       " 'bristol_mail_centre_keynsham_do_T0095',\n",
       " 'bristol_mail_centre_kingswood_do_T0001',\n",
       " 'bristol_mail_centre_kingswood_do_T0003',\n",
       " 'bristol_mail_centre_kingswood_do_T0030',\n",
       " 'bristol_mail_centre_kingswood_do_T0041',\n",
       " 'bristol_mail_centre_kingswood_do_T0076',\n",
       " 'bristol_mail_centre_kingswood_do_T0079',\n",
       " 'bristol_mail_centre_kingswood_do_T0092',\n",
       " 'bristol_mail_centre_kingswood_do_T0093',\n",
       " 'bristol_mail_centre_kingswood_do_T0094',\n",
       " 'bristol_mail_centre_kingswood_do_T0095',\n",
       " 'bristol_mail_centre_langport_do_T0001',\n",
       " 'bristol_mail_centre_langport_do_T0003',\n",
       " 'bristol_mail_centre_langport_do_T0030',\n",
       " 'bristol_mail_centre_langport_do_T0064',\n",
       " 'bristol_mail_centre_langport_do_T0076',\n",
       " 'bristol_mail_centre_langport_do_T0079',\n",
       " 'bristol_mail_centre_langport_do_T0092',\n",
       " 'bristol_mail_centre_langport_do_T0093',\n",
       " 'bristol_mail_centre_langport_do_T0094',\n",
       " 'bristol_mail_centre_langport_do_T0095',\n",
       " 'bristol_mail_centre_lydney_do_T0001',\n",
       " 'bristol_mail_centre_lydney_do_T0003',\n",
       " 'bristol_mail_centre_lydney_do_T0030',\n",
       " 'bristol_mail_centre_lydney_do_T0064',\n",
       " 'bristol_mail_centre_lydney_do_T0076',\n",
       " 'bristol_mail_centre_lydney_do_T0079',\n",
       " 'bristol_mail_centre_lydney_do_T0092',\n",
       " 'bristol_mail_centre_lydney_do_T0093',\n",
       " 'bristol_mail_centre_lydney_do_T0094',\n",
       " 'bristol_mail_centre_lydney_do_T0095',\n",
       " 'bristol_mail_centre_minehead_do_T0001',\n",
       " 'bristol_mail_centre_minehead_do_T0003',\n",
       " 'bristol_mail_centre_minehead_do_T0030',\n",
       " 'bristol_mail_centre_minehead_do_T0064',\n",
       " 'bristol_mail_centre_minehead_do_T0076',\n",
       " 'bristol_mail_centre_minehead_do_T0079',\n",
       " 'bristol_mail_centre_minehead_do_T0092',\n",
       " 'bristol_mail_centre_minehead_do_T0093',\n",
       " 'bristol_mail_centre_minehead_do_T0094',\n",
       " 'bristol_mail_centre_minehead_do_T0095',\n",
       " 'bristol_mail_centre_nailsea_do_T0001',\n",
       " 'bristol_mail_centre_nailsea_do_T0003',\n",
       " 'bristol_mail_centre_nailsea_do_T0030',\n",
       " 'bristol_mail_centre_nailsea_do_T0041',\n",
       " 'bristol_mail_centre_nailsea_do_T0064',\n",
       " 'bristol_mail_centre_nailsea_do_T0076',\n",
       " 'bristol_mail_centre_nailsea_do_T0079',\n",
       " 'bristol_mail_centre_nailsea_do_T0092',\n",
       " 'bristol_mail_centre_nailsea_do_T0093',\n",
       " 'bristol_mail_centre_nailsea_do_T0094',\n",
       " 'bristol_mail_centre_nailsea_do_T0095',\n",
       " 'bristol_mail_centre_patchway_do_T0001',\n",
       " 'bristol_mail_centre_patchway_do_T0003',\n",
       " 'bristol_mail_centre_patchway_do_T0030',\n",
       " 'bristol_mail_centre_patchway_do_T0041',\n",
       " 'bristol_mail_centre_patchway_do_T0064',\n",
       " 'bristol_mail_centre_patchway_do_T0076',\n",
       " 'bristol_mail_centre_patchway_do_T0079',\n",
       " 'bristol_mail_centre_patchway_do_T0092',\n",
       " 'bristol_mail_centre_patchway_do_T0093',\n",
       " 'bristol_mail_centre_patchway_do_T0094',\n",
       " 'bristol_mail_centre_patchway_do_T0095',\n",
       " 'bristol_mail_centre_portishead_do_T0001',\n",
       " 'bristol_mail_centre_portishead_do_T0003',\n",
       " 'bristol_mail_centre_portishead_do_T0030',\n",
       " 'bristol_mail_centre_portishead_do_T0041',\n",
       " 'bristol_mail_centre_portishead_do_T0064',\n",
       " 'bristol_mail_centre_portishead_do_T0076',\n",
       " 'bristol_mail_centre_portishead_do_T0079',\n",
       " 'bristol_mail_centre_portishead_do_T0092',\n",
       " 'bristol_mail_centre_portishead_do_T0093',\n",
       " 'bristol_mail_centre_portishead_do_T0094',\n",
       " 'bristol_mail_centre_portishead_do_T0095',\n",
       " 'bristol_mail_centre_radstock_do_T0001',\n",
       " 'bristol_mail_centre_radstock_do_T0003',\n",
       " 'bristol_mail_centre_radstock_do_T0030',\n",
       " 'bristol_mail_centre_radstock_do_T0064',\n",
       " 'bristol_mail_centre_radstock_do_T0076',\n",
       " 'bristol_mail_centre_radstock_do_T0079',\n",
       " 'bristol_mail_centre_radstock_do_T0092',\n",
       " 'bristol_mail_centre_radstock_do_T0093',\n",
       " 'bristol_mail_centre_radstock_do_T0094',\n",
       " 'bristol_mail_centre_radstock_do_T0095',\n",
       " 'bristol_mail_centre_shepton_mallet_do_T0001',\n",
       " 'bristol_mail_centre_shepton_mallet_do_T0003',\n",
       " 'bristol_mail_centre_shepton_mallet_do_T0030',\n",
       " 'bristol_mail_centre_shepton_mallet_do_T0064',\n",
       " 'bristol_mail_centre_shepton_mallet_do_T0076',\n",
       " 'bristol_mail_centre_shepton_mallet_do_T0079',\n",
       " 'bristol_mail_centre_shepton_mallet_do_T0092',\n",
       " 'bristol_mail_centre_shepton_mallet_do_T0093',\n",
       " 'bristol_mail_centre_shepton_mallet_do_T0094',\n",
       " 'bristol_mail_centre_shepton_mallet_do_T0095',\n",
       " 'bristol_mail_centre_somerton_do_T0001',\n",
       " 'bristol_mail_centre_somerton_do_T0003',\n",
       " 'bristol_mail_centre_somerton_do_T0030',\n",
       " 'bristol_mail_centre_somerton_do_T0064',\n",
       " 'bristol_mail_centre_somerton_do_T0076',\n",
       " 'bristol_mail_centre_somerton_do_T0079',\n",
       " 'bristol_mail_centre_somerton_do_T0092',\n",
       " 'bristol_mail_centre_somerton_do_T0093',\n",
       " 'bristol_mail_centre_somerton_do_T0094',\n",
       " 'bristol_mail_centre_somerton_do_T0095',\n",
       " 'bristol_mail_centre_stroud_do_T0001',\n",
       " 'bristol_mail_centre_stroud_do_T0003',\n",
       " 'bristol_mail_centre_stroud_do_T0030',\n",
       " 'bristol_mail_centre_stroud_do_T0064',\n",
       " 'bristol_mail_centre_stroud_do_T0076',\n",
       " 'bristol_mail_centre_stroud_do_T0079',\n",
       " 'bristol_mail_centre_stroud_do_T0092',\n",
       " 'bristol_mail_centre_stroud_do_T0093',\n",
       " 'bristol_mail_centre_stroud_do_T0094',\n",
       " 'bristol_mail_centre_stroud_do_T0095',\n",
       " 'bristol_mail_centre_taunton_do_T0001',\n",
       " 'bristol_mail_centre_taunton_do_T0003',\n",
       " 'bristol_mail_centre_taunton_do_T0030',\n",
       " 'bristol_mail_centre_taunton_do_T0041',\n",
       " 'bristol_mail_centre_taunton_do_T0064',\n",
       " 'bristol_mail_centre_taunton_do_T0076',\n",
       " 'bristol_mail_centre_taunton_do_T0079',\n",
       " ...]"
      ]
     },
     "execution_count": 13,
     "metadata": {},
     "output_type": "execute_result"
    }
   ],
   "source": [
    "os.listdir(STLARIMA_MODEL)"
   ]
  },
  {
   "cell_type": "code",
   "execution_count": 9,
   "metadata": {
    "collapsed": false
   },
   "outputs": [],
   "source": [
    "d2 = d[['Point Forecast','count']]"
   ]
  },
  {
   "cell_type": "code",
   "execution_count": 10,
   "metadata": {
    "collapsed": true
   },
   "outputs": [],
   "source": [
    "d2.columns = ['yhat','ytrue']"
   ]
  },
  {
   "cell_type": "code",
   "execution_count": 15,
   "metadata": {
    "collapsed": false
   },
   "outputs": [],
   "source": [
    "d2 = d2[d2.ytrue != 0]"
   ]
  },
  {
   "cell_type": "code",
   "execution_count": 4,
   "metadata": {
    "collapsed": false
   },
   "outputs": [
    {
     "ename": "NameError",
     "evalue": "name 'SMAPE' is not defined",
     "output_type": "error",
     "traceback": [
      "\u001b[0;31m---------------------------------------------------------------------------\u001b[0m",
      "\u001b[0;31mNameError\u001b[0m                                 Traceback (most recent call last)",
      "\u001b[0;32m<ipython-input-4-f6fbbdbcbc79>\u001b[0m in \u001b[0;36m<module>\u001b[0;34m()\u001b[0m\n\u001b[0;32m----> 1\u001b[0;31m \u001b[0mSMAPE\u001b[0m\u001b[0;34m(\u001b[0m\u001b[0md2\u001b[0m\u001b[0;34m.\u001b[0m\u001b[0mytrue\u001b[0m\u001b[0;34m,\u001b[0m\u001b[0md2\u001b[0m\u001b[0;34m.\u001b[0m\u001b[0myhat\u001b[0m\u001b[0;34m)\u001b[0m\u001b[0;34m\u001b[0m\u001b[0m\n\u001b[0m",
      "\u001b[0;31mNameError\u001b[0m: name 'SMAPE' is not defined"
     ]
    }
   ],
   "source": [
    "SMAPE(d2.ytrue,d2.yhat)"
   ]
  },
  {
   "cell_type": "markdown",
   "metadata": {},
   "source": [
    "# STL MODEL "
   ]
  },
  {
   "cell_type": "code",
   "execution_count": 230,
   "metadata": {
    "collapsed": false
   },
   "outputs": [],
   "source": [
    "d = pd.read_csv(os.path.join(STL_MODEL,'warrington_mail_centre_woolton_do_T0003.test'))"
   ]
  },
  {
   "cell_type": "code",
   "execution_count": 236,
   "metadata": {
    "collapsed": true
   },
   "outputs": [],
   "source": [
    "def load_folder_stl(folder):\n",
    "    res = []\n",
    "    list_files = [ f for f in os.listdir(folder) if f.endswith('test')]\n",
    "    for f in tqdm(os.listdir(folder),total=len(os.listdir(folder))):\n",
    "        try:\n",
    "            if f.endswith('test'):\n",
    "                res.append(pd.read_csv(os.path.join(folder,f),\n",
    "                                               parse_dates=['date'],\n",
    "                                               date_parser=lambda x: pd.to_datetime(x, format='%Y/%m/%d')))\n",
    "        except:\n",
    "            pass\n",
    "    forecast = pd.concat(res)\n",
    "    forecast = forecast.set_index('date')\n",
    "    return forecast"
   ]
  },
  {
   "cell_type": "code",
   "execution_count": 237,
   "metadata": {
    "collapsed": false
   },
   "outputs": [
    {
     "name": "stderr",
     "output_type": "stream",
     "text": [
      "100%|██████████| 25190/25190 [03:01<00:00, 138.53it/s]\n"
     ]
    }
   ],
   "source": [
    "stl = load_folder_stl(STL_MODEL)"
   ]
  },
  {
   "cell_type": "code",
   "execution_count": 239,
   "metadata": {
    "collapsed": false
   },
   "outputs": [
    {
     "data": {
      "text/plain": [
       "26.059499221963456"
      ]
     },
     "execution_count": 239,
     "metadata": {},
     "output_type": "execute_result"
    }
   ],
   "source": [
    "SMAPE(stl.yhat,stl.ytrue)"
   ]
  },
  {
   "cell_type": "code",
   "execution_count": 243,
   "metadata": {
    "collapsed": true
   },
   "outputs": [],
   "source": [
    "st =  stl[stl.ytrue!=0].drop_duplicates()"
   ]
  },
  {
   "cell_type": "code",
   "execution_count": 247,
   "metadata": {
    "collapsed": false
   },
   "outputs": [
    {
     "data": {
      "text/plain": [
       "20.845729557285601"
      ]
     },
     "execution_count": 247,
     "metadata": {},
     "output_type": "execute_result"
    }
   ],
   "source": [
    "SMAPE(st.yhat,st.ytrue)"
   ]
  },
  {
   "cell_type": "code",
   "execution_count": null,
   "metadata": {
    "collapsed": false
   },
   "outputs": [],
   "source": [
    "SMAPE(an.yhat,an.ytrue)"
   ]
  },
  {
   "cell_type": "markdown",
   "metadata": {},
   "source": [
    "# metrics\n"
   ]
  },
  {
   "cell_type": "code",
   "execution_count": 12,
   "metadata": {
    "collapsed": true
   },
   "outputs": [],
   "source": [
    "def SMAPE(y,yhat):\n",
    "    return np.nanmean(np.abs(y-yhat)/((y+yhat)/2.0))*100\n",
    "\n",
    "def load_folder(folder):\n",
    "    res = []\n",
    "    for f in tqdm(os.listdir(folder),total=len(os.listdir(folder))):\n",
    "        if f == 'errors.csv':\n",
    "            pass\n",
    "        else:\n",
    "            try:\n",
    "                res.append(pd.read_csv(os.path.join(folder,f),\n",
    "                                               parse_dates=['date'],\n",
    "                                               date_parser=lambda x: pd.to_datetime(x, format='%Y/%m/%d')))\n",
    "            except:\n",
    "                pass\n",
    "    forecast = pd.concat(res)\n",
    "    forecast = forecast.set_index('date')\n",
    "    return forecast"
   ]
  },
  {
   "cell_type": "code",
   "execution_count": 190,
   "metadata": {
    "collapsed": false
   },
   "outputs": [],
   "source": [
    "d = pd.read_csv(os.path.join(MODELS_DIR,'ANA_MODEL','Model_for_all_AG_30days.csv'))"
   ]
  },
  {
   "cell_type": "code",
   "execution_count": 198,
   "metadata": {
    "collapsed": false
   },
   "outputs": [],
   "source": [
    "good_cols = ['Point Forecast','date','Lo 80','Hi 80','Lo 95','stream','mc','format','DO','count']\n",
    "dd = d[good_cols]\n",
    "dd.columns = ['yhat','date','Lo80','Hi80','Lo95','stream','MC','format','DO','ytrue']"
   ]
  },
  {
   "cell_type": "code",
   "execution_count": 201,
   "metadata": {
    "collapsed": false
   },
   "outputs": [],
   "source": [
    "final = dd"
   ]
  },
  {
   "cell_type": "code",
   "execution_count": 181,
   "metadata": {
    "collapsed": true
   },
   "outputs": [],
   "source": [
    "d = pd.read_csv(os.path.join(STL_MODEL,'greenford_mail_centre_hayes_do_T0001.test'))"
   ]
  },
  {
   "cell_type": "code",
   "execution_count": 182,
   "metadata": {
    "collapsed": false
   },
   "outputs": [
    {
     "data": {
      "text/plain": [
       "[<matplotlib.lines.Line2D at 0x115eb3150>]"
      ]
     },
     "execution_count": 182,
     "metadata": {},
     "output_type": "execute_result"
    },
    {
     "data": {
      "image/png": "[encoded data removed]",
      "text/plain": [
       "<matplotlib.figure.Figure at 0x10ddca510>"
      ]
     },
     "metadata": {},
     "output_type": "display_data"
    }
   ],
   "source": [
    "plt.plot(d.ytrue)\n",
    "plt.plot(d.Lo80)\n",
    "plt.plot(d.yhat)\n",
    "plt.plot(d.Hi80)"
   ]
  },
  {
   "cell_type": "markdown",
   "metadata": {},
   "source": [
    "# Benchmark RM"
   ]
  },
  {
   "cell_type": "code",
   "execution_count": 17,
   "metadata": {
    "collapsed": false
   },
   "outputs": [
    {
     "name": "stderr",
     "output_type": "stream",
     "text": [
      "100%|██████████| 12900/12900 [00:40<00:00, 315.68it/s]\n"
     ]
    }
   ],
   "source": [
    "ana = load_folder(ANA_MODEL)"
   ]
  },
  {
   "cell_type": "code",
   "execution_count": 209,
   "metadata": {
    "collapsed": false
   },
   "outputs": [],
   "source": [
    "an = ana[ana.ytrue!=0]"
   ]
  },
  {
   "cell_type": "code",
   "execution_count": 213,
   "metadata": {
    "collapsed": false
   },
   "outputs": [],
   "source": [
    "an['day'] = map(lambda x:x.strftime('%A'),an.index)"
   ]
  },
  {
   "cell_type": "code",
   "execution_count": 223,
   "metadata": {
    "collapsed": false
   },
   "outputs": [
    {
     "data": {
      "text/plain": [
       "22.469144389982741"
      ]
     },
     "execution_count": 223,
     "metadata": {},
     "output_type": "execute_result"
    }
   ],
   "source": [
    "SMAPE(an[an.day!= 'Sunday'].ytrue,an[an.day!= 'Sunday'].yhat)"
   ]
  },
  {
   "cell_type": "code",
   "execution_count": 226,
   "metadata": {
    "collapsed": false
   },
   "outputs": [
    {
     "data": {
      "text/plain": [
       "494818"
      ]
     },
     "execution_count": 226,
     "metadata": {},
     "output_type": "execute_result"
    }
   ],
   "source": [
    "len(bench)"
   ]
  },
  {
   "cell_type": "code",
   "execution_count": 228,
   "metadata": {
    "collapsed": false
   },
   "outputs": [
    {
     "ename": "KeyError",
     "evalue": "\"Cannot get left slice bound for non-unique label: Timestamp('2016-05-09 00:00:00')\"",
     "output_type": "error",
     "traceback": [
      "\u001b[0;31m---------------------------------------------------------------------------\u001b[0m",
      "\u001b[0;31mKeyError\u001b[0m                                  Traceback (most recent call last)",
      "\u001b[0;32m<ipython-input-228-5365338caf69>\u001b[0m in \u001b[0;36m<module>\u001b[0;34m()\u001b[0m\n\u001b[0;32m----> 1\u001b[0;31m \u001b[0mlen\u001b[0m\u001b[0;34m(\u001b[0m\u001b[0mforecast\u001b[0m\u001b[0;34m[\u001b[0m\u001b[0mbench\u001b[0m\u001b[0;34m.\u001b[0m\u001b[0mindex\u001b[0m\u001b[0;34m.\u001b[0m\u001b[0mmin\u001b[0m\u001b[0;34m(\u001b[0m\u001b[0;34m)\u001b[0m\u001b[0;34m:\u001b[0m\u001b[0mbench\u001b[0m\u001b[0;34m.\u001b[0m\u001b[0mindex\u001b[0m\u001b[0;34m.\u001b[0m\u001b[0mmax\u001b[0m\u001b[0;34m(\u001b[0m\u001b[0;34m)\u001b[0m\u001b[0;34m]\u001b[0m\u001b[0;34m)\u001b[0m\u001b[0;34m\u001b[0m\u001b[0m\n\u001b[0m",
      "\u001b[0;32m/Users/cthorey/miniconda2/envs/py27/lib/python2.7/site-packages/pandas/core/frame.pyc\u001b[0m in \u001b[0;36m__getitem__\u001b[0;34m(self, key)\u001b[0m\n\u001b[1;32m   1983\u001b[0m \u001b[0;34m\u001b[0m\u001b[0m\n\u001b[1;32m   1984\u001b[0m         \u001b[0;31m# see if we can slice the rows\u001b[0m\u001b[0;34m\u001b[0m\u001b[0;34m\u001b[0m\u001b[0m\n\u001b[0;32m-> 1985\u001b[0;31m         \u001b[0mindexer\u001b[0m \u001b[0;34m=\u001b[0m \u001b[0mconvert_to_index_sliceable\u001b[0m\u001b[0;34m(\u001b[0m\u001b[0mself\u001b[0m\u001b[0;34m,\u001b[0m \u001b[0mkey\u001b[0m\u001b[0;34m)\u001b[0m\u001b[0;34m\u001b[0m\u001b[0m\n\u001b[0m\u001b[1;32m   1986\u001b[0m         \u001b[0;32mif\u001b[0m \u001b[0mindexer\u001b[0m \u001b[0;32mis\u001b[0m \u001b[0;32mnot\u001b[0m \u001b[0mNone\u001b[0m\u001b[0;34m:\u001b[0m\u001b[0;34m\u001b[0m\u001b[0m\n\u001b[1;32m   1987\u001b[0m             \u001b[0;32mreturn\u001b[0m \u001b[0mself\u001b[0m\u001b[0;34m.\u001b[0m\u001b[0m_getitem_slice\u001b[0m\u001b[0;34m(\u001b[0m\u001b[0mindexer\u001b[0m\u001b[0;34m)\u001b[0m\u001b[0;34m\u001b[0m\u001b[0m\n",
      "\u001b[0;32m/Users/cthorey/miniconda2/envs/py27/lib/python2.7/site-packages/pandas/core/indexing.pyc\u001b[0m in \u001b[0;36mconvert_to_index_sliceable\u001b[0;34m(obj, key)\u001b[0m\n\u001b[1;32m   1756\u001b[0m     \u001b[0midx\u001b[0m \u001b[0;34m=\u001b[0m \u001b[0mobj\u001b[0m\u001b[0;34m.\u001b[0m\u001b[0mindex\u001b[0m\u001b[0;34m\u001b[0m\u001b[0m\n\u001b[1;32m   1757\u001b[0m     \u001b[0;32mif\u001b[0m \u001b[0misinstance\u001b[0m\u001b[0;34m(\u001b[0m\u001b[0mkey\u001b[0m\u001b[0;34m,\u001b[0m \u001b[0mslice\u001b[0m\u001b[0;34m)\u001b[0m\u001b[0;34m:\u001b[0m\u001b[0;34m\u001b[0m\u001b[0m\n\u001b[0;32m-> 1758\u001b[0;31m         \u001b[0;32mreturn\u001b[0m \u001b[0midx\u001b[0m\u001b[0;34m.\u001b[0m\u001b[0m_convert_slice_indexer\u001b[0m\u001b[0;34m(\u001b[0m\u001b[0mkey\u001b[0m\u001b[0;34m,\u001b[0m \u001b[0mkind\u001b[0m\u001b[0;34m=\u001b[0m\u001b[0;34m'getitem'\u001b[0m\u001b[0;34m)\u001b[0m\u001b[0;34m\u001b[0m\u001b[0m\n\u001b[0m\u001b[1;32m   1759\u001b[0m \u001b[0;34m\u001b[0m\u001b[0m\n\u001b[1;32m   1760\u001b[0m     \u001b[0;32melif\u001b[0m \u001b[0misinstance\u001b[0m\u001b[0;34m(\u001b[0m\u001b[0mkey\u001b[0m\u001b[0;34m,\u001b[0m \u001b[0mcompat\u001b[0m\u001b[0;34m.\u001b[0m\u001b[0mstring_types\u001b[0m\u001b[0;34m)\u001b[0m\u001b[0;34m:\u001b[0m\u001b[0;34m\u001b[0m\u001b[0m\n",
      "\u001b[0;32m/Users/cthorey/miniconda2/envs/py27/lib/python2.7/site-packages/pandas/indexes/base.pyc\u001b[0m in \u001b[0;36m_convert_slice_indexer\u001b[0;34m(self, key, kind)\u001b[0m\n\u001b[1;32m   1077\u001b[0m         \u001b[0;32melse\u001b[0m\u001b[0;34m:\u001b[0m\u001b[0;34m\u001b[0m\u001b[0m\n\u001b[1;32m   1078\u001b[0m             \u001b[0;32mtry\u001b[0m\u001b[0;34m:\u001b[0m\u001b[0;34m\u001b[0m\u001b[0m\n\u001b[0;32m-> 1079\u001b[0;31m                 \u001b[0mindexer\u001b[0m \u001b[0;34m=\u001b[0m \u001b[0mself\u001b[0m\u001b[0;34m.\u001b[0m\u001b[0mslice_indexer\u001b[0m\u001b[0;34m(\u001b[0m\u001b[0mstart\u001b[0m\u001b[0;34m,\u001b[0m \u001b[0mstop\u001b[0m\u001b[0;34m,\u001b[0m \u001b[0mstep\u001b[0m\u001b[0;34m,\u001b[0m \u001b[0mkind\u001b[0m\u001b[0;34m=\u001b[0m\u001b[0mkind\u001b[0m\u001b[0;34m)\u001b[0m\u001b[0;34m\u001b[0m\u001b[0m\n\u001b[0m\u001b[1;32m   1080\u001b[0m             \u001b[0;32mexcept\u001b[0m \u001b[0mException\u001b[0m\u001b[0;34m:\u001b[0m\u001b[0;34m\u001b[0m\u001b[0m\n\u001b[1;32m   1081\u001b[0m                 \u001b[0;32mif\u001b[0m \u001b[0mis_index_slice\u001b[0m\u001b[0;34m:\u001b[0m\u001b[0;34m\u001b[0m\u001b[0m\n",
      "\u001b[0;32m/Users/cthorey/miniconda2/envs/py27/lib/python2.7/site-packages/pandas/tseries/index.pyc\u001b[0m in \u001b[0;36mslice_indexer\u001b[0;34m(self, start, end, step, kind)\u001b[0m\n\u001b[1;32m   1509\u001b[0m \u001b[0;34m\u001b[0m\u001b[0m\n\u001b[1;32m   1510\u001b[0m         \u001b[0;32mtry\u001b[0m\u001b[0;34m:\u001b[0m\u001b[0;34m\u001b[0m\u001b[0m\n\u001b[0;32m-> 1511\u001b[0;31m             \u001b[0;32mreturn\u001b[0m \u001b[0mIndex\u001b[0m\u001b[0;34m.\u001b[0m\u001b[0mslice_indexer\u001b[0m\u001b[0;34m(\u001b[0m\u001b[0mself\u001b[0m\u001b[0;34m,\u001b[0m \u001b[0mstart\u001b[0m\u001b[0;34m,\u001b[0m \u001b[0mend\u001b[0m\u001b[0;34m,\u001b[0m \u001b[0mstep\u001b[0m\u001b[0;34m,\u001b[0m \u001b[0mkind\u001b[0m\u001b[0;34m=\u001b[0m\u001b[0mkind\u001b[0m\u001b[0;34m)\u001b[0m\u001b[0;34m\u001b[0m\u001b[0m\n\u001b[0m\u001b[1;32m   1512\u001b[0m         \u001b[0;32mexcept\u001b[0m \u001b[0mKeyError\u001b[0m\u001b[0;34m:\u001b[0m\u001b[0;34m\u001b[0m\u001b[0m\n\u001b[1;32m   1513\u001b[0m             \u001b[0;31m# For historical reasons DatetimeIndex by default supports\u001b[0m\u001b[0;34m\u001b[0m\u001b[0;34m\u001b[0m\u001b[0m\n",
      "\u001b[0;32m/Users/cthorey/miniconda2/envs/py27/lib/python2.7/site-packages/pandas/indexes/base.pyc\u001b[0m in \u001b[0;36mslice_indexer\u001b[0;34m(self, start, end, step, kind)\u001b[0m\n\u001b[1;32m   2783\u001b[0m         \"\"\"\n\u001b[1;32m   2784\u001b[0m         start_slice, end_slice = self.slice_locs(start, end, step=step,\n\u001b[0;32m-> 2785\u001b[0;31m                                                  kind=kind)\n\u001b[0m\u001b[1;32m   2786\u001b[0m \u001b[0;34m\u001b[0m\u001b[0m\n\u001b[1;32m   2787\u001b[0m         \u001b[0;31m# return a slice\u001b[0m\u001b[0;34m\u001b[0m\u001b[0;34m\u001b[0m\u001b[0m\n",
      "\u001b[0;32m/Users/cthorey/miniconda2/envs/py27/lib/python2.7/site-packages/pandas/indexes/base.pyc\u001b[0m in \u001b[0;36mslice_locs\u001b[0;34m(self, start, end, step, kind)\u001b[0m\n\u001b[1;32m   2962\u001b[0m         \u001b[0mstart_slice\u001b[0m \u001b[0;34m=\u001b[0m \u001b[0mNone\u001b[0m\u001b[0;34m\u001b[0m\u001b[0m\n\u001b[1;32m   2963\u001b[0m         \u001b[0;32mif\u001b[0m \u001b[0mstart\u001b[0m \u001b[0;32mis\u001b[0m \u001b[0;32mnot\u001b[0m \u001b[0mNone\u001b[0m\u001b[0;34m:\u001b[0m\u001b[0;34m\u001b[0m\u001b[0m\n\u001b[0;32m-> 2964\u001b[0;31m             \u001b[0mstart_slice\u001b[0m \u001b[0;34m=\u001b[0m \u001b[0mself\u001b[0m\u001b[0;34m.\u001b[0m\u001b[0mget_slice_bound\u001b[0m\u001b[0;34m(\u001b[0m\u001b[0mstart\u001b[0m\u001b[0;34m,\u001b[0m \u001b[0;34m'left'\u001b[0m\u001b[0;34m,\u001b[0m \u001b[0mkind\u001b[0m\u001b[0;34m)\u001b[0m\u001b[0;34m\u001b[0m\u001b[0m\n\u001b[0m\u001b[1;32m   2965\u001b[0m         \u001b[0;32mif\u001b[0m \u001b[0mstart_slice\u001b[0m \u001b[0;32mis\u001b[0m \u001b[0mNone\u001b[0m\u001b[0;34m:\u001b[0m\u001b[0;34m\u001b[0m\u001b[0m\n\u001b[1;32m   2966\u001b[0m             \u001b[0mstart_slice\u001b[0m \u001b[0;34m=\u001b[0m \u001b[0;36m0\u001b[0m\u001b[0;34m\u001b[0m\u001b[0m\n",
      "\u001b[0;32m/Users/cthorey/miniconda2/envs/py27/lib/python2.7/site-packages/pandas/indexes/base.pyc\u001b[0m in \u001b[0;36mget_slice_bound\u001b[0;34m(self, label, side, kind)\u001b[0m\n\u001b[1;32m   2922\u001b[0m             \u001b[0;32mif\u001b[0m \u001b[0misinstance\u001b[0m\u001b[0;34m(\u001b[0m\u001b[0mslc\u001b[0m\u001b[0;34m,\u001b[0m \u001b[0mnp\u001b[0m\u001b[0;34m.\u001b[0m\u001b[0mndarray\u001b[0m\u001b[0;34m)\u001b[0m\u001b[0;34m:\u001b[0m\u001b[0;34m\u001b[0m\u001b[0m\n\u001b[1;32m   2923\u001b[0m                 raise KeyError(\"Cannot get %s slice bound for non-unique \"\n\u001b[0;32m-> 2924\u001b[0;31m                                \"label: %r\" % (side, original_label))\n\u001b[0m\u001b[1;32m   2925\u001b[0m \u001b[0;34m\u001b[0m\u001b[0m\n\u001b[1;32m   2926\u001b[0m         \u001b[0;32mif\u001b[0m \u001b[0misinstance\u001b[0m\u001b[0;34m(\u001b[0m\u001b[0mslc\u001b[0m\u001b[0;34m,\u001b[0m \u001b[0mslice\u001b[0m\u001b[0;34m)\u001b[0m\u001b[0;34m:\u001b[0m\u001b[0;34m\u001b[0m\u001b[0m\n",
      "\u001b[0;31mKeyError\u001b[0m: \"Cannot get left slice bound for non-unique label: Timestamp('2016-05-09 00:00:00')\""
     ]
    }
   ],
   "source": [
    "len(forecast[bench.index.min():bench.index.max()])"
   ]
  },
  {
   "cell_type": "code",
   "execution_count": 217,
   "metadata": {
    "collapsed": false
   },
   "outputs": [
    {
     "data": {
      "text/plain": [
       "322905"
      ]
     },
     "execution_count": 217,
     "metadata": {},
     "output_type": "execute_result"
    }
   ],
   "source": [
    "len(an)"
   ]
  },
  {
   "cell_type": "code",
   "execution_count": 220,
   "metadata": {
    "collapsed": false
   },
   "outputs": [
    {
     "data": {
      "text/plain": [
       "622242"
      ]
     },
     "execution_count": 220,
     "metadata": {},
     "output_type": "execute_result"
    }
   ],
   "source": [
    "len(benchmark)"
   ]
  },
  {
   "cell_type": "code",
   "execution_count": 92,
   "metadata": {
    "collapsed": false
   },
   "outputs": [
    {
     "name": "stderr",
     "output_type": "stream",
     "text": [
      "100%|██████████| 12897/12897 [00:43<00:00, 294.76it/s]\n"
     ]
    }
   ],
   "source": [
    "bench = load_folder(BENCHMARK_MODEL)"
   ]
  },
  {
   "cell_type": "code",
   "execution_count": 81,
   "metadata": {
    "collapsed": false
   },
   "outputs": [],
   "source": [
    "d = forecast.reset_index()"
   ]
  },
  {
   "cell_type": "code",
   "execution_count": 82,
   "metadata": {
    "collapsed": true
   },
   "outputs": [],
   "source": [
    "d.to_csv(os.path.join(BENCHMARK_MODEL,'all_benchamrk.csv'),index=False)"
   ]
  },
  {
   "cell_type": "code",
   "execution_count": 77,
   "metadata": {
    "collapsed": false
   },
   "outputs": [],
   "source": [
    "royalmail = forecast[forecast.ytrue!=0]"
   ]
  },
  {
   "cell_type": "code",
   "execution_count": 79,
   "metadata": {
    "collapsed": false
   },
   "outputs": [
    {
     "data": {
      "text/plain": [
       "29.451086713161573"
      ]
     },
     "execution_count": 79,
     "metadata": {},
     "output_type": "execute_result"
    }
   ],
   "source": [
    "SMAPE(royalmail.ytrue,royalmail.yhat)"
   ]
  },
  {
   "cell_type": "code",
   "execution_count": 3,
   "metadata": {
    "collapsed": false
   },
   "outputs": [
    {
     "name": "stderr",
     "output_type": "stream",
     "text": [
      "/Users/cthorey/miniconda2/envs/py27/lib/python2.7/site-packages/pandas/computation/__init__.py:19: UserWarning: The installed version of numexpr 2.4.4 is not supported in pandas and will be not be used\n",
      "\n",
      "  UserWarning)\n"
     ]
    }
   ],
   "source": [
    "from ggplot import *"
   ]
  },
  {
   "cell_type": "code",
   "execution_count": null,
   "metadata": {
    "collapsed": false
   },
   "outputs": [],
   "source": [
    "ggplot(aes(x='date', y='beef'), data=meat) +\\\n",
    "    geom_line() +\\\n",
    "    stat_smooth(colour='blue', span=0.2)"
   ]
  },
  {
   "cell_type": "code",
   "execution_count": 34,
   "metadata": {
    "collapsed": false
   },
   "outputs": [],
   "source": [
    "scoresBYstreamdo = royalmail.groupby(['DO','stream']).apply(lambda x:SMAPE(x.ytrue,x.yhat)).reset_index()"
   ]
  },
  {
   "cell_type": "code",
   "execution_count": 35,
   "metadata": {
    "collapsed": false
   },
   "outputs": [
    {
     "data": {
      "text/plain": [
       "<matplotlib.axes._subplots.AxesSubplot at 0x10c7db6d0>"
      ]
     },
     "execution_count": 35,
     "metadata": {},
     "output_type": "execute_result"
    },
    {
     "data": {
      "image/png": "[encoded data removed]",
      "text/plain": [
       "<matplotlib.figure.Figure at 0x10c7d2210>"
      ]
     },
     "metadata": {},
     "output_type": "display_data"
    }
   ],
   "source": [
    "scoresBYstreamdo[0].hist(bins=np.arange(1,200,5))"
   ]
  },
  {
   "cell_type": "markdown",
   "metadata": {
    "collapsed": true
   },
   "source": [
    "# Random forest for each specifc MC/DO/Stream"
   ]
  },
  {
   "cell_type": "code",
   "execution_count": 221,
   "metadata": {
    "collapsed": false
   },
   "outputs": [
    {
     "name": "stderr",
     "output_type": "stream",
     "text": [
      "100%|██████████| 12421/12421 [00:49<00:00, 250.11it/s]\n"
     ]
    }
   ],
   "source": [
    "#folder = os.path.join(RF_TRIPLES)\n",
    "forecast = load_folder(RF_TRIPLES)"
   ]
  },
  {
   "cell_type": "code",
   "execution_count": 222,
   "metadata": {
    "collapsed": false
   },
   "outputs": [
    {
     "data": {
      "text/plain": [
       "24.716157177268638"
      ]
     },
     "execution_count": 222,
     "metadata": {},
     "output_type": "execute_result"
    }
   ],
   "source": [
    "SMAPE(forecast.ytrue,forecast.yhat)"
   ]
  },
  {
   "cell_type": "code",
   "execution_count": 162,
   "metadata": {
    "collapsed": false
   },
   "outputs": [],
   "source": [
    "forecast.reset_index().to_csv(os.path.join(MODELS_DIR,'RF_TRIPLE.csv'),index=False)"
   ]
  },
  {
   "cell_type": "code",
   "execution_count": 135,
   "metadata": {
    "collapsed": false
   },
   "outputs": [],
   "source": [
    "fore = forecast[[f for f in forecast.columns if f not in ['stream']]]"
   ]
  },
  {
   "cell_type": "code",
   "execution_count": 136,
   "metadata": {
    "collapsed": false
   },
   "outputs": [],
   "source": [
    "fore = fore.reset_index()"
   ]
  },
  {
   "cell_type": "code",
   "execution_count": 151,
   "metadata": {
    "collapsed": false
   },
   "outputs": [],
   "source": [
    "final = fore.merge(data[['date','ytrue','MC','DO','stream']])"
   ]
  },
  {
   "cell_type": "code",
   "execution_count": 156,
   "metadata": {
    "collapsed": false
   },
   "outputs": [
    {
     "name": "stderr",
     "output_type": "stream",
     "text": [
      "100%|██████████| 12421/12421 [01:50<00:00, 112.87it/s]\n"
     ]
    }
   ],
   "source": [
    "gp = final.groupby(['MC','DO','stream'])\n",
    "for (MC,DO,stream), df in tqdm(gp,total=gp.ngroups):\n",
    "    name = '{}_{}_{}'.format('_'.join(MC.split(' ')),\n",
    "                                      '_'.join(DO.split(' ')), stream)\n",
    "    fname = os.path.join(RF_TRIPLES,name)\n",
    "    df.to_csv(fname,index=False)"
   ]
  },
  {
   "cell_type": "code",
   "execution_count": 157,
   "metadata": {
    "collapsed": false
   },
   "outputs": [
    {
     "data": {
      "text/plain": [
       "150"
      ]
     },
     "execution_count": 157,
     "metadata": {},
     "output_type": "execute_result"
    }
   ],
   "source": []
  },
  {
   "cell_type": "code",
   "execution_count": 142,
   "metadata": {
    "collapsed": false
   },
   "outputs": [
    {
     "ename": "ValueError",
     "evalue": "len(left_on) must equal the number of levels in the index of \"right\"",
     "output_type": "error",
     "traceback": [
      "\u001b[0;31m---------------------------------------------------------------------------\u001b[0m",
      "\u001b[0;31mValueError\u001b[0m                                Traceback (most recent call last)",
      "\u001b[0;32m<ipython-input-142-d1e418ef1ae9>\u001b[0m in \u001b[0;36m<module>\u001b[0;34m()\u001b[0m\n\u001b[0;32m----> 1\u001b[0;31m \u001b[0mfore\u001b[0m\u001b[0;34m.\u001b[0m\u001b[0mjoin\u001b[0m\u001b[0;34m(\u001b[0m\u001b[0mdata\u001b[0m\u001b[0;34m[\u001b[0m\u001b[0;34m[\u001b[0m\u001b[0;34m'ytrue'\u001b[0m\u001b[0;34m,\u001b[0m\u001b[0;34m'DO'\u001b[0m\u001b[0;34m,\u001b[0m\u001b[0;34m'MC'\u001b[0m\u001b[0;34m,\u001b[0m\u001b[0;34m'stream'\u001b[0m\u001b[0;34m]\u001b[0m\u001b[0;34m]\u001b[0m\u001b[0;34m.\u001b[0m\u001b[0mreset_index\u001b[0m\u001b[0;34m(\u001b[0m\u001b[0;34m)\u001b[0m\u001b[0;34m,\u001b[0m\u001b[0mon\u001b[0m\u001b[0;34m=\u001b[0m\u001b[0;34m[\u001b[0m\u001b[0;34m'ytrue'\u001b[0m\u001b[0;34m,\u001b[0m\u001b[0;34m'date'\u001b[0m\u001b[0;34m,\u001b[0m\u001b[0;34m'DO'\u001b[0m\u001b[0;34m,\u001b[0m\u001b[0;34m'MC'\u001b[0m\u001b[0;34m]\u001b[0m\u001b[0;34m)\u001b[0m\u001b[0;34m\u001b[0m\u001b[0m\n\u001b[0m",
      "\u001b[0;32m/Users/cthorey/miniconda2/envs/py27/lib/python2.7/site-packages/pandas/core/frame.pyc\u001b[0m in \u001b[0;36mjoin\u001b[0;34m(self, other, on, how, lsuffix, rsuffix, sort)\u001b[0m\n\u001b[1;32m   4383\u001b[0m         \u001b[0;31m# For SparseDataFrame's benefit\u001b[0m\u001b[0;34m\u001b[0m\u001b[0;34m\u001b[0m\u001b[0m\n\u001b[1;32m   4384\u001b[0m         return self._join_compat(other, on=on, how=how, lsuffix=lsuffix,\n\u001b[0;32m-> 4385\u001b[0;31m                                  rsuffix=rsuffix, sort=sort)\n\u001b[0m\u001b[1;32m   4386\u001b[0m \u001b[0;34m\u001b[0m\u001b[0m\n\u001b[1;32m   4387\u001b[0m     def _join_compat(self, other, on=None, how='left', lsuffix='', rsuffix='',\n",
      "\u001b[0;32m/Users/cthorey/miniconda2/envs/py27/lib/python2.7/site-packages/pandas/core/frame.pyc\u001b[0m in \u001b[0;36m_join_compat\u001b[0;34m(self, other, on, how, lsuffix, rsuffix, sort)\u001b[0m\n\u001b[1;32m   4397\u001b[0m             return merge(self, other, left_on=on, how=how,\n\u001b[1;32m   4398\u001b[0m                          \u001b[0mleft_index\u001b[0m\u001b[0;34m=\u001b[0m\u001b[0mon\u001b[0m \u001b[0;32mis\u001b[0m \u001b[0mNone\u001b[0m\u001b[0;34m,\u001b[0m \u001b[0mright_index\u001b[0m\u001b[0;34m=\u001b[0m\u001b[0mTrue\u001b[0m\u001b[0;34m,\u001b[0m\u001b[0;34m\u001b[0m\u001b[0m\n\u001b[0;32m-> 4399\u001b[0;31m                          suffixes=(lsuffix, rsuffix), sort=sort)\n\u001b[0m\u001b[1;32m   4400\u001b[0m         \u001b[0;32melse\u001b[0m\u001b[0;34m:\u001b[0m\u001b[0;34m\u001b[0m\u001b[0m\n\u001b[1;32m   4401\u001b[0m             \u001b[0;32mif\u001b[0m \u001b[0mon\u001b[0m \u001b[0;32mis\u001b[0m \u001b[0;32mnot\u001b[0m \u001b[0mNone\u001b[0m\u001b[0;34m:\u001b[0m\u001b[0;34m\u001b[0m\u001b[0m\n",
      "\u001b[0;32m/Users/cthorey/miniconda2/envs/py27/lib/python2.7/site-packages/pandas/tools/merge.pyc\u001b[0m in \u001b[0;36mmerge\u001b[0;34m(left, right, how, on, left_on, right_on, left_index, right_index, sort, suffixes, copy, indicator)\u001b[0m\n\u001b[1;32m     36\u001b[0m                          \u001b[0mright_on\u001b[0m\u001b[0;34m=\u001b[0m\u001b[0mright_on\u001b[0m\u001b[0;34m,\u001b[0m \u001b[0mleft_index\u001b[0m\u001b[0;34m=\u001b[0m\u001b[0mleft_index\u001b[0m\u001b[0;34m,\u001b[0m\u001b[0;34m\u001b[0m\u001b[0m\n\u001b[1;32m     37\u001b[0m                          \u001b[0mright_index\u001b[0m\u001b[0;34m=\u001b[0m\u001b[0mright_index\u001b[0m\u001b[0;34m,\u001b[0m \u001b[0msort\u001b[0m\u001b[0;34m=\u001b[0m\u001b[0msort\u001b[0m\u001b[0;34m,\u001b[0m \u001b[0msuffixes\u001b[0m\u001b[0;34m=\u001b[0m\u001b[0msuffixes\u001b[0m\u001b[0;34m,\u001b[0m\u001b[0;34m\u001b[0m\u001b[0m\n\u001b[0;32m---> 38\u001b[0;31m                          copy=copy, indicator=indicator)\n\u001b[0m\u001b[1;32m     39\u001b[0m     \u001b[0;32mreturn\u001b[0m \u001b[0mop\u001b[0m\u001b[0;34m.\u001b[0m\u001b[0mget_result\u001b[0m\u001b[0;34m(\u001b[0m\u001b[0;34m)\u001b[0m\u001b[0;34m\u001b[0m\u001b[0m\n\u001b[1;32m     40\u001b[0m \u001b[0;32mif\u001b[0m \u001b[0m__debug__\u001b[0m\u001b[0;34m:\u001b[0m\u001b[0;34m\u001b[0m\u001b[0m\n",
      "\u001b[0;32m/Users/cthorey/miniconda2/envs/py27/lib/python2.7/site-packages/pandas/tools/merge.pyc\u001b[0m in \u001b[0;36m__init__\u001b[0;34m(self, left, right, how, on, left_on, right_on, axis, left_index, right_index, sort, suffixes, copy, indicator)\u001b[0m\n\u001b[1;32m    208\u001b[0m         (self.left_join_keys,\n\u001b[1;32m    209\u001b[0m          \u001b[0mself\u001b[0m\u001b[0;34m.\u001b[0m\u001b[0mright_join_keys\u001b[0m\u001b[0;34m,\u001b[0m\u001b[0;34m\u001b[0m\u001b[0m\n\u001b[0;32m--> 210\u001b[0;31m          self.join_names) = self._get_merge_keys()\n\u001b[0m\u001b[1;32m    211\u001b[0m \u001b[0;34m\u001b[0m\u001b[0m\n\u001b[1;32m    212\u001b[0m     \u001b[0;32mdef\u001b[0m \u001b[0mget_result\u001b[0m\u001b[0;34m(\u001b[0m\u001b[0mself\u001b[0m\u001b[0;34m)\u001b[0m\u001b[0;34m:\u001b[0m\u001b[0;34m\u001b[0m\u001b[0m\n",
      "\u001b[0;32m/Users/cthorey/miniconda2/envs/py27/lib/python2.7/site-packages/pandas/tools/merge.pyc\u001b[0m in \u001b[0;36m_get_merge_keys\u001b[0;34m(self)\u001b[0m\n\u001b[1;32m    405\u001b[0m         \u001b[0mleft_keys\u001b[0m\u001b[0;34m,\u001b[0m \u001b[0mright_keys\u001b[0m\u001b[0;34m\u001b[0m\u001b[0m\n\u001b[1;32m    406\u001b[0m         \"\"\"\n\u001b[0;32m--> 407\u001b[0;31m         \u001b[0mself\u001b[0m\u001b[0;34m.\u001b[0m\u001b[0m_validate_specification\u001b[0m\u001b[0;34m(\u001b[0m\u001b[0;34m)\u001b[0m\u001b[0;34m\u001b[0m\u001b[0m\n\u001b[0m\u001b[1;32m    408\u001b[0m \u001b[0;34m\u001b[0m\u001b[0m\n\u001b[1;32m    409\u001b[0m         \u001b[0mleft_keys\u001b[0m \u001b[0;34m=\u001b[0m \u001b[0;34m[\u001b[0m\u001b[0;34m]\u001b[0m\u001b[0;34m\u001b[0m\u001b[0m\n",
      "\u001b[0;32m/Users/cthorey/miniconda2/envs/py27/lib/python2.7/site-packages/pandas/tools/merge.pyc\u001b[0m in \u001b[0;36m_validate_specification\u001b[0;34m(self)\u001b[0m\n\u001b[1;32m    511\u001b[0m             \u001b[0;32mif\u001b[0m \u001b[0mself\u001b[0m\u001b[0;34m.\u001b[0m\u001b[0mright_index\u001b[0m\u001b[0;34m:\u001b[0m\u001b[0;34m\u001b[0m\u001b[0m\n\u001b[1;32m    512\u001b[0m                 \u001b[0;32mif\u001b[0m \u001b[0mlen\u001b[0m\u001b[0;34m(\u001b[0m\u001b[0mself\u001b[0m\u001b[0;34m.\u001b[0m\u001b[0mleft_on\u001b[0m\u001b[0;34m)\u001b[0m \u001b[0;34m!=\u001b[0m \u001b[0mself\u001b[0m\u001b[0;34m.\u001b[0m\u001b[0mright\u001b[0m\u001b[0;34m.\u001b[0m\u001b[0mindex\u001b[0m\u001b[0;34m.\u001b[0m\u001b[0mnlevels\u001b[0m\u001b[0;34m:\u001b[0m\u001b[0;34m\u001b[0m\u001b[0m\n\u001b[0;32m--> 513\u001b[0;31m                     raise ValueError('len(left_on) must equal the number '\n\u001b[0m\u001b[1;32m    514\u001b[0m                                      'of levels in the index of \"right\"')\n\u001b[1;32m    515\u001b[0m                 \u001b[0mself\u001b[0m\u001b[0;34m.\u001b[0m\u001b[0mright_on\u001b[0m \u001b[0;34m=\u001b[0m \u001b[0;34m[\u001b[0m\u001b[0mNone\u001b[0m\u001b[0;34m]\u001b[0m \u001b[0;34m*\u001b[0m \u001b[0mn\u001b[0m\u001b[0;34m\u001b[0m\u001b[0m\n",
      "\u001b[0;31mValueError\u001b[0m: len(left_on) must equal the number of levels in the index of \"right\""
     ]
    }
   ],
   "source": [
    "fore.join(data[['ytrue','DO','MC','stream']].reset_index(),on=['ytrue','date','DO','MC'])"
   ]
  },
  {
   "cell_type": "code",
   "execution_count": null,
   "metadata": {
    "collapsed": true
   },
   "outputs": [],
   "source": []
  },
  {
   "cell_type": "code",
   "execution_count": 95,
   "metadata": {
    "collapsed": false
   },
   "outputs": [
    {
     "data": {
      "text/html": [
       "<div>\n",
       "<table border=\"1\" class=\"dataframe\">\n",
       "  <thead>\n",
       "    <tr style=\"text-align: right;\">\n",
       "      <th></th>\n",
       "      <th>stream</th>\n",
       "      <th>mail</th>\n",
       "      <th>MC</th>\n",
       "      <th>DO</th>\n",
       "      <th>ytrue</th>\n",
       "      <th>day</th>\n",
       "      <th>yhat</th>\n",
       "    </tr>\n",
       "    <tr>\n",
       "      <th>date</th>\n",
       "      <th></th>\n",
       "      <th></th>\n",
       "      <th></th>\n",
       "      <th></th>\n",
       "      <th></th>\n",
       "      <th></th>\n",
       "      <th></th>\n",
       "    </tr>\n",
       "  </thead>\n",
       "  <tbody>\n",
       "    <tr>\n",
       "      <th>2016-05-09</th>\n",
       "      <td>T0001</td>\n",
       "      <td>letters</td>\n",
       "      <td>aberdeen mail centre</td>\n",
       "      <td>altens do</td>\n",
       "      <td>3872.0</td>\n",
       "      <td>Monday</td>\n",
       "      <td>4717.74</td>\n",
       "    </tr>\n",
       "    <tr>\n",
       "      <th>2016-05-10</th>\n",
       "      <td>T0001</td>\n",
       "      <td>letters</td>\n",
       "      <td>aberdeen mail centre</td>\n",
       "      <td>altens do</td>\n",
       "      <td>2704.0</td>\n",
       "      <td>Tuesday</td>\n",
       "      <td>3491.90</td>\n",
       "    </tr>\n",
       "    <tr>\n",
       "      <th>2016-05-11</th>\n",
       "      <td>T0001</td>\n",
       "      <td>letters</td>\n",
       "      <td>aberdeen mail centre</td>\n",
       "      <td>altens do</td>\n",
       "      <td>4582.0</td>\n",
       "      <td>Wednesday</td>\n",
       "      <td>4686.52</td>\n",
       "    </tr>\n",
       "    <tr>\n",
       "      <th>2016-05-12</th>\n",
       "      <td>T0001</td>\n",
       "      <td>letters</td>\n",
       "      <td>aberdeen mail centre</td>\n",
       "      <td>altens do</td>\n",
       "      <td>4685.0</td>\n",
       "      <td>Thursday</td>\n",
       "      <td>5256.23</td>\n",
       "    </tr>\n",
       "    <tr>\n",
       "      <th>2016-05-13</th>\n",
       "      <td>T0001</td>\n",
       "      <td>letters</td>\n",
       "      <td>aberdeen mail centre</td>\n",
       "      <td>altens do</td>\n",
       "      <td>4433.0</td>\n",
       "      <td>Friday</td>\n",
       "      <td>4844.66</td>\n",
       "    </tr>\n",
       "  </tbody>\n",
       "</table>\n",
       "</div>"
      ],
      "text/plain": [
       "           stream     mail                    MC         DO   ytrue  \\\n",
       "date                                                                  \n",
       "2016-05-09  T0001  letters  aberdeen mail centre  altens do  3872.0   \n",
       "2016-05-10  T0001  letters  aberdeen mail centre  altens do  2704.0   \n",
       "2016-05-11  T0001  letters  aberdeen mail centre  altens do  4582.0   \n",
       "2016-05-12  T0001  letters  aberdeen mail centre  altens do  4685.0   \n",
       "2016-05-13  T0001  letters  aberdeen mail centre  altens do  4433.0   \n",
       "\n",
       "                  day     yhat  \n",
       "date                            \n",
       "2016-05-09     Monday  4717.74  \n",
       "2016-05-10    Tuesday  3491.90  \n",
       "2016-05-11  Wednesday  4686.52  \n",
       "2016-05-12   Thursday  5256.23  \n",
       "2016-05-13     Friday  4844.66  "
      ]
     },
     "execution_count": 95,
     "metadata": {},
     "output_type": "execute_result"
    }
   ],
   "source": [
    "bench.head()"
   ]
  },
  {
   "cell_type": "code",
   "execution_count": 87,
   "metadata": {
    "collapsed": true
   },
   "outputs": [],
   "source": [
    "d = forecast.reset_index()\n",
    "d.to_csv(os.path.join(folder,'random_forest_specific.csv'),index=False)"
   ]
  },
  {
   "cell_type": "code",
   "execution_count": 36,
   "metadata": {
    "collapsed": false
   },
   "outputs": [
    {
     "data": {
      "text/plain": [
       "(Timestamp('2016-05-09 00:00:00'), Timestamp('2016-05-31 00:00:00'))"
      ]
     },
     "execution_count": 36,
     "metadata": {},
     "output_type": "execute_result"
    }
   ],
   "source": [
    "royalmail.index.min(),royalmail.index.max()"
   ]
  },
  {
   "cell_type": "code",
   "execution_count": 37,
   "metadata": {
    "collapsed": false
   },
   "outputs": [],
   "source": [
    "forecast=  forecast[(forecast.index>=royalmail.index.min())&(forecast.index<=royalmail.index.max())]"
   ]
  },
  {
   "cell_type": "code",
   "execution_count": 43,
   "metadata": {
    "collapsed": false
   },
   "outputs": [],
   "source": [
    "forecast= forecast[forecast.ytrue!=0]"
   ]
  },
  {
   "cell_type": "code",
   "execution_count": 48,
   "metadata": {
    "collapsed": false
   },
   "outputs": [
    {
     "data": {
      "text/plain": [
       "29.451086713161573"
      ]
     },
     "execution_count": 48,
     "metadata": {},
     "output_type": "execute_result"
    }
   ],
   "source": [
    "SMAPE(royalmail.yhat,royalmail.ytrue)"
   ]
  },
  {
   "cell_type": "code",
   "execution_count": 49,
   "metadata": {
    "collapsed": false
   },
   "outputs": [
    {
     "data": {
      "text/html": [
       "<div>\n",
       "<table border=\"1\" class=\"dataframe\">\n",
       "  <thead>\n",
       "    <tr style=\"text-align: right;\">\n",
       "      <th></th>\n",
       "      <th>ytrue</th>\n",
       "      <th>yhat</th>\n",
       "      <th>error</th>\n",
       "      <th>DO</th>\n",
       "      <th>MC</th>\n",
       "      <th>stream</th>\n",
       "    </tr>\n",
       "    <tr>\n",
       "      <th>date</th>\n",
       "      <th></th>\n",
       "      <th></th>\n",
       "      <th></th>\n",
       "      <th></th>\n",
       "      <th></th>\n",
       "      <th></th>\n",
       "    </tr>\n",
       "  </thead>\n",
       "  <tbody>\n",
       "    <tr>\n",
       "      <th>2016-05-09</th>\n",
       "      <td>3872.00</td>\n",
       "      <td>3816.303805</td>\n",
       "      <td>94.772769</td>\n",
       "      <td>altens do</td>\n",
       "      <td>aberdeen mail centre</td>\n",
       "      <td>&lt;src.model.base_data.Stream object at 0x7f6150...</td>\n",
       "    </tr>\n",
       "    <tr>\n",
       "      <th>2016-05-10</th>\n",
       "      <td>2704.00</td>\n",
       "      <td>4010.267055</td>\n",
       "      <td>65.954690</td>\n",
       "      <td>altens do</td>\n",
       "      <td>aberdeen mail centre</td>\n",
       "      <td>&lt;src.model.base_data.Stream object at 0x7f6150...</td>\n",
       "    </tr>\n",
       "    <tr>\n",
       "      <th>2016-05-11</th>\n",
       "      <td>4582.00</td>\n",
       "      <td>4695.382003</td>\n",
       "      <td>69.567208</td>\n",
       "      <td>altens do</td>\n",
       "      <td>aberdeen mail centre</td>\n",
       "      <td>&lt;src.model.base_data.Stream object at 0x7f6150...</td>\n",
       "    </tr>\n",
       "    <tr>\n",
       "      <th>2016-05-12</th>\n",
       "      <td>4685.00</td>\n",
       "      <td>5672.388539</td>\n",
       "      <td>72.028861</td>\n",
       "      <td>altens do</td>\n",
       "      <td>aberdeen mail centre</td>\n",
       "      <td>&lt;src.model.base_data.Stream object at 0x7f6150...</td>\n",
       "    </tr>\n",
       "    <tr>\n",
       "      <th>2016-05-13</th>\n",
       "      <td>4433.00</td>\n",
       "      <td>5252.240984</td>\n",
       "      <td>98.415473</td>\n",
       "      <td>altens do</td>\n",
       "      <td>aberdeen mail centre</td>\n",
       "      <td>&lt;src.model.base_data.Stream object at 0x7f6150...</td>\n",
       "    </tr>\n",
       "    <tr>\n",
       "      <th>2016-05-14</th>\n",
       "      <td>4048.00</td>\n",
       "      <td>4354.036924</td>\n",
       "      <td>47.219309</td>\n",
       "      <td>altens do</td>\n",
       "      <td>aberdeen mail centre</td>\n",
       "      <td>&lt;src.model.base_data.Stream object at 0x7f6150...</td>\n",
       "    </tr>\n",
       "    <tr>\n",
       "      <th>2016-05-16</th>\n",
       "      <td>2467.00</td>\n",
       "      <td>3861.772534</td>\n",
       "      <td>107.999691</td>\n",
       "      <td>altens do</td>\n",
       "      <td>aberdeen mail centre</td>\n",
       "      <td>&lt;src.model.base_data.Stream object at 0x7f6150...</td>\n",
       "    </tr>\n",
       "    <tr>\n",
       "      <th>2016-05-17</th>\n",
       "      <td>4467.00</td>\n",
       "      <td>4002.701581</td>\n",
       "      <td>60.678195</td>\n",
       "      <td>altens do</td>\n",
       "      <td>aberdeen mail centre</td>\n",
       "      <td>&lt;src.model.base_data.Stream object at 0x7f6150...</td>\n",
       "    </tr>\n",
       "    <tr>\n",
       "      <th>2016-05-18</th>\n",
       "      <td>3592.00</td>\n",
       "      <td>4683.073497</td>\n",
       "      <td>51.391756</td>\n",
       "      <td>altens do</td>\n",
       "      <td>aberdeen mail centre</td>\n",
       "      <td>&lt;src.model.base_data.Stream object at 0x7f6150...</td>\n",
       "    </tr>\n",
       "    <tr>\n",
       "      <th>2016-05-19</th>\n",
       "      <td>9292.00</td>\n",
       "      <td>5678.264943</td>\n",
       "      <td>78.531311</td>\n",
       "      <td>altens do</td>\n",
       "      <td>aberdeen mail centre</td>\n",
       "      <td>&lt;src.model.base_data.Stream object at 0x7f6150...</td>\n",
       "    </tr>\n",
       "    <tr>\n",
       "      <th>2016-05-20</th>\n",
       "      <td>8074.00</td>\n",
       "      <td>5257.236788</td>\n",
       "      <td>128.289154</td>\n",
       "      <td>altens do</td>\n",
       "      <td>aberdeen mail centre</td>\n",
       "      <td>&lt;src.model.base_data.Stream object at 0x7f6150...</td>\n",
       "    </tr>\n",
       "    <tr>\n",
       "      <th>2016-05-21</th>\n",
       "      <td>3521.25</td>\n",
       "      <td>4344.189281</td>\n",
       "      <td>40.193234</td>\n",
       "      <td>altens do</td>\n",
       "      <td>aberdeen mail centre</td>\n",
       "      <td>&lt;src.model.base_data.Stream object at 0x7f6150...</td>\n",
       "    </tr>\n",
       "    <tr>\n",
       "      <th>2016-05-23</th>\n",
       "      <td>3843.00</td>\n",
       "      <td>3804.465273</td>\n",
       "      <td>90.188834</td>\n",
       "      <td>altens do</td>\n",
       "      <td>aberdeen mail centre</td>\n",
       "      <td>&lt;src.model.base_data.Stream object at 0x7f6150...</td>\n",
       "    </tr>\n",
       "    <tr>\n",
       "      <th>2016-05-24</th>\n",
       "      <td>3939.00</td>\n",
       "      <td>4005.446845</td>\n",
       "      <td>68.767276</td>\n",
       "      <td>altens do</td>\n",
       "      <td>aberdeen mail centre</td>\n",
       "      <td>&lt;src.model.base_data.Stream object at 0x7f6150...</td>\n",
       "    </tr>\n",
       "    <tr>\n",
       "      <th>2016-05-25</th>\n",
       "      <td>2486.00</td>\n",
       "      <td>4670.970907</td>\n",
       "      <td>57.730808</td>\n",
       "      <td>altens do</td>\n",
       "      <td>aberdeen mail centre</td>\n",
       "      <td>&lt;src.model.base_data.Stream object at 0x7f6150...</td>\n",
       "    </tr>\n",
       "    <tr>\n",
       "      <th>2016-05-26</th>\n",
       "      <td>4660.00</td>\n",
       "      <td>5663.006792</td>\n",
       "      <td>93.939486</td>\n",
       "      <td>altens do</td>\n",
       "      <td>aberdeen mail centre</td>\n",
       "      <td>&lt;src.model.base_data.Stream object at 0x7f6150...</td>\n",
       "    </tr>\n",
       "    <tr>\n",
       "      <th>2016-05-27</th>\n",
       "      <td>3524.00</td>\n",
       "      <td>5266.989466</td>\n",
       "      <td>131.691630</td>\n",
       "      <td>altens do</td>\n",
       "      <td>aberdeen mail centre</td>\n",
       "      <td>&lt;src.model.base_data.Stream object at 0x7f6150...</td>\n",
       "    </tr>\n",
       "    <tr>\n",
       "      <th>2016-05-28</th>\n",
       "      <td>3796.00</td>\n",
       "      <td>4335.481941</td>\n",
       "      <td>30.229799</td>\n",
       "      <td>altens do</td>\n",
       "      <td>aberdeen mail centre</td>\n",
       "      <td>&lt;src.model.base_data.Stream object at 0x7f6150...</td>\n",
       "    </tr>\n",
       "    <tr>\n",
       "      <th>2016-05-30</th>\n",
       "      <td>3394.00</td>\n",
       "      <td>3824.084954</td>\n",
       "      <td>103.059317</td>\n",
       "      <td>altens do</td>\n",
       "      <td>aberdeen mail centre</td>\n",
       "      <td>&lt;src.model.base_data.Stream object at 0x7f6150...</td>\n",
       "    </tr>\n",
       "    <tr>\n",
       "      <th>2016-05-31</th>\n",
       "      <td>5247.00</td>\n",
       "      <td>4014.564007</td>\n",
       "      <td>72.817175</td>\n",
       "      <td>altens do</td>\n",
       "      <td>aberdeen mail centre</td>\n",
       "      <td>&lt;src.model.base_data.Stream object at 0x7f6150...</td>\n",
       "    </tr>\n",
       "    <tr>\n",
       "      <th>2016-05-09</th>\n",
       "      <td>2554.00</td>\n",
       "      <td>2524.712380</td>\n",
       "      <td>84.069044</td>\n",
       "      <td>altens do</td>\n",
       "      <td>aberdeen mail centre</td>\n",
       "      <td>&lt;src.model.base_data.Stream object at 0x7f6150...</td>\n",
       "    </tr>\n",
       "    <tr>\n",
       "      <th>2016-05-10</th>\n",
       "      <td>1240.00</td>\n",
       "      <td>1485.903191</td>\n",
       "      <td>76.424418</td>\n",
       "      <td>altens do</td>\n",
       "      <td>aberdeen mail centre</td>\n",
       "      <td>&lt;src.model.base_data.Stream object at 0x7f6150...</td>\n",
       "    </tr>\n",
       "    <tr>\n",
       "      <th>2016-05-11</th>\n",
       "      <td>1562.00</td>\n",
       "      <td>2291.478160</td>\n",
       "      <td>89.245241</td>\n",
       "      <td>altens do</td>\n",
       "      <td>aberdeen mail centre</td>\n",
       "      <td>&lt;src.model.base_data.Stream object at 0x7f6150...</td>\n",
       "    </tr>\n",
       "    <tr>\n",
       "      <th>2016-05-12</th>\n",
       "      <td>2170.00</td>\n",
       "      <td>2745.204470</td>\n",
       "      <td>74.108375</td>\n",
       "      <td>altens do</td>\n",
       "      <td>aberdeen mail centre</td>\n",
       "      <td>&lt;src.model.base_data.Stream object at 0x7f6150...</td>\n",
       "    </tr>\n",
       "    <tr>\n",
       "      <th>2016-05-13</th>\n",
       "      <td>2032.00</td>\n",
       "      <td>2660.208738</td>\n",
       "      <td>76.876608</td>\n",
       "      <td>altens do</td>\n",
       "      <td>aberdeen mail centre</td>\n",
       "      <td>&lt;src.model.base_data.Stream object at 0x7f6150...</td>\n",
       "    </tr>\n",
       "    <tr>\n",
       "      <th>2016-05-14</th>\n",
       "      <td>1775.00</td>\n",
       "      <td>2681.846601</td>\n",
       "      <td>69.596562</td>\n",
       "      <td>altens do</td>\n",
       "      <td>aberdeen mail centre</td>\n",
       "      <td>&lt;src.model.base_data.Stream object at 0x7f6150...</td>\n",
       "    </tr>\n",
       "    <tr>\n",
       "      <th>2016-05-16</th>\n",
       "      <td>3442.00</td>\n",
       "      <td>2499.106985</td>\n",
       "      <td>57.291379</td>\n",
       "      <td>altens do</td>\n",
       "      <td>aberdeen mail centre</td>\n",
       "      <td>&lt;src.model.base_data.Stream object at 0x7f6150...</td>\n",
       "    </tr>\n",
       "    <tr>\n",
       "      <th>2016-05-17</th>\n",
       "      <td>930.00</td>\n",
       "      <td>1444.662236</td>\n",
       "      <td>62.901761</td>\n",
       "      <td>altens do</td>\n",
       "      <td>aberdeen mail centre</td>\n",
       "      <td>&lt;src.model.base_data.Stream object at 0x7f6150...</td>\n",
       "    </tr>\n",
       "    <tr>\n",
       "      <th>2016-05-18</th>\n",
       "      <td>1827.00</td>\n",
       "      <td>2228.180467</td>\n",
       "      <td>92.517942</td>\n",
       "      <td>altens do</td>\n",
       "      <td>aberdeen mail centre</td>\n",
       "      <td>&lt;src.model.base_data.Stream object at 0x7f6150...</td>\n",
       "    </tr>\n",
       "    <tr>\n",
       "      <th>2016-05-19</th>\n",
       "      <td>1729.00</td>\n",
       "      <td>2668.474225</td>\n",
       "      <td>87.143242</td>\n",
       "      <td>altens do</td>\n",
       "      <td>aberdeen mail centre</td>\n",
       "      <td>&lt;src.model.base_data.Stream object at 0x7f6150...</td>\n",
       "    </tr>\n",
       "    <tr>\n",
       "      <th>...</th>\n",
       "      <td>...</td>\n",
       "      <td>...</td>\n",
       "      <td>...</td>\n",
       "      <td>...</td>\n",
       "      <td>...</td>\n",
       "      <td>...</td>\n",
       "    </tr>\n",
       "    <tr>\n",
       "      <th>2016-05-18</th>\n",
       "      <td>282.00</td>\n",
       "      <td>204.081590</td>\n",
       "      <td>3.774823</td>\n",
       "      <td>woolton do</td>\n",
       "      <td>warrington mail centre</td>\n",
       "      <td>&lt;src.model.base_data.Stream object at 0x7f614f...</td>\n",
       "    </tr>\n",
       "    <tr>\n",
       "      <th>2016-05-19</th>\n",
       "      <td>183.00</td>\n",
       "      <td>193.589300</td>\n",
       "      <td>5.445761</td>\n",
       "      <td>woolton do</td>\n",
       "      <td>warrington mail centre</td>\n",
       "      <td>&lt;src.model.base_data.Stream object at 0x7f614f...</td>\n",
       "    </tr>\n",
       "    <tr>\n",
       "      <th>2016-05-20</th>\n",
       "      <td>208.00</td>\n",
       "      <td>171.153864</td>\n",
       "      <td>5.830698</td>\n",
       "      <td>woolton do</td>\n",
       "      <td>warrington mail centre</td>\n",
       "      <td>&lt;src.model.base_data.Stream object at 0x7f614f...</td>\n",
       "    </tr>\n",
       "    <tr>\n",
       "      <th>2016-05-21</th>\n",
       "      <td>224.00</td>\n",
       "      <td>162.315469</td>\n",
       "      <td>5.092378</td>\n",
       "      <td>woolton do</td>\n",
       "      <td>warrington mail centre</td>\n",
       "      <td>&lt;src.model.base_data.Stream object at 0x7f614f...</td>\n",
       "    </tr>\n",
       "    <tr>\n",
       "      <th>2016-05-23</th>\n",
       "      <td>101.00</td>\n",
       "      <td>112.500252</td>\n",
       "      <td>4.815598</td>\n",
       "      <td>woolton do</td>\n",
       "      <td>warrington mail centre</td>\n",
       "      <td>&lt;src.model.base_data.Stream object at 0x7f614f...</td>\n",
       "    </tr>\n",
       "    <tr>\n",
       "      <th>2016-05-24</th>\n",
       "      <td>154.00</td>\n",
       "      <td>134.450410</td>\n",
       "      <td>5.806571</td>\n",
       "      <td>woolton do</td>\n",
       "      <td>warrington mail centre</td>\n",
       "      <td>&lt;src.model.base_data.Stream object at 0x7f614f...</td>\n",
       "    </tr>\n",
       "    <tr>\n",
       "      <th>2016-05-25</th>\n",
       "      <td>226.25</td>\n",
       "      <td>201.561491</td>\n",
       "      <td>4.879145</td>\n",
       "      <td>woolton do</td>\n",
       "      <td>warrington mail centre</td>\n",
       "      <td>&lt;src.model.base_data.Stream object at 0x7f614f...</td>\n",
       "    </tr>\n",
       "    <tr>\n",
       "      <th>2016-05-26</th>\n",
       "      <td>234.00</td>\n",
       "      <td>195.483828</td>\n",
       "      <td>4.700878</td>\n",
       "      <td>woolton do</td>\n",
       "      <td>warrington mail centre</td>\n",
       "      <td>&lt;src.model.base_data.Stream object at 0x7f614f...</td>\n",
       "    </tr>\n",
       "    <tr>\n",
       "      <th>2016-05-27</th>\n",
       "      <td>200.00</td>\n",
       "      <td>174.430789</td>\n",
       "      <td>4.414299</td>\n",
       "      <td>woolton do</td>\n",
       "      <td>warrington mail centre</td>\n",
       "      <td>&lt;src.model.base_data.Stream object at 0x7f614f...</td>\n",
       "    </tr>\n",
       "    <tr>\n",
       "      <th>2016-05-28</th>\n",
       "      <td>187.00</td>\n",
       "      <td>164.173568</td>\n",
       "      <td>4.584564</td>\n",
       "      <td>woolton do</td>\n",
       "      <td>warrington mail centre</td>\n",
       "      <td>&lt;src.model.base_data.Stream object at 0x7f614f...</td>\n",
       "    </tr>\n",
       "    <tr>\n",
       "      <th>2016-05-31</th>\n",
       "      <td>136.00</td>\n",
       "      <td>134.878148</td>\n",
       "      <td>5.770464</td>\n",
       "      <td>woolton do</td>\n",
       "      <td>warrington mail centre</td>\n",
       "      <td>&lt;src.model.base_data.Stream object at 0x7f614f...</td>\n",
       "    </tr>\n",
       "    <tr>\n",
       "      <th>2016-05-09</th>\n",
       "      <td>64.00</td>\n",
       "      <td>85.185503</td>\n",
       "      <td>3.610523</td>\n",
       "      <td>woolton do</td>\n",
       "      <td>warrington mail centre</td>\n",
       "      <td>&lt;src.model.base_data.Stream object at 0x7f614f...</td>\n",
       "    </tr>\n",
       "    <tr>\n",
       "      <th>2016-05-10</th>\n",
       "      <td>77.00</td>\n",
       "      <td>84.788659</td>\n",
       "      <td>9.684787</td>\n",
       "      <td>woolton do</td>\n",
       "      <td>warrington mail centre</td>\n",
       "      <td>&lt;src.model.base_data.Stream object at 0x7f614f...</td>\n",
       "    </tr>\n",
       "    <tr>\n",
       "      <th>2016-05-11</th>\n",
       "      <td>118.00</td>\n",
       "      <td>144.114588</td>\n",
       "      <td>11.011320</td>\n",
       "      <td>woolton do</td>\n",
       "      <td>warrington mail centre</td>\n",
       "      <td>&lt;src.model.base_data.Stream object at 0x7f614f...</td>\n",
       "    </tr>\n",
       "    <tr>\n",
       "      <th>2016-05-12</th>\n",
       "      <td>87.00</td>\n",
       "      <td>139.797154</td>\n",
       "      <td>10.368150</td>\n",
       "      <td>woolton do</td>\n",
       "      <td>warrington mail centre</td>\n",
       "      <td>&lt;src.model.base_data.Stream object at 0x7f614f...</td>\n",
       "    </tr>\n",
       "    <tr>\n",
       "      <th>2016-05-13</th>\n",
       "      <td>84.00</td>\n",
       "      <td>126.867795</td>\n",
       "      <td>7.795151</td>\n",
       "      <td>woolton do</td>\n",
       "      <td>warrington mail centre</td>\n",
       "      <td>&lt;src.model.base_data.Stream object at 0x7f614f...</td>\n",
       "    </tr>\n",
       "    <tr>\n",
       "      <th>2016-05-14</th>\n",
       "      <td>101.00</td>\n",
       "      <td>118.254832</td>\n",
       "      <td>6.594221</td>\n",
       "      <td>woolton do</td>\n",
       "      <td>warrington mail centre</td>\n",
       "      <td>&lt;src.model.base_data.Stream object at 0x7f614f...</td>\n",
       "    </tr>\n",
       "    <tr>\n",
       "      <th>2016-05-16</th>\n",
       "      <td>60.00</td>\n",
       "      <td>84.550283</td>\n",
       "      <td>3.967878</td>\n",
       "      <td>woolton do</td>\n",
       "      <td>warrington mail centre</td>\n",
       "      <td>&lt;src.model.base_data.Stream object at 0x7f614f...</td>\n",
       "    </tr>\n",
       "    <tr>\n",
       "      <th>2016-05-17</th>\n",
       "      <td>57.00</td>\n",
       "      <td>81.059179</td>\n",
       "      <td>7.504438</td>\n",
       "      <td>woolton do</td>\n",
       "      <td>warrington mail centre</td>\n",
       "      <td>&lt;src.model.base_data.Stream object at 0x7f614f...</td>\n",
       "    </tr>\n",
       "    <tr>\n",
       "      <th>2016-05-18</th>\n",
       "      <td>154.00</td>\n",
       "      <td>139.928788</td>\n",
       "      <td>8.603504</td>\n",
       "      <td>woolton do</td>\n",
       "      <td>warrington mail centre</td>\n",
       "      <td>&lt;src.model.base_data.Stream object at 0x7f614f...</td>\n",
       "    </tr>\n",
       "    <tr>\n",
       "      <th>2016-05-19</th>\n",
       "      <td>100.00</td>\n",
       "      <td>135.946826</td>\n",
       "      <td>7.711034</td>\n",
       "      <td>woolton do</td>\n",
       "      <td>warrington mail centre</td>\n",
       "      <td>&lt;src.model.base_data.Stream object at 0x7f614f...</td>\n",
       "    </tr>\n",
       "    <tr>\n",
       "      <th>2016-05-20</th>\n",
       "      <td>114.00</td>\n",
       "      <td>121.888350</td>\n",
       "      <td>6.727853</td>\n",
       "      <td>woolton do</td>\n",
       "      <td>warrington mail centre</td>\n",
       "      <td>&lt;src.model.base_data.Stream object at 0x7f614f...</td>\n",
       "    </tr>\n",
       "    <tr>\n",
       "      <th>2016-05-21</th>\n",
       "      <td>122.00</td>\n",
       "      <td>114.820682</td>\n",
       "      <td>4.792179</td>\n",
       "      <td>woolton do</td>\n",
       "      <td>warrington mail centre</td>\n",
       "      <td>&lt;src.model.base_data.Stream object at 0x7f614f...</td>\n",
       "    </tr>\n",
       "    <tr>\n",
       "      <th>2016-05-23</th>\n",
       "      <td>55.00</td>\n",
       "      <td>83.512589</td>\n",
       "      <td>2.975561</td>\n",
       "      <td>woolton do</td>\n",
       "      <td>warrington mail centre</td>\n",
       "      <td>&lt;src.model.base_data.Stream object at 0x7f614f...</td>\n",
       "    </tr>\n",
       "    <tr>\n",
       "      <th>2016-05-24</th>\n",
       "      <td>84.00</td>\n",
       "      <td>77.734628</td>\n",
       "      <td>4.335090</td>\n",
       "      <td>woolton do</td>\n",
       "      <td>warrington mail centre</td>\n",
       "      <td>&lt;src.model.base_data.Stream object at 0x7f614f...</td>\n",
       "    </tr>\n",
       "    <tr>\n",
       "      <th>2016-05-25</th>\n",
       "      <td>194.00</td>\n",
       "      <td>137.666147</td>\n",
       "      <td>5.536681</td>\n",
       "      <td>woolton do</td>\n",
       "      <td>warrington mail centre</td>\n",
       "      <td>&lt;src.model.base_data.Stream object at 0x7f614f...</td>\n",
       "    </tr>\n",
       "    <tr>\n",
       "      <th>2016-05-26</th>\n",
       "      <td>128.00</td>\n",
       "      <td>134.513758</td>\n",
       "      <td>6.966346</td>\n",
       "      <td>woolton do</td>\n",
       "      <td>warrington mail centre</td>\n",
       "      <td>&lt;src.model.base_data.Stream object at 0x7f614f...</td>\n",
       "    </tr>\n",
       "    <tr>\n",
       "      <th>2016-05-27</th>\n",
       "      <td>109.00</td>\n",
       "      <td>121.786860</td>\n",
       "      <td>8.742591</td>\n",
       "      <td>woolton do</td>\n",
       "      <td>warrington mail centre</td>\n",
       "      <td>&lt;src.model.base_data.Stream object at 0x7f614f...</td>\n",
       "    </tr>\n",
       "    <tr>\n",
       "      <th>2016-05-28</th>\n",
       "      <td>102.00</td>\n",
       "      <td>115.406556</td>\n",
       "      <td>6.600877</td>\n",
       "      <td>woolton do</td>\n",
       "      <td>warrington mail centre</td>\n",
       "      <td>&lt;src.model.base_data.Stream object at 0x7f614f...</td>\n",
       "    </tr>\n",
       "    <tr>\n",
       "      <th>2016-05-31</th>\n",
       "      <td>74.00</td>\n",
       "      <td>80.087842</td>\n",
       "      <td>8.274966</td>\n",
       "      <td>woolton do</td>\n",
       "      <td>warrington mail centre</td>\n",
       "      <td>&lt;src.model.base_data.Stream object at 0x7f614f...</td>\n",
       "    </tr>\n",
       "  </tbody>\n",
       "</table>\n",
       "<p>238460 rows × 6 columns</p>\n",
       "</div>"
      ],
      "text/plain": [
       "              ytrue         yhat       error          DO  \\\n",
       "date                                                       \n",
       "2016-05-09  3872.00  3816.303805   94.772769   altens do   \n",
       "2016-05-10  2704.00  4010.267055   65.954690   altens do   \n",
       "2016-05-11  4582.00  4695.382003   69.567208   altens do   \n",
       "2016-05-12  4685.00  5672.388539   72.028861   altens do   \n",
       "2016-05-13  4433.00  5252.240984   98.415473   altens do   \n",
       "2016-05-14  4048.00  4354.036924   47.219309   altens do   \n",
       "2016-05-16  2467.00  3861.772534  107.999691   altens do   \n",
       "2016-05-17  4467.00  4002.701581   60.678195   altens do   \n",
       "2016-05-18  3592.00  4683.073497   51.391756   altens do   \n",
       "2016-05-19  9292.00  5678.264943   78.531311   altens do   \n",
       "2016-05-20  8074.00  5257.236788  128.289154   altens do   \n",
       "2016-05-21  3521.25  4344.189281   40.193234   altens do   \n",
       "2016-05-23  3843.00  3804.465273   90.188834   altens do   \n",
       "2016-05-24  3939.00  4005.446845   68.767276   altens do   \n",
       "2016-05-25  2486.00  4670.970907   57.730808   altens do   \n",
       "2016-05-26  4660.00  5663.006792   93.939486   altens do   \n",
       "2016-05-27  3524.00  5266.989466  131.691630   altens do   \n",
       "2016-05-28  3796.00  4335.481941   30.229799   altens do   \n",
       "2016-05-30  3394.00  3824.084954  103.059317   altens do   \n",
       "2016-05-31  5247.00  4014.564007   72.817175   altens do   \n",
       "2016-05-09  2554.00  2524.712380   84.069044   altens do   \n",
       "2016-05-10  1240.00  1485.903191   76.424418   altens do   \n",
       "2016-05-11  1562.00  2291.478160   89.245241   altens do   \n",
       "2016-05-12  2170.00  2745.204470   74.108375   altens do   \n",
       "2016-05-13  2032.00  2660.208738   76.876608   altens do   \n",
       "2016-05-14  1775.00  2681.846601   69.596562   altens do   \n",
       "2016-05-16  3442.00  2499.106985   57.291379   altens do   \n",
       "2016-05-17   930.00  1444.662236   62.901761   altens do   \n",
       "2016-05-18  1827.00  2228.180467   92.517942   altens do   \n",
       "2016-05-19  1729.00  2668.474225   87.143242   altens do   \n",
       "...             ...          ...         ...         ...   \n",
       "2016-05-18   282.00   204.081590    3.774823  woolton do   \n",
       "2016-05-19   183.00   193.589300    5.445761  woolton do   \n",
       "2016-05-20   208.00   171.153864    5.830698  woolton do   \n",
       "2016-05-21   224.00   162.315469    5.092378  woolton do   \n",
       "2016-05-23   101.00   112.500252    4.815598  woolton do   \n",
       "2016-05-24   154.00   134.450410    5.806571  woolton do   \n",
       "2016-05-25   226.25   201.561491    4.879145  woolton do   \n",
       "2016-05-26   234.00   195.483828    4.700878  woolton do   \n",
       "2016-05-27   200.00   174.430789    4.414299  woolton do   \n",
       "2016-05-28   187.00   164.173568    4.584564  woolton do   \n",
       "2016-05-31   136.00   134.878148    5.770464  woolton do   \n",
       "2016-05-09    64.00    85.185503    3.610523  woolton do   \n",
       "2016-05-10    77.00    84.788659    9.684787  woolton do   \n",
       "2016-05-11   118.00   144.114588   11.011320  woolton do   \n",
       "2016-05-12    87.00   139.797154   10.368150  woolton do   \n",
       "2016-05-13    84.00   126.867795    7.795151  woolton do   \n",
       "2016-05-14   101.00   118.254832    6.594221  woolton do   \n",
       "2016-05-16    60.00    84.550283    3.967878  woolton do   \n",
       "2016-05-17    57.00    81.059179    7.504438  woolton do   \n",
       "2016-05-18   154.00   139.928788    8.603504  woolton do   \n",
       "2016-05-19   100.00   135.946826    7.711034  woolton do   \n",
       "2016-05-20   114.00   121.888350    6.727853  woolton do   \n",
       "2016-05-21   122.00   114.820682    4.792179  woolton do   \n",
       "2016-05-23    55.00    83.512589    2.975561  woolton do   \n",
       "2016-05-24    84.00    77.734628    4.335090  woolton do   \n",
       "2016-05-25   194.00   137.666147    5.536681  woolton do   \n",
       "2016-05-26   128.00   134.513758    6.966346  woolton do   \n",
       "2016-05-27   109.00   121.786860    8.742591  woolton do   \n",
       "2016-05-28   102.00   115.406556    6.600877  woolton do   \n",
       "2016-05-31    74.00    80.087842    8.274966  woolton do   \n",
       "\n",
       "                                MC  \\\n",
       "date                                 \n",
       "2016-05-09    aberdeen mail centre   \n",
       "2016-05-10    aberdeen mail centre   \n",
       "2016-05-11    aberdeen mail centre   \n",
       "2016-05-12    aberdeen mail centre   \n",
       "2016-05-13    aberdeen mail centre   \n",
       "2016-05-14    aberdeen mail centre   \n",
       "2016-05-16    aberdeen mail centre   \n",
       "2016-05-17    aberdeen mail centre   \n",
       "2016-05-18    aberdeen mail centre   \n",
       "2016-05-19    aberdeen mail centre   \n",
       "2016-05-20    aberdeen mail centre   \n",
       "2016-05-21    aberdeen mail centre   \n",
       "2016-05-23    aberdeen mail centre   \n",
       "2016-05-24    aberdeen mail centre   \n",
       "2016-05-25    aberdeen mail centre   \n",
       "2016-05-26    aberdeen mail centre   \n",
       "2016-05-27    aberdeen mail centre   \n",
       "2016-05-28    aberdeen mail centre   \n",
       "2016-05-30    aberdeen mail centre   \n",
       "2016-05-31    aberdeen mail centre   \n",
       "2016-05-09    aberdeen mail centre   \n",
       "2016-05-10    aberdeen mail centre   \n",
       "2016-05-11    aberdeen mail centre   \n",
       "2016-05-12    aberdeen mail centre   \n",
       "2016-05-13    aberdeen mail centre   \n",
       "2016-05-14    aberdeen mail centre   \n",
       "2016-05-16    aberdeen mail centre   \n",
       "2016-05-17    aberdeen mail centre   \n",
       "2016-05-18    aberdeen mail centre   \n",
       "2016-05-19    aberdeen mail centre   \n",
       "...                            ...   \n",
       "2016-05-18  warrington mail centre   \n",
       "2016-05-19  warrington mail centre   \n",
       "2016-05-20  warrington mail centre   \n",
       "2016-05-21  warrington mail centre   \n",
       "2016-05-23  warrington mail centre   \n",
       "2016-05-24  warrington mail centre   \n",
       "2016-05-25  warrington mail centre   \n",
       "2016-05-26  warrington mail centre   \n",
       "2016-05-27  warrington mail centre   \n",
       "2016-05-28  warrington mail centre   \n",
       "2016-05-31  warrington mail centre   \n",
       "2016-05-09  warrington mail centre   \n",
       "2016-05-10  warrington mail centre   \n",
       "2016-05-11  warrington mail centre   \n",
       "2016-05-12  warrington mail centre   \n",
       "2016-05-13  warrington mail centre   \n",
       "2016-05-14  warrington mail centre   \n",
       "2016-05-16  warrington mail centre   \n",
       "2016-05-17  warrington mail centre   \n",
       "2016-05-18  warrington mail centre   \n",
       "2016-05-19  warrington mail centre   \n",
       "2016-05-20  warrington mail centre   \n",
       "2016-05-21  warrington mail centre   \n",
       "2016-05-23  warrington mail centre   \n",
       "2016-05-24  warrington mail centre   \n",
       "2016-05-25  warrington mail centre   \n",
       "2016-05-26  warrington mail centre   \n",
       "2016-05-27  warrington mail centre   \n",
       "2016-05-28  warrington mail centre   \n",
       "2016-05-31  warrington mail centre   \n",
       "\n",
       "                                                       stream  \n",
       "date                                                           \n",
       "2016-05-09  <src.model.base_data.Stream object at 0x7f6150...  \n",
       "2016-05-10  <src.model.base_data.Stream object at 0x7f6150...  \n",
       "2016-05-11  <src.model.base_data.Stream object at 0x7f6150...  \n",
       "2016-05-12  <src.model.base_data.Stream object at 0x7f6150...  \n",
       "2016-05-13  <src.model.base_data.Stream object at 0x7f6150...  \n",
       "2016-05-14  <src.model.base_data.Stream object at 0x7f6150...  \n",
       "2016-05-16  <src.model.base_data.Stream object at 0x7f6150...  \n",
       "2016-05-17  <src.model.base_data.Stream object at 0x7f6150...  \n",
       "2016-05-18  <src.model.base_data.Stream object at 0x7f6150...  \n",
       "2016-05-19  <src.model.base_data.Stream object at 0x7f6150...  \n",
       "2016-05-20  <src.model.base_data.Stream object at 0x7f6150...  \n",
       "2016-05-21  <src.model.base_data.Stream object at 0x7f6150...  \n",
       "2016-05-23  <src.model.base_data.Stream object at 0x7f6150...  \n",
       "2016-05-24  <src.model.base_data.Stream object at 0x7f6150...  \n",
       "2016-05-25  <src.model.base_data.Stream object at 0x7f6150...  \n",
       "2016-05-26  <src.model.base_data.Stream object at 0x7f6150...  \n",
       "2016-05-27  <src.model.base_data.Stream object at 0x7f6150...  \n",
       "2016-05-28  <src.model.base_data.Stream object at 0x7f6150...  \n",
       "2016-05-30  <src.model.base_data.Stream object at 0x7f6150...  \n",
       "2016-05-31  <src.model.base_data.Stream object at 0x7f6150...  \n",
       "2016-05-09  <src.model.base_data.Stream object at 0x7f6150...  \n",
       "2016-05-10  <src.model.base_data.Stream object at 0x7f6150...  \n",
       "2016-05-11  <src.model.base_data.Stream object at 0x7f6150...  \n",
       "2016-05-12  <src.model.base_data.Stream object at 0x7f6150...  \n",
       "2016-05-13  <src.model.base_data.Stream object at 0x7f6150...  \n",
       "2016-05-14  <src.model.base_data.Stream object at 0x7f6150...  \n",
       "2016-05-16  <src.model.base_data.Stream object at 0x7f6150...  \n",
       "2016-05-17  <src.model.base_data.Stream object at 0x7f6150...  \n",
       "2016-05-18  <src.model.base_data.Stream object at 0x7f6150...  \n",
       "2016-05-19  <src.model.base_data.Stream object at 0x7f6150...  \n",
       "...                                                       ...  \n",
       "2016-05-18  <src.model.base_data.Stream object at 0x7f614f...  \n",
       "2016-05-19  <src.model.base_data.Stream object at 0x7f614f...  \n",
       "2016-05-20  <src.model.base_data.Stream object at 0x7f614f...  \n",
       "2016-05-21  <src.model.base_data.Stream object at 0x7f614f...  \n",
       "2016-05-23  <src.model.base_data.Stream object at 0x7f614f...  \n",
       "2016-05-24  <src.model.base_data.Stream object at 0x7f614f...  \n",
       "2016-05-25  <src.model.base_data.Stream object at 0x7f614f...  \n",
       "2016-05-26  <src.model.base_data.Stream object at 0x7f614f...  \n",
       "2016-05-27  <src.model.base_data.Stream object at 0x7f614f...  \n",
       "2016-05-28  <src.model.base_data.Stream object at 0x7f614f...  \n",
       "2016-05-31  <src.model.base_data.Stream object at 0x7f614f...  \n",
       "2016-05-09  <src.model.base_data.Stream object at 0x7f614f...  \n",
       "2016-05-10  <src.model.base_data.Stream object at 0x7f614f...  \n",
       "2016-05-11  <src.model.base_data.Stream object at 0x7f614f...  \n",
       "2016-05-12  <src.model.base_data.Stream object at 0x7f614f...  \n",
       "2016-05-13  <src.model.base_data.Stream object at 0x7f614f...  \n",
       "2016-05-14  <src.model.base_data.Stream object at 0x7f614f...  \n",
       "2016-05-16  <src.model.base_data.Stream object at 0x7f614f...  \n",
       "2016-05-17  <src.model.base_data.Stream object at 0x7f614f...  \n",
       "2016-05-18  <src.model.base_data.Stream object at 0x7f614f...  \n",
       "2016-05-19  <src.model.base_data.Stream object at 0x7f614f...  \n",
       "2016-05-20  <src.model.base_data.Stream object at 0x7f614f...  \n",
       "2016-05-21  <src.model.base_data.Stream object at 0x7f614f...  \n",
       "2016-05-23  <src.model.base_data.Stream object at 0x7f614f...  \n",
       "2016-05-24  <src.model.base_data.Stream object at 0x7f614f...  \n",
       "2016-05-25  <src.model.base_data.Stream object at 0x7f614f...  \n",
       "2016-05-26  <src.model.base_data.Stream object at 0x7f614f...  \n",
       "2016-05-27  <src.model.base_data.Stream object at 0x7f614f...  \n",
       "2016-05-28  <src.model.base_data.Stream object at 0x7f614f...  \n",
       "2016-05-31  <src.model.base_data.Stream object at 0x7f614f...  \n",
       "\n",
       "[238460 rows x 6 columns]"
      ]
     },
     "execution_count": 49,
     "metadata": {},
     "output_type": "execute_result"
    }
   ],
   "source": [
    "forecast"
   ]
  },
  {
   "cell_type": "code",
   "execution_count": 39,
   "metadata": {
    "collapsed": false
   },
   "outputs": [
    {
     "data": {
      "text/plain": [
       "Timestamp('2016-05-09 00:00:00')"
      ]
     },
     "execution_count": 39,
     "metadata": {},
     "output_type": "execute_result"
    }
   ],
   "source": [
    "forecast.index.min()"
   ]
  },
  {
   "cell_type": "code",
   "execution_count": 51,
   "metadata": {
    "collapsed": false
   },
   "outputs": [],
   "source": [
    "error = pd.read_csv(os.path.join(folder,'error.csv'))"
   ]
  },
  {
   "cell_type": "code",
   "execution_count": 6,
   "metadata": {
    "collapsed": true
   },
   "outputs": [],
   "source": [
    "randomforest0 = forecast[forecast.ytrue!=0]"
   ]
  },
  {
   "cell_type": "code",
   "execution_count": 16,
   "metadata": {
    "collapsed": false
   },
   "outputs": [
    {
     "data": {
      "text/plain": [
       "26.507894513859714"
      ]
     },
     "execution_count": 16,
     "metadata": {},
     "output_type": "execute_result"
    }
   ],
   "source": [
    "SMAPE(randomforest0.ytrue,randomforest0.yhat)"
   ]
  },
  {
   "cell_type": "code",
   "execution_count": 56,
   "metadata": {
    "collapsed": false
   },
   "outputs": [],
   "source": [
    "scoresBYstreamdo = randomforest0.groupby(['DO','stream']).apply(lambda x:SMAPE(x.ytrue,x.yhat)).reset_index()"
   ]
  },
  {
   "cell_type": "code",
   "execution_count": 57,
   "metadata": {
    "collapsed": false
   },
   "outputs": [
    {
     "data": {
      "text/plain": [
       "<matplotlib.axes._subplots.AxesSubplot at 0x10cf3b490>"
      ]
     },
     "execution_count": 57,
     "metadata": {},
     "output_type": "execute_result"
    },
    {
     "data": {
      "image/png": "[encoded data removed]",
      "text/plain": [
       "<matplotlib.figure.Figure at 0x10cf49390>"
      ]
     },
     "metadata": {},
     "output_type": "display_data"
    }
   ],
   "source": [
    "scoresBYstreamdo[0].hist(bins=np.arange(1,200,5))"
   ]
  },
  {
   "cell_type": "code",
   "execution_count": 59,
   "metadata": {
    "collapsed": true
   },
   "outputs": [],
   "source": [
    "from sklearn.metrics import r2_score"
   ]
  },
  {
   "cell_type": "markdown",
   "metadata": {},
   "source": [
    "# New random forest "
   ]
  },
  {
   "cell_type": "code",
   "execution_count": 10,
   "metadata": {
    "collapsed": false
   },
   "outputs": [
    {
     "name": "stderr",
     "output_type": "stream",
     "text": [
      "100%|██████████| 601/601 [00:02<00:00, 272.69it/s]\n"
     ]
    }
   ],
   "source": [
    "c, forecast = load_folder(os.path.join(RFCLUSTER,'forecast'))"
   ]
  },
  {
   "cell_type": "code",
   "execution_count": 13,
   "metadata": {
    "collapsed": false
   },
   "outputs": [],
   "source": [
    "d = forecast.groupby('MC').get_group('aberdeen mail centre')"
   ]
  },
  {
   "cell_type": "code",
   "execution_count": 14,
   "metadata": {
    "collapsed": true
   },
   "outputs": [],
   "source": [
    "randomforest1 = forecast[forecast.ytrue!=0]"
   ]
  },
  {
   "cell_type": "code",
   "execution_count": 15,
   "metadata": {
    "collapsed": false
   },
   "outputs": [
    {
     "data": {
      "text/plain": [
       "32.511645285930605"
      ]
     },
     "execution_count": 15,
     "metadata": {},
     "output_type": "execute_result"
    }
   ],
   "source": [
    "SMAPE(randomforest1.ytrue,randomforest1.yhat)"
   ]
  },
  {
   "cell_type": "code",
   "execution_count": 10,
   "metadata": {
    "collapsed": false
   },
   "outputs": [
    {
     "data": {
      "text/plain": [
       "<matplotlib.axes._subplots.AxesSubplot at 0x109ee2850>"
      ]
     },
     "execution_count": 10,
     "metadata": {},
     "output_type": "execute_result"
    },
    {
     "data": {
      "image/png": "[encoded data removed]",
      "text/plain": [
       "<matplotlib.figure.Figure at 0x109edbe10>"
      ]
     },
     "metadata": {},
     "output_type": "display_data"
    }
   ],
   "source": [
    "scoresBYstreamdo = randomforest1.groupby(['DO','stream']).apply(lambda x:SMAPE(x.ytrue,x.yhat)).reset_index()\n",
    "scoresBYstreamdo[0].hist(bins=np.arange(1,200,5))"
   ]
  },
  {
   "cell_type": "markdown",
   "metadata": {},
   "source": [
    "# Comparison"
   ]
  },
  {
   "cell_type": "code",
   "execution_count": 12,
   "metadata": {
    "collapsed": false
   },
   "outputs": [
    {
     "ename": "NameError",
     "evalue": "name 'royalmail' is not defined",
     "output_type": "error",
     "traceback": [
      "\u001b[0;31m---------------------------------------------------------------------------\u001b[0m",
      "\u001b[0;31mNameError\u001b[0m                                 Traceback (most recent call last)",
      "\u001b[0;32m<ipython-input-12-34d0b16d2e1e>\u001b[0m in \u001b[0;36m<module>\u001b[0;34m()\u001b[0m\n\u001b[0;32m----> 1\u001b[0;31m \u001b[0;32mfor\u001b[0m \u001b[0mmodel\u001b[0m \u001b[0;32min\u001b[0m \u001b[0;34m[\u001b[0m\u001b[0mroyalmail\u001b[0m\u001b[0;34m,\u001b[0m\u001b[0mrandomforest0\u001b[0m\u001b[0;34m]\u001b[0m\u001b[0;34m:\u001b[0m\u001b[0;34m\u001b[0m\u001b[0m\n\u001b[0m\u001b[1;32m      2\u001b[0m     \u001b[0mscoresBYstreamdo\u001b[0m \u001b[0;34m=\u001b[0m \u001b[0mmodel\u001b[0m\u001b[0;34m.\u001b[0m\u001b[0mgroupby\u001b[0m\u001b[0;34m(\u001b[0m\u001b[0;34m[\u001b[0m\u001b[0;34m'DO'\u001b[0m\u001b[0;34m,\u001b[0m\u001b[0;34m'stream'\u001b[0m\u001b[0;34m]\u001b[0m\u001b[0;34m)\u001b[0m\u001b[0;34m.\u001b[0m\u001b[0mapply\u001b[0m\u001b[0;34m(\u001b[0m\u001b[0;32mlambda\u001b[0m \u001b[0mx\u001b[0m\u001b[0;34m:\u001b[0m\u001b[0mSMAPE\u001b[0m\u001b[0;34m(\u001b[0m\u001b[0mx\u001b[0m\u001b[0;34m.\u001b[0m\u001b[0mytrue\u001b[0m\u001b[0;34m,\u001b[0m\u001b[0mx\u001b[0m\u001b[0;34m.\u001b[0m\u001b[0myhat\u001b[0m\u001b[0;34m)\u001b[0m\u001b[0;34m)\u001b[0m\u001b[0;34m.\u001b[0m\u001b[0mreset_index\u001b[0m\u001b[0;34m(\u001b[0m\u001b[0;34m)\u001b[0m\u001b[0;34m\u001b[0m\u001b[0m\n\u001b[1;32m      3\u001b[0m     \u001b[0mscoresBYstreamdo\u001b[0m\u001b[0;34m[\u001b[0m\u001b[0;36m0\u001b[0m\u001b[0;34m]\u001b[0m\u001b[0;34m.\u001b[0m\u001b[0mhist\u001b[0m\u001b[0;34m(\u001b[0m\u001b[0mbins\u001b[0m\u001b[0;34m=\u001b[0m\u001b[0mnp\u001b[0m\u001b[0;34m.\u001b[0m\u001b[0marange\u001b[0m\u001b[0;34m(\u001b[0m\u001b[0;36m1\u001b[0m\u001b[0;34m,\u001b[0m\u001b[0;36m200\u001b[0m\u001b[0;34m,\u001b[0m\u001b[0;36m5\u001b[0m\u001b[0;34m)\u001b[0m\u001b[0;34m)\u001b[0m\u001b[0;34m\u001b[0m\u001b[0m\n",
      "\u001b[0;31mNameError\u001b[0m: name 'royalmail' is not defined"
     ]
    }
   ],
   "source": [
    "for model in [royalmail,randomforest0]:\n",
    "    scoresBYstreamdo = model.groupby(['DO','stream']).apply(lambda x:SMAPE(x.ytrue,x.yhat)).reset_index()\n",
    "    scoresBYstreamdo[0].hist(bins=np.arange(1,200,5))"
   ]
  },
  {
   "cell_type": "code",
   "execution_count": null,
   "metadata": {
    "collapsed": true
   },
   "outputs": [],
   "source": []
  }
 ],
 "metadata": {
  "kernelspec": {
   "display_name": "Python 2",
   "language": "python",
   "name": "python2"
  },
  "language_info": {
   "codemirror_mode": {
    "name": "ipython",
    "version": 2
   },
   "file_extension": ".py",
   "mimetype": "text/x-python",
   "name": "python",
   "nbconvert_exporter": "python",
   "pygments_lexer": "ipython2",
   "version": "2.7.12"
  }
 },
 "nbformat": 4,
 "nbformat_minor": 0
}
