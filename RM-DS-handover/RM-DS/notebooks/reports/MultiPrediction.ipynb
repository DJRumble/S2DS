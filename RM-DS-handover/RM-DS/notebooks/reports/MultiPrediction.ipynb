{
 "cells": [
  {
   "cell_type": "code",
   "execution_count": 3,
   "metadata": {
    "collapsed": false
   },
   "outputs": [
    {
     "name": "stdout",
     "output_type": "stream",
     "text": [
      "The autoreload extension is already loaded. To reload it, use:\n",
      "  %reload_ext autoreload\n"
     ]
    }
   ],
   "source": [
    "%load_ext autoreload\n",
    "%autoreload 2\n",
    "%matplotlib inline\n",
    "\n",
    "import os\n",
    "from functools import reduce\n",
    "import sys\n",
    "sys.path.append(os.environ['ROOT_DIR'])\n",
    "from setting import *\n",
    "\n",
    "import matplotlib.pylab as plt\n",
    "import pandas as pd\n",
    "import random\n",
    "import seaborn as sns\n",
    "from tqdm import *\n",
    "import numpy as np\n",
    "\n",
    "from src.data.helper import *\n",
    "from src.model.naive_benchmark import *\n",
    "from src.visualization.visualize import MailCenter\n",
    "\n",
    "import matplotlib.pylab as plt\n",
    "\n",
    "from src.model.transformer import *\n",
    "from sklearn.pipeline import Pipeline\n",
    "from src.model.base_data import *\n",
    "from src.model.estimator import *\n",
    "\n",
    "from src.model.mimo_transformer import *\n",
    "from src.model.random_forest import *"
   ]
  },
  {
   "cell_type": "code",
   "execution_count": 5,
   "metadata": {
    "collapsed": false
   },
   "outputs": [],
   "source": [
    "EXPNAME = 'WINDOW7_HORIZON31_RESSTL'\n",
    "feature = AgregatedDataFeature(expname=EXPNAME,resume=True)"
   ]
  },
  {
   "cell_type": "code",
   "execution_count": 6,
   "metadata": {
    "collapsed": false
   },
   "outputs": [],
   "source": [
    "triples = pd.read_csv(os.path.join(PROCESSED, 'triples.csv'))\n",
    "triples = triples.groupby(['MC','DO']).get_group(('romford mail centre','whitechapel do'))\n",
    "#triples = feature.identify_triples(triples)\n",
    "#feature.triples=triples"
   ]
  },
  {
   "cell_type": "code",
   "execution_count": 7,
   "metadata": {
    "collapsed": false
   },
   "outputs": [
    {
     "name": "stderr",
     "output_type": "stream",
     "text": [
      "100%|██████████| 10/10 [00:01<00:00,  7.79it/s]"
     ]
    },
    {
     "name": "stdout",
     "output_type": "stream",
     "text": [
      "Identify 10 triples to be fitted together\n",
      "Found 0 error\n"
     ]
    },
    {
     "name": "stderr",
     "output_type": "stream",
     "text": [
      "\n"
     ]
    }
   ],
   "source": [
    "Xtr,ytr,Xte,yte = feature.load_stacked_features(triples)"
   ]
  },
  {
   "cell_type": "code",
   "execution_count": 8,
   "metadata": {
    "collapsed": true
   },
   "outputs": [],
   "source": [
    "model = ExtraTreeModel(folder=TEST_MODEL,\n",
    "                        frame=feature.frame,\n",
    "                        specific_name='ff')"
   ]
  },
  {
   "cell_type": "code",
   "execution_count": 9,
   "metadata": {
    "collapsed": false
   },
   "outputs": [
    {
     "name": "stdout",
     "output_type": "stream",
     "text": [
      "CPU times: user 14.9 s, sys: 171 ms, total: 15.1 s\n",
      "Wall time: 15.5 s\n"
     ]
    }
   ],
   "source": [
    "%time model.fit(Xtr,ytr)"
   ]
  },
  {
   "cell_type": "code",
   "execution_count": 45,
   "metadata": {
    "collapsed": false
   },
   "outputs": [],
   "source": [
    "from src.model.base_estimator  import *\n",
    "forecast = Forecast(model=model,feature=feature)"
   ]
  },
  {
   "cell_type": "code",
   "execution_count": 46,
   "metadata": {
    "collapsed": false
   },
   "outputs": [],
   "source": [
    "d = forecast.stl_forecast('romford mail centre','whitechapel do','T0076')"
   ]
  },
  {
   "cell_type": "code",
   "execution_count": 41,
   "metadata": {
    "collapsed": false
   },
   "outputs": [
    {
     "data": {
      "text/plain": [
       "17.225338759739163"
      ]
     },
     "execution_count": 41,
     "metadata": {},
     "output_type": "execute_result"
    }
   ],
   "source": [
    "a = d[d.ytrue!=0]\n",
    "model.SMAPE(a.ytrue,a.stlhat)"
   ]
  },
  {
   "cell_type": "code",
   "execution_count": 49,
   "metadata": {
    "collapsed": false
   },
   "outputs": [
    {
     "name": "stderr",
     "output_type": "stream",
     "text": [
      "100%|██████████| 10/10 [00:01<00:00,  9.27it/s]"
     ]
    },
    {
     "name": "stdout",
     "output_type": "stream",
     "text": [
      "Identify 10 triples to be fitted together\n"
     ]
    },
    {
     "name": "stderr",
     "output_type": "stream",
     "text": [
      "\n"
     ]
    }
   ],
   "source": [
    "forecast.dump_forecasts(triples)"
   ]
  },
  {
   "cell_type": "code",
   "execution_count": 68,
   "metadata": {
    "collapsed": false
   },
   "outputs": [],
   "source": [
    "d = pd.read_csv(os.path.join(EXTRATREE_BYMC_WINDOW7_HORIZON31_RESSTL,'forecast','glasgow_mail_centre_lanark_do_T0064.csv'))\n",
    "d = d[d.ytrue!=0]"
   ]
  },
  {
   "cell_type": "code",
   "execution_count": 69,
   "metadata": {
    "collapsed": false
   },
   "outputs": [
    {
     "data": {
      "text/plain": [
       "<matplotlib.axes._subplots.AxesSubplot at 0x115984a90>"
      ]
     },
     "execution_count": 69,
     "metadata": {},
     "output_type": "execute_result"
    },
    {
     "data": {
      "image/png": "[encoded data removed]",
      "text/plain": [
       "<matplotlib.figure.Figure at 0x11127bf10>"
      ]
     },
     "metadata": {},
     "output_type": "display_data"
    }
   ],
   "source": [
    "\n",
    "d.stlhat.plot()\n",
    "d.yhat.plot(marker='o')\n",
    "d.ytrue.plot()"
   ]
  },
  {
   "cell_type": "code",
   "execution_count": 50,
   "metadata": {
    "collapsed": false
   },
   "outputs": [
    {
     "ename": "IOError",
     "evalue": "File /Users/cthorey/Documents/project/RM-DS/models/EXTRATREE_BYMC_WINDOW7_HORIZON31_RESSTL/forecast/glasgow_mail_centre_larkhall_do_T0003.csv  does not exist",
     "output_type": "error",
     "traceback": [
      "\u001b[0;31m---------------------------------------------------------------------------\u001b[0m",
      "\u001b[0;31mIOError\u001b[0m                                   Traceback (most recent call last)",
      "\u001b[0;32m<ipython-input-50-57331a73cad9>\u001b[0m in \u001b[0;36m<module>\u001b[0;34m()\u001b[0m\n\u001b[0;32m----> 1\u001b[0;31m \u001b[0mpd\u001b[0m\u001b[0;34m.\u001b[0m\u001b[0mread_csv\u001b[0m\u001b[0;34m(\u001b[0m\u001b[0;34m'/Users/cthorey/Documents/project/RM-DS/models/EXTRATREE_BYMC_WINDOW7_HORIZON31_RESSTL/forecast/glasgow_mail_centre_larkhall_do_T0003.csv '\u001b[0m\u001b[0;34m)\u001b[0m\u001b[0;34m\u001b[0m\u001b[0m\n\u001b[0m",
      "\u001b[0;32m/Users/cthorey/miniconda2/envs/py27/lib/python2.7/site-packages/pandas/io/parsers.pyc\u001b[0m in \u001b[0;36mparser_f\u001b[0;34m(filepath_or_buffer, sep, delimiter, header, names, index_col, usecols, squeeze, prefix, mangle_dupe_cols, dtype, engine, converters, true_values, false_values, skipinitialspace, skiprows, skipfooter, nrows, na_values, keep_default_na, na_filter, verbose, skip_blank_lines, parse_dates, infer_datetime_format, keep_date_col, date_parser, dayfirst, iterator, chunksize, compression, thousands, decimal, lineterminator, quotechar, quoting, escapechar, comment, encoding, dialect, tupleize_cols, error_bad_lines, warn_bad_lines, skip_footer, doublequote, delim_whitespace, as_recarray, compact_ints, use_unsigned, low_memory, buffer_lines, memory_map, float_precision)\u001b[0m\n\u001b[1;32m    560\u001b[0m                     skip_blank_lines=skip_blank_lines)\n\u001b[1;32m    561\u001b[0m \u001b[0;34m\u001b[0m\u001b[0m\n\u001b[0;32m--> 562\u001b[0;31m         \u001b[0;32mreturn\u001b[0m \u001b[0m_read\u001b[0m\u001b[0;34m(\u001b[0m\u001b[0mfilepath_or_buffer\u001b[0m\u001b[0;34m,\u001b[0m \u001b[0mkwds\u001b[0m\u001b[0;34m)\u001b[0m\u001b[0;34m\u001b[0m\u001b[0m\n\u001b[0m\u001b[1;32m    563\u001b[0m \u001b[0;34m\u001b[0m\u001b[0m\n\u001b[1;32m    564\u001b[0m     \u001b[0mparser_f\u001b[0m\u001b[0;34m.\u001b[0m\u001b[0m__name__\u001b[0m \u001b[0;34m=\u001b[0m \u001b[0mname\u001b[0m\u001b[0;34m\u001b[0m\u001b[0m\n",
      "\u001b[0;32m/Users/cthorey/miniconda2/envs/py27/lib/python2.7/site-packages/pandas/io/parsers.pyc\u001b[0m in \u001b[0;36m_read\u001b[0;34m(filepath_or_buffer, kwds)\u001b[0m\n\u001b[1;32m    313\u001b[0m \u001b[0;34m\u001b[0m\u001b[0m\n\u001b[1;32m    314\u001b[0m     \u001b[0;31m# Create the parser.\u001b[0m\u001b[0;34m\u001b[0m\u001b[0;34m\u001b[0m\u001b[0m\n\u001b[0;32m--> 315\u001b[0;31m     \u001b[0mparser\u001b[0m \u001b[0;34m=\u001b[0m \u001b[0mTextFileReader\u001b[0m\u001b[0;34m(\u001b[0m\u001b[0mfilepath_or_buffer\u001b[0m\u001b[0;34m,\u001b[0m \u001b[0;34m**\u001b[0m\u001b[0mkwds\u001b[0m\u001b[0;34m)\u001b[0m\u001b[0;34m\u001b[0m\u001b[0m\n\u001b[0m\u001b[1;32m    316\u001b[0m \u001b[0;34m\u001b[0m\u001b[0m\n\u001b[1;32m    317\u001b[0m     \u001b[0;32mif\u001b[0m \u001b[0;34m(\u001b[0m\u001b[0mnrows\u001b[0m \u001b[0;32mis\u001b[0m \u001b[0;32mnot\u001b[0m \u001b[0mNone\u001b[0m\u001b[0;34m)\u001b[0m \u001b[0;32mand\u001b[0m \u001b[0;34m(\u001b[0m\u001b[0mchunksize\u001b[0m \u001b[0;32mis\u001b[0m \u001b[0;32mnot\u001b[0m \u001b[0mNone\u001b[0m\u001b[0;34m)\u001b[0m\u001b[0;34m:\u001b[0m\u001b[0;34m\u001b[0m\u001b[0m\n",
      "\u001b[0;32m/Users/cthorey/miniconda2/envs/py27/lib/python2.7/site-packages/pandas/io/parsers.pyc\u001b[0m in \u001b[0;36m__init__\u001b[0;34m(self, f, engine, **kwds)\u001b[0m\n\u001b[1;32m    643\u001b[0m             \u001b[0mself\u001b[0m\u001b[0;34m.\u001b[0m\u001b[0moptions\u001b[0m\u001b[0;34m[\u001b[0m\u001b[0;34m'has_index_names'\u001b[0m\u001b[0;34m]\u001b[0m \u001b[0;34m=\u001b[0m \u001b[0mkwds\u001b[0m\u001b[0;34m[\u001b[0m\u001b[0;34m'has_index_names'\u001b[0m\u001b[0;34m]\u001b[0m\u001b[0;34m\u001b[0m\u001b[0m\n\u001b[1;32m    644\u001b[0m \u001b[0;34m\u001b[0m\u001b[0m\n\u001b[0;32m--> 645\u001b[0;31m         \u001b[0mself\u001b[0m\u001b[0;34m.\u001b[0m\u001b[0m_make_engine\u001b[0m\u001b[0;34m(\u001b[0m\u001b[0mself\u001b[0m\u001b[0;34m.\u001b[0m\u001b[0mengine\u001b[0m\u001b[0;34m)\u001b[0m\u001b[0;34m\u001b[0m\u001b[0m\n\u001b[0m\u001b[1;32m    646\u001b[0m \u001b[0;34m\u001b[0m\u001b[0m\n\u001b[1;32m    647\u001b[0m     \u001b[0;32mdef\u001b[0m \u001b[0mclose\u001b[0m\u001b[0;34m(\u001b[0m\u001b[0mself\u001b[0m\u001b[0;34m)\u001b[0m\u001b[0;34m:\u001b[0m\u001b[0;34m\u001b[0m\u001b[0m\n",
      "\u001b[0;32m/Users/cthorey/miniconda2/envs/py27/lib/python2.7/site-packages/pandas/io/parsers.pyc\u001b[0m in \u001b[0;36m_make_engine\u001b[0;34m(self, engine)\u001b[0m\n\u001b[1;32m    797\u001b[0m     \u001b[0;32mdef\u001b[0m \u001b[0m_make_engine\u001b[0m\u001b[0;34m(\u001b[0m\u001b[0mself\u001b[0m\u001b[0;34m,\u001b[0m \u001b[0mengine\u001b[0m\u001b[0;34m=\u001b[0m\u001b[0;34m'c'\u001b[0m\u001b[0;34m)\u001b[0m\u001b[0;34m:\u001b[0m\u001b[0;34m\u001b[0m\u001b[0m\n\u001b[1;32m    798\u001b[0m         \u001b[0;32mif\u001b[0m \u001b[0mengine\u001b[0m \u001b[0;34m==\u001b[0m \u001b[0;34m'c'\u001b[0m\u001b[0;34m:\u001b[0m\u001b[0;34m\u001b[0m\u001b[0m\n\u001b[0;32m--> 799\u001b[0;31m             \u001b[0mself\u001b[0m\u001b[0;34m.\u001b[0m\u001b[0m_engine\u001b[0m \u001b[0;34m=\u001b[0m \u001b[0mCParserWrapper\u001b[0m\u001b[0;34m(\u001b[0m\u001b[0mself\u001b[0m\u001b[0;34m.\u001b[0m\u001b[0mf\u001b[0m\u001b[0;34m,\u001b[0m \u001b[0;34m**\u001b[0m\u001b[0mself\u001b[0m\u001b[0;34m.\u001b[0m\u001b[0moptions\u001b[0m\u001b[0;34m)\u001b[0m\u001b[0;34m\u001b[0m\u001b[0m\n\u001b[0m\u001b[1;32m    800\u001b[0m         \u001b[0;32melse\u001b[0m\u001b[0;34m:\u001b[0m\u001b[0;34m\u001b[0m\u001b[0m\n\u001b[1;32m    801\u001b[0m             \u001b[0;32mif\u001b[0m \u001b[0mengine\u001b[0m \u001b[0;34m==\u001b[0m \u001b[0;34m'python'\u001b[0m\u001b[0;34m:\u001b[0m\u001b[0;34m\u001b[0m\u001b[0m\n",
      "\u001b[0;32m/Users/cthorey/miniconda2/envs/py27/lib/python2.7/site-packages/pandas/io/parsers.pyc\u001b[0m in \u001b[0;36m__init__\u001b[0;34m(self, src, **kwds)\u001b[0m\n\u001b[1;32m   1211\u001b[0m         \u001b[0mkwds\u001b[0m\u001b[0;34m[\u001b[0m\u001b[0;34m'allow_leading_cols'\u001b[0m\u001b[0;34m]\u001b[0m \u001b[0;34m=\u001b[0m \u001b[0mself\u001b[0m\u001b[0;34m.\u001b[0m\u001b[0mindex_col\u001b[0m \u001b[0;32mis\u001b[0m \u001b[0;32mnot\u001b[0m \u001b[0mFalse\u001b[0m\u001b[0;34m\u001b[0m\u001b[0m\n\u001b[1;32m   1212\u001b[0m \u001b[0;34m\u001b[0m\u001b[0m\n\u001b[0;32m-> 1213\u001b[0;31m         \u001b[0mself\u001b[0m\u001b[0;34m.\u001b[0m\u001b[0m_reader\u001b[0m \u001b[0;34m=\u001b[0m \u001b[0m_parser\u001b[0m\u001b[0;34m.\u001b[0m\u001b[0mTextReader\u001b[0m\u001b[0;34m(\u001b[0m\u001b[0msrc\u001b[0m\u001b[0;34m,\u001b[0m \u001b[0;34m**\u001b[0m\u001b[0mkwds\u001b[0m\u001b[0;34m)\u001b[0m\u001b[0;34m\u001b[0m\u001b[0m\n\u001b[0m\u001b[1;32m   1214\u001b[0m \u001b[0;34m\u001b[0m\u001b[0m\n\u001b[1;32m   1215\u001b[0m         \u001b[0;31m# XXX\u001b[0m\u001b[0;34m\u001b[0m\u001b[0;34m\u001b[0m\u001b[0m\n",
      "\u001b[0;32mpandas/parser.pyx\u001b[0m in \u001b[0;36mpandas.parser.TextReader.__cinit__ (pandas/parser.c:3427)\u001b[0;34m()\u001b[0m\n",
      "\u001b[0;32mpandas/parser.pyx\u001b[0m in \u001b[0;36mpandas.parser.TextReader._setup_parser_source (pandas/parser.c:6861)\u001b[0;34m()\u001b[0m\n",
      "\u001b[0;31mIOError\u001b[0m: File /Users/cthorey/Documents/project/RM-DS/models/EXTRATREE_BYMC_WINDOW7_HORIZON31_RESSTL/forecast/glasgow_mail_centre_larkhall_do_T0003.csv  does not exist"
     ]
    }
   ],
   "source": [
    "\n",
    "pd.read_csv('/Users/cthorey/Documents/project/RM-DS/models/EXTRATREE_BYMC_WINDOW7_HORIZON31_RESSTL/forecast/glasgow_mail_centre_larkhall_do_T0003.csv ')"
   ]
  },
  {
   "cell_type": "code",
   "execution_count": 149,
   "metadata": {
    "collapsed": true
   },
   "outputs": [],
   "source": [
    "EXPNAME = 'WINDOW7_HORIZON31_RESSTL'\n",
    "FRAME = dict(window=7, horizon=31)"
   ]
  },
  {
   "cell_type": "code",
   "execution_count": 150,
   "metadata": {
    "collapsed": false
   },
   "outputs": [],
   "source": [
    "feature = AgregatedDataFeature(expname=EXPNAME,resume=True)"
   ]
  },
  {
   "cell_type": "code",
   "execution_count": 152,
   "metadata": {
    "collapsed": false
   },
   "outputs": [],
   "source": [
    "triples = pd.read_csv(os.path.join(PROCESSED,'triples.csv'))"
   ]
  },
  {
   "cell_type": "code",
   "execution_count": 158,
   "metadata": {
    "collapsed": false
   },
   "outputs": [],
   "source": [
    "d = triples[triples.MC=='aberdeen mail centre']"
   ]
  },
  {
   "cell_type": "code",
   "execution_count": 159,
   "metadata": {
    "collapsed": true
   },
   "outputs": [],
   "source": [
    "d = d[d.DO=='bridge of don do']"
   ]
  },
  {
   "cell_type": "code",
   "execution_count": 163,
   "metadata": {
    "collapsed": false
   },
   "outputs": [
    {
     "name": "stderr",
     "output_type": "stream",
     "text": [
      "100%|██████████| 10/10 [00:00<00:00, 35.24it/s]"
     ]
    },
    {
     "name": "stdout",
     "output_type": "stream",
     "text": [
      "Identify 10 triples to be fitted together\n",
      "Found 3 error\n"
     ]
    },
    {
     "name": "stderr",
     "output_type": "stream",
     "text": [
      "\n"
     ]
    }
   ],
   "source": [
    "Xtr,ytr,Xte,yte = feature.load_stacked_features(triples=d)"
   ]
  },
  {
   "cell_type": "code",
   "execution_count": 164,
   "metadata": {
    "collapsed": true
   },
   "outputs": [],
   "source": [
    "model.fit(Xtr,ytr)"
   ]
  },
  {
   "cell_type": "code",
   "execution_count": 169,
   "metadata": {
    "collapsed": false
   },
   "outputs": [],
   "source": [
    "train_feat,test_feat = feature.load_feature('aberdeen mail centre','bridge of don do','T0076')"
   ]
  },
  {
   "cell_type": "code",
   "execution_count": 112,
   "metadata": {
    "collapsed": false
   },
   "outputs": [
    {
     "data": {
      "text/plain": [
       "<generator object chunks at 0x11ba2cf00>"
      ]
     },
     "execution_count": 112,
     "metadata": {},
     "output_type": "execute_result"
    }
   ],
   "source": [
    "chunks(MCs,10)"
   ]
  },
  {
   "cell_type": "code",
   "execution_count": 111,
   "metadata": {
    "collapsed": false
   },
   "outputs": [],
   "source": [
    "MCs = pd.read_csv(os.path.join(PROCESSED, 'triples.csv')).MC.unique().tolist()"
   ]
  },
  {
   "cell_type": "code",
   "execution_count": 83,
   "metadata": {
    "collapsed": false
   },
   "outputs": [],
   "source": [
    "model = ExtraTreeModel(folder=TEST_MODEL,frame=feature.frame,specific_name='hello')"
   ]
  },
  {
   "cell_type": "code",
   "execution_count": 84,
   "metadata": {
    "collapsed": false
   },
   "outputs": [
    {
     "name": "stdout",
     "output_type": "stream",
     "text": [
      "CPU times: user 40.5 s, sys: 398 ms, total: 40.9 s\n",
      "Wall time: 41.1 s\n"
     ]
    }
   ],
   "source": [
    "%time model.fit(Xtr,ytr)"
   ]
  },
  {
   "cell_type": "code",
   "execution_count": null,
   "metadata": {
    "collapsed": true
   },
   "outputs": [],
   "source": []
  },
  {
   "cell_type": "code",
   "execution_count": 21,
   "metadata": {
    "collapsed": true
   },
   "outputs": [],
   "source": [
    "train_feat,test_feat = feature.load_feature('birmingham mail centre', 'alcester do', 'T0076')"
   ]
  },
  {
   "cell_type": "code",
   "execution_count": 50,
   "metadata": {
    "collapsed": false
   },
   "outputs": [],
   "source": [
    "res = model.forecast(test_feat)\n",
    "d = d.set_index('date')"
   ]
  },
  {
   "cell_type": "code",
   "execution_count": 62,
   "metadata": {
    "collapsed": false
   },
   "outputs": [],
   "source": [
    "res.columns = ['stl_error','errorhat','errorstd']"
   ]
  },
  {
   "cell_type": "code",
   "execution_count": 64,
   "metadata": {
    "collapsed": false
   },
   "outputs": [],
   "source": [
    "d = d.join(res)"
   ]
  },
  {
   "cell_type": "code",
   "execution_count": 67,
   "metadata": {
    "collapsed": false
   },
   "outputs": [],
   "source": [
    "da = d[d.ytrue!=0]"
   ]
  },
  {
   "cell_type": "code",
   "execution_count": 74,
   "metadata": {
    "collapsed": false
   },
   "outputs": [
    {
     "data": {
      "text/plain": [
       "13.472136154128918"
      ]
     },
     "execution_count": 74,
     "metadata": {},
     "output_type": "execute_result"
    }
   ],
   "source": [
    "model.SMAPE(da.ytrue,da.yhat)"
   ]
  },
  {
   "cell_type": "code",
   "execution_count": 75,
   "metadata": {
    "collapsed": false
   },
   "outputs": [
    {
     "data": {
      "text/plain": [
       "11.696595533820831"
      ]
     },
     "execution_count": 75,
     "metadata": {},
     "output_type": "execute_result"
    }
   ],
   "source": [
    "model.SMAPE(da.ytrue,da.yhat+da.errorhat)"
   ]
  },
  {
   "cell_type": "code",
   "execution_count": 81,
   "metadata": {
    "collapsed": false
   },
   "outputs": [
    {
     "data": {
      "text/plain": [
       "<matplotlib.axes._subplots.AxesSubplot at 0x11bb98e10>"
      ]
     },
     "execution_count": 81,
     "metadata": {},
     "output_type": "execute_result"
    },
    {
     "data": {
      "image/png": "[encoded data removed]",
      "text/plain": [
       "<matplotlib.figure.Figure at 0x11bba35d0>"
      ]
     },
     "metadata": {},
     "output_type": "display_data"
    }
   ],
   "source": [
    "da.ytrue.plot(color='r')\n",
    "da.yhat.plot(marker='o',ls='--')\n",
    "(da.yhat+da.errorhat).plot(color='b')"
   ]
  },
  {
   "cell_type": "code",
   "execution_count": 39,
   "metadata": {
    "collapsed": false
   },
   "outputs": [],
   "source": [
    "d = pd.read_csv(os.path.join(STL_MODEL,'birmingham_mail_centre_alcester_do_T0076.test'))"
   ]
  },
  {
   "cell_type": "code",
   "execution_count": 42,
   "metadata": {
    "collapsed": false
   },
   "outputs": [
    {
     "data": {
      "text/html": [
       "<div>\n",
       "<table border=\"1\" class=\"dataframe\">\n",
       "  <thead>\n",
       "    <tr style=\"text-align: right;\">\n",
       "      <th></th>\n",
       "      <th>date</th>\n",
       "      <th>ytrue</th>\n",
       "      <th>yhat</th>\n",
       "      <th>Lo80</th>\n",
       "      <th>Hi80</th>\n",
       "      <th>Lo95</th>\n",
       "      <th>Hi95</th>\n",
       "      <th>MC</th>\n",
       "      <th>DO</th>\n",
       "      <th>stream</th>\n",
       "    </tr>\n",
       "  </thead>\n",
       "  <tbody>\n",
       "    <tr>\n",
       "      <th>0</th>\n",
       "      <td>2016-04-12</td>\n",
       "      <td>3879.00</td>\n",
       "      <td>3915.794589</td>\n",
       "      <td>1428.183503</td>\n",
       "      <td>6403.405676</td>\n",
       "      <td>111.321740</td>\n",
       "      <td>7720.267439</td>\n",
       "      <td>birmingham mail centre</td>\n",
       "      <td>alcester do</td>\n",
       "      <td>T0076</td>\n",
       "    </tr>\n",
       "    <tr>\n",
       "      <th>1</th>\n",
       "      <td>2016-04-13</td>\n",
       "      <td>9979.00</td>\n",
       "      <td>8914.801629</td>\n",
       "      <td>6400.670315</td>\n",
       "      <td>11428.932943</td>\n",
       "      <td>5069.769591</td>\n",
       "      <td>12759.833667</td>\n",
       "      <td>birmingham mail centre</td>\n",
       "      <td>alcester do</td>\n",
       "      <td>T0076</td>\n",
       "    </tr>\n",
       "    <tr>\n",
       "      <th>2</th>\n",
       "      <td>2016-04-14</td>\n",
       "      <td>8973.00</td>\n",
       "      <td>8494.375065</td>\n",
       "      <td>5954.000366</td>\n",
       "      <td>11034.749764</td>\n",
       "      <td>4609.207233</td>\n",
       "      <td>12379.542897</td>\n",
       "      <td>birmingham mail centre</td>\n",
       "      <td>alcester do</td>\n",
       "      <td>T0076</td>\n",
       "    </tr>\n",
       "    <tr>\n",
       "      <th>3</th>\n",
       "      <td>2016-04-15</td>\n",
       "      <td>8312.00</td>\n",
       "      <td>7906.727696</td>\n",
       "      <td>5340.377961</td>\n",
       "      <td>10473.077431</td>\n",
       "      <td>3981.834475</td>\n",
       "      <td>11831.620917</td>\n",
       "      <td>birmingham mail centre</td>\n",
       "      <td>alcester do</td>\n",
       "      <td>T0076</td>\n",
       "    </tr>\n",
       "    <tr>\n",
       "      <th>4</th>\n",
       "      <td>2016-04-16</td>\n",
       "      <td>7283.00</td>\n",
       "      <td>7262.755464</td>\n",
       "      <td>4670.690977</td>\n",
       "      <td>9854.819952</td>\n",
       "      <td>3298.534922</td>\n",
       "      <td>11226.976006</td>\n",
       "      <td>birmingham mail centre</td>\n",
       "      <td>alcester do</td>\n",
       "      <td>T0076</td>\n",
       "    </tr>\n",
       "    <tr>\n",
       "      <th>5</th>\n",
       "      <td>2016-04-18</td>\n",
       "      <td>7353.00</td>\n",
       "      <td>6918.916979</td>\n",
       "      <td>4301.390350</td>\n",
       "      <td>9536.443609</td>\n",
       "      <td>2915.755452</td>\n",
       "      <td>10922.078507</td>\n",
       "      <td>birmingham mail centre</td>\n",
       "      <td>alcester do</td>\n",
       "      <td>T0076</td>\n",
       "    </tr>\n",
       "    <tr>\n",
       "      <th>6</th>\n",
       "      <td>2016-04-19</td>\n",
       "      <td>6216.25</td>\n",
       "      <td>3915.794589</td>\n",
       "      <td>1273.051128</td>\n",
       "      <td>6558.538051</td>\n",
       "      <td>-125.932755</td>\n",
       "      <td>7957.521934</td>\n",
       "      <td>birmingham mail centre</td>\n",
       "      <td>alcester do</td>\n",
       "      <td>T0076</td>\n",
       "    </tr>\n",
       "    <tr>\n",
       "      <th>7</th>\n",
       "      <td>2016-04-20</td>\n",
       "      <td>8532.00</td>\n",
       "      <td>8914.801629</td>\n",
       "      <td>6247.079688</td>\n",
       "      <td>11582.523570</td>\n",
       "      <td>4834.872997</td>\n",
       "      <td>12994.730260</td>\n",
       "      <td>birmingham mail centre</td>\n",
       "      <td>alcester do</td>\n",
       "      <td>T0076</td>\n",
       "    </tr>\n",
       "    <tr>\n",
       "      <th>8</th>\n",
       "      <td>2016-04-21</td>\n",
       "      <td>8438.00</td>\n",
       "      <td>8494.375065</td>\n",
       "      <td>5801.906364</td>\n",
       "      <td>11186.843765</td>\n",
       "      <td>4376.599531</td>\n",
       "      <td>12612.150599</td>\n",
       "      <td>birmingham mail centre</td>\n",
       "      <td>alcester do</td>\n",
       "      <td>T0076</td>\n",
       "    </tr>\n",
       "    <tr>\n",
       "      <th>9</th>\n",
       "      <td>2016-04-22</td>\n",
       "      <td>8896.00</td>\n",
       "      <td>7906.727696</td>\n",
       "      <td>5189.737624</td>\n",
       "      <td>10623.717768</td>\n",
       "      <td>3751.449960</td>\n",
       "      <td>12062.005431</td>\n",
       "      <td>birmingham mail centre</td>\n",
       "      <td>alcester do</td>\n",
       "      <td>T0076</td>\n",
       "    </tr>\n",
       "    <tr>\n",
       "      <th>10</th>\n",
       "      <td>2016-04-23</td>\n",
       "      <td>8989.00</td>\n",
       "      <td>7262.755464</td>\n",
       "      <td>4521.463360</td>\n",
       "      <td>10004.047568</td>\n",
       "      <td>3070.310978</td>\n",
       "      <td>11455.199951</td>\n",
       "      <td>birmingham mail centre</td>\n",
       "      <td>alcester do</td>\n",
       "      <td>T0076</td>\n",
       "    </tr>\n",
       "    <tr>\n",
       "      <th>11</th>\n",
       "      <td>2016-04-25</td>\n",
       "      <td>9456.00</td>\n",
       "      <td>6918.916979</td>\n",
       "      <td>4153.536400</td>\n",
       "      <td>9684.297559</td>\n",
       "      <td>2689.632350</td>\n",
       "      <td>11148.201609</td>\n",
       "      <td>birmingham mail centre</td>\n",
       "      <td>alcester do</td>\n",
       "      <td>T0076</td>\n",
       "    </tr>\n",
       "    <tr>\n",
       "      <th>12</th>\n",
       "      <td>2016-04-26</td>\n",
       "      <td>4882.00</td>\n",
       "      <td>3915.794589</td>\n",
       "      <td>1126.533559</td>\n",
       "      <td>6705.055620</td>\n",
       "      <td>-350.012039</td>\n",
       "      <td>8181.601218</td>\n",
       "      <td>birmingham mail centre</td>\n",
       "      <td>alcester do</td>\n",
       "      <td>T0076</td>\n",
       "    </tr>\n",
       "    <tr>\n",
       "      <th>13</th>\n",
       "      <td>2016-04-27</td>\n",
       "      <td>8907.00</td>\n",
       "      <td>8914.801629</td>\n",
       "      <td>6101.862873</td>\n",
       "      <td>11727.740384</td>\n",
       "      <td>4612.783044</td>\n",
       "      <td>13216.820213</td>\n",
       "      <td>birmingham mail centre</td>\n",
       "      <td>alcester do</td>\n",
       "      <td>T0076</td>\n",
       "    </tr>\n",
       "    <tr>\n",
       "      <th>14</th>\n",
       "      <td>2016-04-28</td>\n",
       "      <td>9263.00</td>\n",
       "      <td>8494.375065</td>\n",
       "      <td>5657.956232</td>\n",
       "      <td>11330.793897</td>\n",
       "      <td>4156.446802</td>\n",
       "      <td>12832.303327</td>\n",
       "      <td>birmingham mail centre</td>\n",
       "      <td>alcester do</td>\n",
       "      <td>T0076</td>\n",
       "    </tr>\n",
       "    <tr>\n",
       "      <th>15</th>\n",
       "      <td>2016-04-29</td>\n",
       "      <td>7864.00</td>\n",
       "      <td>7906.727696</td>\n",
       "      <td>5047.021568</td>\n",
       "      <td>10766.433824</td>\n",
       "      <td>3533.184587</td>\n",
       "      <td>12280.270805</td>\n",
       "      <td>birmingham mail centre</td>\n",
       "      <td>alcester do</td>\n",
       "      <td>T0076</td>\n",
       "    </tr>\n",
       "    <tr>\n",
       "      <th>16</th>\n",
       "      <td>2016-04-30</td>\n",
       "      <td>7081.00</td>\n",
       "      <td>7262.755464</td>\n",
       "      <td>4379.950149</td>\n",
       "      <td>10145.560780</td>\n",
       "      <td>2853.885197</td>\n",
       "      <td>11671.625732</td>\n",
       "      <td>birmingham mail centre</td>\n",
       "      <td>alcester do</td>\n",
       "      <td>T0076</td>\n",
       "    </tr>\n",
       "    <tr>\n",
       "      <th>17</th>\n",
       "      <td>2016-05-02</td>\n",
       "      <td>0.00</td>\n",
       "      <td>6918.916979</td>\n",
       "      <td>4013.196099</td>\n",
       "      <td>9824.637860</td>\n",
       "      <td>2475.000380</td>\n",
       "      <td>11362.833579</td>\n",
       "      <td>birmingham mail centre</td>\n",
       "      <td>alcester do</td>\n",
       "      <td>T0076</td>\n",
       "    </tr>\n",
       "    <tr>\n",
       "      <th>18</th>\n",
       "      <td>2016-05-03</td>\n",
       "      <td>7824.00</td>\n",
       "      <td>3915.794589</td>\n",
       "      <td>987.337456</td>\n",
       "      <td>6844.251723</td>\n",
       "      <td>-562.894109</td>\n",
       "      <td>8394.483288</td>\n",
       "      <td>birmingham mail centre</td>\n",
       "      <td>alcester do</td>\n",
       "      <td>T0076</td>\n",
       "    </tr>\n",
       "    <tr>\n",
       "      <th>19</th>\n",
       "      <td>2016-05-04</td>\n",
       "      <td>4930.00</td>\n",
       "      <td>8914.801629</td>\n",
       "      <td>5963.783409</td>\n",
       "      <td>11865.819848</td>\n",
       "      <td>4401.608727</td>\n",
       "      <td>13427.994530</td>\n",
       "      <td>birmingham mail centre</td>\n",
       "      <td>alcester do</td>\n",
       "      <td>T0076</td>\n",
       "    </tr>\n",
       "    <tr>\n",
       "      <th>20</th>\n",
       "      <td>2016-05-05</td>\n",
       "      <td>10020.00</td>\n",
       "      <td>8494.375065</td>\n",
       "      <td>5520.966939</td>\n",
       "      <td>11467.783190</td>\n",
       "      <td>3946.939757</td>\n",
       "      <td>13041.810372</td>\n",
       "      <td>birmingham mail centre</td>\n",
       "      <td>alcester do</td>\n",
       "      <td>T0076</td>\n",
       "    </tr>\n",
       "    <tr>\n",
       "      <th>21</th>\n",
       "      <td>2016-05-06</td>\n",
       "      <td>8993.00</td>\n",
       "      <td>7906.727696</td>\n",
       "      <td>4911.097006</td>\n",
       "      <td>10902.358386</td>\n",
       "      <td>3325.305909</td>\n",
       "      <td>12488.149483</td>\n",
       "      <td>birmingham mail centre</td>\n",
       "      <td>alcester do</td>\n",
       "      <td>T0076</td>\n",
       "    </tr>\n",
       "    <tr>\n",
       "      <th>22</th>\n",
       "      <td>2016-05-07</td>\n",
       "      <td>7389.00</td>\n",
       "      <td>7262.755464</td>\n",
       "      <td>4245.065855</td>\n",
       "      <td>10280.445074</td>\n",
       "      <td>2647.597472</td>\n",
       "      <td>11877.913457</td>\n",
       "      <td>birmingham mail centre</td>\n",
       "      <td>alcester do</td>\n",
       "      <td>T0076</td>\n",
       "    </tr>\n",
       "    <tr>\n",
       "      <th>23</th>\n",
       "      <td>2016-05-09</td>\n",
       "      <td>8174.00</td>\n",
       "      <td>6918.916979</td>\n",
       "      <td>3879.328533</td>\n",
       "      <td>9958.505426</td>\n",
       "      <td>2270.267605</td>\n",
       "      <td>11567.566354</td>\n",
       "      <td>birmingham mail centre</td>\n",
       "      <td>alcester do</td>\n",
       "      <td>T0076</td>\n",
       "    </tr>\n",
       "    <tr>\n",
       "      <th>24</th>\n",
       "      <td>2016-05-10</td>\n",
       "      <td>4591.00</td>\n",
       "      <td>3915.794589</td>\n",
       "      <td>854.463951</td>\n",
       "      <td>6977.125227</td>\n",
       "      <td>-766.106597</td>\n",
       "      <td>8597.695776</td>\n",
       "      <td>birmingham mail centre</td>\n",
       "      <td>alcester do</td>\n",
       "      <td>T0076</td>\n",
       "    </tr>\n",
       "    <tr>\n",
       "      <th>25</th>\n",
       "      <td>2016-05-11</td>\n",
       "      <td>9327.00</td>\n",
       "      <td>8914.801629</td>\n",
       "      <td>5831.882132</td>\n",
       "      <td>11997.721126</td>\n",
       "      <td>4199.883132</td>\n",
       "      <td>13629.720125</td>\n",
       "      <td>birmingham mail centre</td>\n",
       "      <td>alcester do</td>\n",
       "      <td>T0076</td>\n",
       "    </tr>\n",
       "    <tr>\n",
       "      <th>26</th>\n",
       "      <td>2016-05-12</td>\n",
       "      <td>9041.00</td>\n",
       "      <td>8494.375065</td>\n",
       "      <td>5390.016843</td>\n",
       "      <td>11598.733287</td>\n",
       "      <td>3746.668867</td>\n",
       "      <td>13242.081263</td>\n",
       "      <td>birmingham mail centre</td>\n",
       "      <td>alcester do</td>\n",
       "      <td>T0076</td>\n",
       "    </tr>\n",
       "    <tr>\n",
       "      <th>27</th>\n",
       "      <td>2016-05-13</td>\n",
       "      <td>7621.00</td>\n",
       "      <td>7906.727696</td>\n",
       "      <td>4781.077792</td>\n",
       "      <td>11032.377600</td>\n",
       "      <td>3126.458681</td>\n",
       "      <td>12686.996711</td>\n",
       "      <td>birmingham mail centre</td>\n",
       "      <td>alcester do</td>\n",
       "      <td>T0076</td>\n",
       "    </tr>\n",
       "    <tr>\n",
       "      <th>28</th>\n",
       "      <td>2016-05-14</td>\n",
       "      <td>7532.00</td>\n",
       "      <td>7262.755464</td>\n",
       "      <td>4115.957939</td>\n",
       "      <td>10409.552990</td>\n",
       "      <td>2450.143953</td>\n",
       "      <td>12075.366976</td>\n",
       "      <td>birmingham mail centre</td>\n",
       "      <td>alcester do</td>\n",
       "      <td>T0076</td>\n",
       "    </tr>\n",
       "    <tr>\n",
       "      <th>29</th>\n",
       "      <td>2016-05-16</td>\n",
       "      <td>8244.00</td>\n",
       "      <td>6918.916979</td>\n",
       "      <td>3751.113006</td>\n",
       "      <td>10086.720953</td>\n",
       "      <td>2074.178878</td>\n",
       "      <td>11763.655081</td>\n",
       "      <td>birmingham mail centre</td>\n",
       "      <td>alcester do</td>\n",
       "      <td>T0076</td>\n",
       "    </tr>\n",
       "    <tr>\n",
       "      <th>...</th>\n",
       "      <td>...</td>\n",
       "      <td>...</td>\n",
       "      <td>...</td>\n",
       "      <td>...</td>\n",
       "      <td>...</td>\n",
       "      <td>...</td>\n",
       "      <td>...</td>\n",
       "      <td>...</td>\n",
       "      <td>...</td>\n",
       "      <td>...</td>\n",
       "    </tr>\n",
       "    <tr>\n",
       "      <th>39</th>\n",
       "      <td>2016-05-27</td>\n",
       "      <td>9001.00</td>\n",
       "      <td>7906.727696</td>\n",
       "      <td>4536.051874</td>\n",
       "      <td>11277.403518</td>\n",
       "      <td>2751.723876</td>\n",
       "      <td>13061.731516</td>\n",
       "      <td>birmingham mail centre</td>\n",
       "      <td>alcester do</td>\n",
       "      <td>T0076</td>\n",
       "    </tr>\n",
       "    <tr>\n",
       "      <th>40</th>\n",
       "      <td>2016-05-28</td>\n",
       "      <td>8236.00</td>\n",
       "      <td>7262.755464</td>\n",
       "      <td>3872.460072</td>\n",
       "      <td>10653.050857</td>\n",
       "      <td>2077.746102</td>\n",
       "      <td>12447.764827</td>\n",
       "      <td>birmingham mail centre</td>\n",
       "      <td>alcester do</td>\n",
       "      <td>T0076</td>\n",
       "    </tr>\n",
       "    <tr>\n",
       "      <th>41</th>\n",
       "      <td>2016-05-30</td>\n",
       "      <td>0.00</td>\n",
       "      <td>6918.916979</td>\n",
       "      <td>3509.114904</td>\n",
       "      <td>10328.719055</td>\n",
       "      <td>1704.074719</td>\n",
       "      <td>12133.759240</td>\n",
       "      <td>birmingham mail centre</td>\n",
       "      <td>alcester do</td>\n",
       "      <td>T0076</td>\n",
       "    </tr>\n",
       "    <tr>\n",
       "      <th>42</th>\n",
       "      <td>2016-05-31</td>\n",
       "      <td>7331.00</td>\n",
       "      <td>3915.794589</td>\n",
       "      <td>486.596790</td>\n",
       "      <td>7344.992388</td>\n",
       "      <td>-1328.710870</td>\n",
       "      <td>9160.300049</td>\n",
       "      <td>birmingham mail centre</td>\n",
       "      <td>alcester do</td>\n",
       "      <td>T0076</td>\n",
       "    </tr>\n",
       "    <tr>\n",
       "      <th>43</th>\n",
       "      <td>2016-06-01</td>\n",
       "      <td>4638.00</td>\n",
       "      <td>8914.801629</td>\n",
       "      <td>5466.317195</td>\n",
       "      <td>12363.286063</td>\n",
       "      <td>3640.799806</td>\n",
       "      <td>14188.803451</td>\n",
       "      <td>birmingham mail centre</td>\n",
       "      <td>alcester do</td>\n",
       "      <td>T0076</td>\n",
       "    </tr>\n",
       "    <tr>\n",
       "      <th>44</th>\n",
       "      <td>2016-06-02</td>\n",
       "      <td>9469.00</td>\n",
       "      <td>8494.375065</td>\n",
       "      <td>5026.711263</td>\n",
       "      <td>11962.038866</td>\n",
       "      <td>3191.040931</td>\n",
       "      <td>13797.709199</td>\n",
       "      <td>birmingham mail centre</td>\n",
       "      <td>alcester do</td>\n",
       "      <td>T0076</td>\n",
       "    </tr>\n",
       "    <tr>\n",
       "      <th>45</th>\n",
       "      <td>2016-06-03</td>\n",
       "      <td>8410.00</td>\n",
       "      <td>7906.727696</td>\n",
       "      <td>4419.990024</td>\n",
       "      <td>11393.465367</td>\n",
       "      <td>2574.222596</td>\n",
       "      <td>13239.232796</td>\n",
       "      <td>birmingham mail centre</td>\n",
       "      <td>alcester do</td>\n",
       "      <td>T0076</td>\n",
       "    </tr>\n",
       "    <tr>\n",
       "      <th>46</th>\n",
       "      <td>2016-06-04</td>\n",
       "      <td>7751.25</td>\n",
       "      <td>7262.755464</td>\n",
       "      <td>3757.047699</td>\n",
       "      <td>10768.463230</td>\n",
       "      <td>1901.238109</td>\n",
       "      <td>12624.272820</td>\n",
       "      <td>birmingham mail centre</td>\n",
       "      <td>alcester do</td>\n",
       "      <td>T0076</td>\n",
       "    </tr>\n",
       "    <tr>\n",
       "      <th>47</th>\n",
       "      <td>2016-06-06</td>\n",
       "      <td>9323.00</td>\n",
       "      <td>6918.916979</td>\n",
       "      <td>3394.341220</td>\n",
       "      <td>10443.492739</td>\n",
       "      <td>1528.543517</td>\n",
       "      <td>12309.290442</td>\n",
       "      <td>birmingham mail centre</td>\n",
       "      <td>alcester do</td>\n",
       "      <td>T0076</td>\n",
       "    </tr>\n",
       "    <tr>\n",
       "      <th>48</th>\n",
       "      <td>2016-06-07</td>\n",
       "      <td>4601.00</td>\n",
       "      <td>3915.794589</td>\n",
       "      <td>372.451305</td>\n",
       "      <td>7459.137874</td>\n",
       "      <td>-1503.281326</td>\n",
       "      <td>9334.870505</td>\n",
       "      <td>birmingham mail centre</td>\n",
       "      <td>alcester do</td>\n",
       "      <td>T0076</td>\n",
       "    </tr>\n",
       "    <tr>\n",
       "      <th>49</th>\n",
       "      <td>2016-06-08</td>\n",
       "      <td>10374.00</td>\n",
       "      <td>8914.801629</td>\n",
       "      <td>5352.789700</td>\n",
       "      <td>12476.813558</td>\n",
       "      <td>3467.174486</td>\n",
       "      <td>14362.428772</td>\n",
       "      <td>birmingham mail centre</td>\n",
       "      <td>alcester do</td>\n",
       "      <td>T0076</td>\n",
       "    </tr>\n",
       "    <tr>\n",
       "      <th>50</th>\n",
       "      <td>2016-06-09</td>\n",
       "      <td>9182.00</td>\n",
       "      <td>8494.375065</td>\n",
       "      <td>4913.791826</td>\n",
       "      <td>12074.958304</td>\n",
       "      <td>3018.345554</td>\n",
       "      <td>13970.404575</td>\n",
       "      <td>birmingham mail centre</td>\n",
       "      <td>alcester do</td>\n",
       "      <td>T0076</td>\n",
       "    </tr>\n",
       "    <tr>\n",
       "      <th>51</th>\n",
       "      <td>2016-06-10</td>\n",
       "      <td>8200.00</td>\n",
       "      <td>7906.727696</td>\n",
       "      <td>4307.668975</td>\n",
       "      <td>11505.786417</td>\n",
       "      <td>2402.442374</td>\n",
       "      <td>13411.013018</td>\n",
       "      <td>birmingham mail centre</td>\n",
       "      <td>alcester do</td>\n",
       "      <td>T0076</td>\n",
       "    </tr>\n",
       "    <tr>\n",
       "      <th>52</th>\n",
       "      <td>2016-06-11</td>\n",
       "      <td>6766.00</td>\n",
       "      <td>7262.755464</td>\n",
       "      <td>3645.315620</td>\n",
       "      <td>10880.195309</td>\n",
       "      <td>1730.358640</td>\n",
       "      <td>12795.152289</td>\n",
       "      <td>birmingham mail centre</td>\n",
       "      <td>alcester do</td>\n",
       "      <td>T0076</td>\n",
       "    </tr>\n",
       "    <tr>\n",
       "      <th>53</th>\n",
       "      <td>2016-06-13</td>\n",
       "      <td>7284.00</td>\n",
       "      <td>6918.916979</td>\n",
       "      <td>3283.188940</td>\n",
       "      <td>10554.645019</td>\n",
       "      <td>1358.550775</td>\n",
       "      <td>12479.283184</td>\n",
       "      <td>birmingham mail centre</td>\n",
       "      <td>alcester do</td>\n",
       "      <td>T0076</td>\n",
       "    </tr>\n",
       "    <tr>\n",
       "      <th>54</th>\n",
       "      <td>2016-06-14</td>\n",
       "      <td>3823.00</td>\n",
       "      <td>3915.794589</td>\n",
       "      <td>261.869888</td>\n",
       "      <td>7569.719291</td>\n",
       "      <td>-1672.401009</td>\n",
       "      <td>9503.990187</td>\n",
       "      <td>birmingham mail centre</td>\n",
       "      <td>alcester do</td>\n",
       "      <td>T0076</td>\n",
       "    </tr>\n",
       "    <tr>\n",
       "      <th>55</th>\n",
       "      <td>2016-06-15</td>\n",
       "      <td>9673.00</td>\n",
       "      <td>8914.801629</td>\n",
       "      <td>5242.770437</td>\n",
       "      <td>12586.832820</td>\n",
       "      <td>3298.914544</td>\n",
       "      <td>14530.688714</td>\n",
       "      <td>birmingham mail centre</td>\n",
       "      <td>alcester do</td>\n",
       "      <td>T0076</td>\n",
       "    </tr>\n",
       "    <tr>\n",
       "      <th>56</th>\n",
       "      <td>2016-06-16</td>\n",
       "      <td>8924.00</td>\n",
       "      <td>8494.375065</td>\n",
       "      <td>4804.326228</td>\n",
       "      <td>12184.423902</td>\n",
       "      <td>2850.932369</td>\n",
       "      <td>14137.817761</td>\n",
       "      <td>birmingham mail centre</td>\n",
       "      <td>alcester do</td>\n",
       "      <td>T0076</td>\n",
       "    </tr>\n",
       "    <tr>\n",
       "      <th>57</th>\n",
       "      <td>2016-06-17</td>\n",
       "      <td>7392.00</td>\n",
       "      <td>7906.727696</td>\n",
       "      <td>4198.748763</td>\n",
       "      <td>11614.706629</td>\n",
       "      <td>2235.863284</td>\n",
       "      <td>13577.592107</td>\n",
       "      <td>birmingham mail centre</td>\n",
       "      <td>alcester do</td>\n",
       "      <td>T0076</td>\n",
       "    </tr>\n",
       "    <tr>\n",
       "      <th>58</th>\n",
       "      <td>2016-06-18</td>\n",
       "      <td>7131.00</td>\n",
       "      <td>7262.755464</td>\n",
       "      <td>3536.932721</td>\n",
       "      <td>10988.578208</td>\n",
       "      <td>1564.601300</td>\n",
       "      <td>12960.909629</td>\n",
       "      <td>birmingham mail centre</td>\n",
       "      <td>alcester do</td>\n",
       "      <td>T0076</td>\n",
       "    </tr>\n",
       "    <tr>\n",
       "      <th>59</th>\n",
       "      <td>2016-06-20</td>\n",
       "      <td>7156.00</td>\n",
       "      <td>6918.916979</td>\n",
       "      <td>3175.335477</td>\n",
       "      <td>10662.498482</td>\n",
       "      <td>1193.603137</td>\n",
       "      <td>12644.230822</td>\n",
       "      <td>birmingham mail centre</td>\n",
       "      <td>alcester do</td>\n",
       "      <td>T0076</td>\n",
       "    </tr>\n",
       "    <tr>\n",
       "      <th>60</th>\n",
       "      <td>2016-06-21</td>\n",
       "      <td>4962.50</td>\n",
       "      <td>3915.794589</td>\n",
       "      <td>154.538175</td>\n",
       "      <td>7677.051004</td>\n",
       "      <td>-1836.550698</td>\n",
       "      <td>9668.139877</td>\n",
       "      <td>birmingham mail centre</td>\n",
       "      <td>alcester do</td>\n",
       "      <td>T0076</td>\n",
       "    </tr>\n",
       "    <tr>\n",
       "      <th>61</th>\n",
       "      <td>2016-06-22</td>\n",
       "      <td>8502.00</td>\n",
       "      <td>8914.801629</td>\n",
       "      <td>5135.952973</td>\n",
       "      <td>12693.650284</td>\n",
       "      <td>3135.551330</td>\n",
       "      <td>14694.051928</td>\n",
       "      <td>birmingham mail centre</td>\n",
       "      <td>alcester do</td>\n",
       "      <td>T0076</td>\n",
       "    </tr>\n",
       "    <tr>\n",
       "      <th>62</th>\n",
       "      <td>2016-06-23</td>\n",
       "      <td>7410.00</td>\n",
       "      <td>8494.375065</td>\n",
       "      <td>4698.015689</td>\n",
       "      <td>12290.734441</td>\n",
       "      <td>2688.344430</td>\n",
       "      <td>14300.405699</td>\n",
       "      <td>birmingham mail centre</td>\n",
       "      <td>alcester do</td>\n",
       "      <td>T0076</td>\n",
       "    </tr>\n",
       "    <tr>\n",
       "      <th>63</th>\n",
       "      <td>2016-06-24</td>\n",
       "      <td>7058.00</td>\n",
       "      <td>7906.727696</td>\n",
       "      <td>4092.937998</td>\n",
       "      <td>11720.517394</td>\n",
       "      <td>2074.039685</td>\n",
       "      <td>13739.415707</td>\n",
       "      <td>birmingham mail centre</td>\n",
       "      <td>alcester do</td>\n",
       "      <td>T0076</td>\n",
       "    </tr>\n",
       "    <tr>\n",
       "      <th>64</th>\n",
       "      <td>2016-06-25</td>\n",
       "      <td>6263.00</td>\n",
       "      <td>7262.755464</td>\n",
       "      <td>3431.614745</td>\n",
       "      <td>11093.896183</td>\n",
       "      <td>1403.531356</td>\n",
       "      <td>13121.979572</td>\n",
       "      <td>birmingham mail centre</td>\n",
       "      <td>alcester do</td>\n",
       "      <td>T0076</td>\n",
       "    </tr>\n",
       "    <tr>\n",
       "      <th>65</th>\n",
       "      <td>2016-06-27</td>\n",
       "      <td>6496.00</td>\n",
       "      <td>6918.916979</td>\n",
       "      <td>3070.503468</td>\n",
       "      <td>10767.330491</td>\n",
       "      <td>1033.276415</td>\n",
       "      <td>12804.557544</td>\n",
       "      <td>birmingham mail centre</td>\n",
       "      <td>alcester do</td>\n",
       "      <td>T0076</td>\n",
       "    </tr>\n",
       "    <tr>\n",
       "      <th>66</th>\n",
       "      <td>2016-06-28</td>\n",
       "      <td>3064.00</td>\n",
       "      <td>3915.794589</td>\n",
       "      <td>50.185465</td>\n",
       "      <td>7781.403714</td>\n",
       "      <td>-1996.144396</td>\n",
       "      <td>9827.733575</td>\n",
       "      <td>birmingham mail centre</td>\n",
       "      <td>alcester do</td>\n",
       "      <td>T0076</td>\n",
       "    </tr>\n",
       "    <tr>\n",
       "      <th>67</th>\n",
       "      <td>2016-06-29</td>\n",
       "      <td>6892.00</td>\n",
       "      <td>8914.801629</td>\n",
       "      <td>5032.073045</td>\n",
       "      <td>12797.530212</td>\n",
       "      <td>2976.680690</td>\n",
       "      <td>14852.922567</td>\n",
       "      <td>birmingham mail centre</td>\n",
       "      <td>alcester do</td>\n",
       "      <td>T0076</td>\n",
       "    </tr>\n",
       "    <tr>\n",
       "      <th>68</th>\n",
       "      <td>2016-06-30</td>\n",
       "      <td>8827.00</td>\n",
       "      <td>8494.375065</td>\n",
       "      <td>4594.602174</td>\n",
       "      <td>12394.147956</td>\n",
       "      <td>2530.187107</td>\n",
       "      <td>14458.563022</td>\n",
       "      <td>birmingham mail centre</td>\n",
       "      <td>alcester do</td>\n",
       "      <td>T0076</td>\n",
       "    </tr>\n",
       "  </tbody>\n",
       "</table>\n",
       "<p>69 rows × 10 columns</p>\n",
       "</div>"
      ],
      "text/plain": [
       "          date     ytrue         yhat         Lo80          Hi80         Lo95  \\\n",
       "0   2016-04-12   3879.00  3915.794589  1428.183503   6403.405676   111.321740   \n",
       "1   2016-04-13   9979.00  8914.801629  6400.670315  11428.932943  5069.769591   \n",
       "2   2016-04-14   8973.00  8494.375065  5954.000366  11034.749764  4609.207233   \n",
       "3   2016-04-15   8312.00  7906.727696  5340.377961  10473.077431  3981.834475   \n",
       "4   2016-04-16   7283.00  7262.755464  4670.690977   9854.819952  3298.534922   \n",
       "5   2016-04-18   7353.00  6918.916979  4301.390350   9536.443609  2915.755452   \n",
       "6   2016-04-19   6216.25  3915.794589  1273.051128   6558.538051  -125.932755   \n",
       "7   2016-04-20   8532.00  8914.801629  6247.079688  11582.523570  4834.872997   \n",
       "8   2016-04-21   8438.00  8494.375065  5801.906364  11186.843765  4376.599531   \n",
       "9   2016-04-22   8896.00  7906.727696  5189.737624  10623.717768  3751.449960   \n",
       "10  2016-04-23   8989.00  7262.755464  4521.463360  10004.047568  3070.310978   \n",
       "11  2016-04-25   9456.00  6918.916979  4153.536400   9684.297559  2689.632350   \n",
       "12  2016-04-26   4882.00  3915.794589  1126.533559   6705.055620  -350.012039   \n",
       "13  2016-04-27   8907.00  8914.801629  6101.862873  11727.740384  4612.783044   \n",
       "14  2016-04-28   9263.00  8494.375065  5657.956232  11330.793897  4156.446802   \n",
       "15  2016-04-29   7864.00  7906.727696  5047.021568  10766.433824  3533.184587   \n",
       "16  2016-04-30   7081.00  7262.755464  4379.950149  10145.560780  2853.885197   \n",
       "17  2016-05-02      0.00  6918.916979  4013.196099   9824.637860  2475.000380   \n",
       "18  2016-05-03   7824.00  3915.794589   987.337456   6844.251723  -562.894109   \n",
       "19  2016-05-04   4930.00  8914.801629  5963.783409  11865.819848  4401.608727   \n",
       "20  2016-05-05  10020.00  8494.375065  5520.966939  11467.783190  3946.939757   \n",
       "21  2016-05-06   8993.00  7906.727696  4911.097006  10902.358386  3325.305909   \n",
       "22  2016-05-07   7389.00  7262.755464  4245.065855  10280.445074  2647.597472   \n",
       "23  2016-05-09   8174.00  6918.916979  3879.328533   9958.505426  2270.267605   \n",
       "24  2016-05-10   4591.00  3915.794589   854.463951   6977.125227  -766.106597   \n",
       "25  2016-05-11   9327.00  8914.801629  5831.882132  11997.721126  4199.883132   \n",
       "26  2016-05-12   9041.00  8494.375065  5390.016843  11598.733287  3746.668867   \n",
       "27  2016-05-13   7621.00  7906.727696  4781.077792  11032.377600  3126.458681   \n",
       "28  2016-05-14   7532.00  7262.755464  4115.957939  10409.552990  2450.143953   \n",
       "29  2016-05-16   8244.00  6918.916979  3751.113006  10086.720953  2074.178878   \n",
       "..         ...       ...          ...          ...           ...          ...   \n",
       "39  2016-05-27   9001.00  7906.727696  4536.051874  11277.403518  2751.723876   \n",
       "40  2016-05-28   8236.00  7262.755464  3872.460072  10653.050857  2077.746102   \n",
       "41  2016-05-30      0.00  6918.916979  3509.114904  10328.719055  1704.074719   \n",
       "42  2016-05-31   7331.00  3915.794589   486.596790   7344.992388 -1328.710870   \n",
       "43  2016-06-01   4638.00  8914.801629  5466.317195  12363.286063  3640.799806   \n",
       "44  2016-06-02   9469.00  8494.375065  5026.711263  11962.038866  3191.040931   \n",
       "45  2016-06-03   8410.00  7906.727696  4419.990024  11393.465367  2574.222596   \n",
       "46  2016-06-04   7751.25  7262.755464  3757.047699  10768.463230  1901.238109   \n",
       "47  2016-06-06   9323.00  6918.916979  3394.341220  10443.492739  1528.543517   \n",
       "48  2016-06-07   4601.00  3915.794589   372.451305   7459.137874 -1503.281326   \n",
       "49  2016-06-08  10374.00  8914.801629  5352.789700  12476.813558  3467.174486   \n",
       "50  2016-06-09   9182.00  8494.375065  4913.791826  12074.958304  3018.345554   \n",
       "51  2016-06-10   8200.00  7906.727696  4307.668975  11505.786417  2402.442374   \n",
       "52  2016-06-11   6766.00  7262.755464  3645.315620  10880.195309  1730.358640   \n",
       "53  2016-06-13   7284.00  6918.916979  3283.188940  10554.645019  1358.550775   \n",
       "54  2016-06-14   3823.00  3915.794589   261.869888   7569.719291 -1672.401009   \n",
       "55  2016-06-15   9673.00  8914.801629  5242.770437  12586.832820  3298.914544   \n",
       "56  2016-06-16   8924.00  8494.375065  4804.326228  12184.423902  2850.932369   \n",
       "57  2016-06-17   7392.00  7906.727696  4198.748763  11614.706629  2235.863284   \n",
       "58  2016-06-18   7131.00  7262.755464  3536.932721  10988.578208  1564.601300   \n",
       "59  2016-06-20   7156.00  6918.916979  3175.335477  10662.498482  1193.603137   \n",
       "60  2016-06-21   4962.50  3915.794589   154.538175   7677.051004 -1836.550698   \n",
       "61  2016-06-22   8502.00  8914.801629  5135.952973  12693.650284  3135.551330   \n",
       "62  2016-06-23   7410.00  8494.375065  4698.015689  12290.734441  2688.344430   \n",
       "63  2016-06-24   7058.00  7906.727696  4092.937998  11720.517394  2074.039685   \n",
       "64  2016-06-25   6263.00  7262.755464  3431.614745  11093.896183  1403.531356   \n",
       "65  2016-06-27   6496.00  6918.916979  3070.503468  10767.330491  1033.276415   \n",
       "66  2016-06-28   3064.00  3915.794589    50.185465   7781.403714 -1996.144396   \n",
       "67  2016-06-29   6892.00  8914.801629  5032.073045  12797.530212  2976.680690   \n",
       "68  2016-06-30   8827.00  8494.375065  4594.602174  12394.147956  2530.187107   \n",
       "\n",
       "            Hi95                      MC           DO stream  \n",
       "0    7720.267439  birmingham mail centre  alcester do  T0076  \n",
       "1   12759.833667  birmingham mail centre  alcester do  T0076  \n",
       "2   12379.542897  birmingham mail centre  alcester do  T0076  \n",
       "3   11831.620917  birmingham mail centre  alcester do  T0076  \n",
       "4   11226.976006  birmingham mail centre  alcester do  T0076  \n",
       "5   10922.078507  birmingham mail centre  alcester do  T0076  \n",
       "6    7957.521934  birmingham mail centre  alcester do  T0076  \n",
       "7   12994.730260  birmingham mail centre  alcester do  T0076  \n",
       "8   12612.150599  birmingham mail centre  alcester do  T0076  \n",
       "9   12062.005431  birmingham mail centre  alcester do  T0076  \n",
       "10  11455.199951  birmingham mail centre  alcester do  T0076  \n",
       "11  11148.201609  birmingham mail centre  alcester do  T0076  \n",
       "12   8181.601218  birmingham mail centre  alcester do  T0076  \n",
       "13  13216.820213  birmingham mail centre  alcester do  T0076  \n",
       "14  12832.303327  birmingham mail centre  alcester do  T0076  \n",
       "15  12280.270805  birmingham mail centre  alcester do  T0076  \n",
       "16  11671.625732  birmingham mail centre  alcester do  T0076  \n",
       "17  11362.833579  birmingham mail centre  alcester do  T0076  \n",
       "18   8394.483288  birmingham mail centre  alcester do  T0076  \n",
       "19  13427.994530  birmingham mail centre  alcester do  T0076  \n",
       "20  13041.810372  birmingham mail centre  alcester do  T0076  \n",
       "21  12488.149483  birmingham mail centre  alcester do  T0076  \n",
       "22  11877.913457  birmingham mail centre  alcester do  T0076  \n",
       "23  11567.566354  birmingham mail centre  alcester do  T0076  \n",
       "24   8597.695776  birmingham mail centre  alcester do  T0076  \n",
       "25  13629.720125  birmingham mail centre  alcester do  T0076  \n",
       "26  13242.081263  birmingham mail centre  alcester do  T0076  \n",
       "27  12686.996711  birmingham mail centre  alcester do  T0076  \n",
       "28  12075.366976  birmingham mail centre  alcester do  T0076  \n",
       "29  11763.655081  birmingham mail centre  alcester do  T0076  \n",
       "..           ...                     ...          ...    ...  \n",
       "39  13061.731516  birmingham mail centre  alcester do  T0076  \n",
       "40  12447.764827  birmingham mail centre  alcester do  T0076  \n",
       "41  12133.759240  birmingham mail centre  alcester do  T0076  \n",
       "42   9160.300049  birmingham mail centre  alcester do  T0076  \n",
       "43  14188.803451  birmingham mail centre  alcester do  T0076  \n",
       "44  13797.709199  birmingham mail centre  alcester do  T0076  \n",
       "45  13239.232796  birmingham mail centre  alcester do  T0076  \n",
       "46  12624.272820  birmingham mail centre  alcester do  T0076  \n",
       "47  12309.290442  birmingham mail centre  alcester do  T0076  \n",
       "48   9334.870505  birmingham mail centre  alcester do  T0076  \n",
       "49  14362.428772  birmingham mail centre  alcester do  T0076  \n",
       "50  13970.404575  birmingham mail centre  alcester do  T0076  \n",
       "51  13411.013018  birmingham mail centre  alcester do  T0076  \n",
       "52  12795.152289  birmingham mail centre  alcester do  T0076  \n",
       "53  12479.283184  birmingham mail centre  alcester do  T0076  \n",
       "54   9503.990187  birmingham mail centre  alcester do  T0076  \n",
       "55  14530.688714  birmingham mail centre  alcester do  T0076  \n",
       "56  14137.817761  birmingham mail centre  alcester do  T0076  \n",
       "57  13577.592107  birmingham mail centre  alcester do  T0076  \n",
       "58  12960.909629  birmingham mail centre  alcester do  T0076  \n",
       "59  12644.230822  birmingham mail centre  alcester do  T0076  \n",
       "60   9668.139877  birmingham mail centre  alcester do  T0076  \n",
       "61  14694.051928  birmingham mail centre  alcester do  T0076  \n",
       "62  14300.405699  birmingham mail centre  alcester do  T0076  \n",
       "63  13739.415707  birmingham mail centre  alcester do  T0076  \n",
       "64  13121.979572  birmingham mail centre  alcester do  T0076  \n",
       "65  12804.557544  birmingham mail centre  alcester do  T0076  \n",
       "66   9827.733575  birmingham mail centre  alcester do  T0076  \n",
       "67  14852.922567  birmingham mail centre  alcester do  T0076  \n",
       "68  14458.563022  birmingham mail centre  alcester do  T0076  \n",
       "\n",
       "[69 rows x 10 columns]"
      ]
     },
     "execution_count": 42,
     "metadata": {},
     "output_type": "execute_result"
    }
   ],
   "source": [
    "d"
   ]
  },
  {
   "cell_type": "code",
   "execution_count": null,
   "metadata": {
    "collapsed": true
   },
   "outputs": [],
   "source": []
  },
  {
   "cell_type": "code",
   "execution_count": 8,
   "metadata": {
    "collapsed": true
   },
   "outputs": [],
   "source": [
    "fore.verbose = True"
   ]
  },
  {
   "cell_type": "code",
   "execution_count": null,
   "metadata": {
    "collapsed": false
   },
   "outputs": [
    {
     "name": "stderr",
     "output_type": "stream",
     "text": [
      "  2%|▏         | 280/12900 [00:29<29:21,  7.17it/s]"
     ]
    }
   ],
   "source": [
    "Xtr,ytr,Xte,yte = fore.load_stacked_features()"
   ]
  },
  {
   "cell_type": "code",
   "execution_count": 37,
   "metadata": {
    "collapsed": false
   },
   "outputs": [
    {
     "data": {
      "text/plain": [
       "'/Users/cthorey/Documents/project/RM-DS/models'"
      ]
     },
     "execution_count": 37,
     "metadata": {},
     "output_type": "execute_result"
    }
   ],
   "source": [
    "fore.dirname"
   ]
  },
  {
   "cell_type": "code",
   "execution_count": 24,
   "metadata": {
    "collapsed": true
   },
   "outputs": [],
   "source": [
    "from sklearn.ensemble import ExtraTreesRegressor"
   ]
  },
  {
   "cell_type": "code",
   "execution_count": 4,
   "metadata": {
    "collapsed": true
   },
   "outputs": [],
   "source": [
    "test_triples = pd.read_csv(os.path.join(PROCESSED,'test_triple.csv'))"
   ]
  },
  {
   "cell_type": "code",
   "execution_count": 5,
   "metadata": {
    "collapsed": false
   },
   "outputs": [],
   "source": [
    "mc = MailCenter('aberdeen mail centre')\n",
    "mc2 = MailCenter('bristol mail centre')"
   ]
  },
  {
   "cell_type": "code",
   "execution_count": 6,
   "metadata": {
    "collapsed": false
   },
   "outputs": [],
   "source": [
    "class Forecast(AgregatedDataFeature,ExtraTreeModel):\n",
    "    pass"
   ]
  },
  {
   "cell_type": "code",
   "execution_count": 7,
   "metadata": {
    "collapsed": false
   },
   "outputs": [
    {
     "name": "stdout",
     "output_type": "stream",
     "text": [
      "Identify 545 triples to be fitted together\n"
     ]
    }
   ],
   "source": [
    "bir = Forecast(expname='bristol',triples=mc2.df,override=True,verbose=True)"
   ]
  },
  {
   "cell_type": "code",
   "execution_count": null,
   "metadata": {
    "collapsed": true
   },
   "outputs": [],
   "source": [
    "bir."
   ]
  },
  {
   "cell_type": "code",
   "execution_count": 8,
   "metadata": {
    "collapsed": false
   },
   "outputs": [
    {
     "name": "stderr",
     "output_type": "stream",
     "text": [
      "100%|██████████| 545/545 [44:50<00:00,  7.77s/it]\n"
     ]
    }
   ],
   "source": [
    "bir.gen_features()"
   ]
  },
  {
   "cell_type": "code",
   "execution_count": null,
   "metadata": {
    "collapsed": true
   },
   "outputs": [],
   "source": []
  },
  {
   "cell_type": "code",
   "execution_count": 9,
   "metadata": {
    "collapsed": false
   },
   "outputs": [
    {
     "name": "stderr",
     "output_type": "stream",
     "text": [
      "100%|██████████| 545/545 [00:38<00:00, 14.21it/s]\n"
     ]
    }
   ],
   "source": [
    "FRAME = dict(window=7, horizon=31)\n",
    "bir = Forecast(expname='bristol',resume=True)\n",
    "#bir.gen_features()\n",
    "Xtr,ytr,Xte,yte = bir.load_stacked_features()"
   ]
  },
  {
   "cell_type": "code",
   "execution_count": 29,
   "metadata": {
    "collapsed": false
   },
   "outputs": [
    {
     "data": {
      "text/plain": [
       "(105273, 89)"
      ]
     },
     "execution_count": 29,
     "metadata": {},
     "output_type": "execute_result"
    }
   ],
   "source": [
    "Xtr.shape"
   ]
  },
  {
   "cell_type": "code",
   "execution_count": 10,
   "metadata": {
    "collapsed": false
   },
   "outputs": [
    {
     "name": "stdout",
     "output_type": "stream",
     "text": [
      "CPU times: user 2min 17s, sys: 1.97 s, total: 2min 19s\n",
      "Wall time: 2min 21s\n"
     ]
    },
    {
     "data": {
      "text/plain": [
       "29.366458695775332"
      ]
     },
     "execution_count": 10,
     "metadata": {},
     "output_type": "execute_result"
    }
   ],
   "source": [
    "%time bir.fit(Xtr,ytr)\n",
    "bir.SMAPE(yte,bir.predict(Xte))"
   ]
  },
  {
   "cell_type": "code",
   "execution_count": 20,
   "metadata": {
    "collapsed": true
   },
   "outputs": [],
   "source": [
    "from sklearn.ensemble import GradientBoostingRegressor"
   ]
  },
  {
   "cell_type": "code",
   "execution_count": 19,
   "metadata": {
    "collapsed": false
   },
   "outputs": [
    {
     "data": {
      "text/plain": [
       "32.344906292568879"
      ]
     },
     "execution_count": 19,
     "metadata": {},
     "output_type": "execute_result"
    }
   ],
   "source": [
    "bir.SMAPE(yte,bir.predict(Xte))"
   ]
  },
  {
   "cell_type": "code",
   "execution_count": 39,
   "metadata": {
    "collapsed": false
   },
   "outputs": [
    {
     "name": "stdout",
     "output_type": "stream",
     "text": [
      "CPU times: user 47.3 s, sys: 4.06 s, total: 51.4 s\n",
      "Wall time: 17.5 s\n"
     ]
    }
   ],
   "source": [
    "%time bir.fit(Xtr,ytr)"
   ]
  },
  {
   "cell_type": "code",
   "execution_count": 46,
   "metadata": {
    "collapsed": false
   },
   "outputs": [
    {
     "data": {
      "text/plain": [
       "33.776419222389066"
      ]
     },
     "execution_count": 46,
     "metadata": {},
     "output_type": "execute_result"
    }
   ],
   "source": [
    "bir.SMAPE(yte,bir.predict(Xte))"
   ]
  },
  {
   "cell_type": "code",
   "execution_count": 49,
   "metadata": {
    "collapsed": false
   },
   "outputs": [
    {
     "data": {
      "text/plain": [
       "<matplotlib.axes._subplots.AxesSubplot at 0x10b17ed90>"
      ]
     },
     "execution_count": 49,
     "metadata": {},
     "output_type": "execute_result"
    },
    {
     "data": {
      "image/png": "[encoded data removed]",
      "text/plain": [
       "<matplotlib.figure.Figure at 0x10afa6090>"
      ]
     },
     "metadata": {},
     "output_type": "display_data"
    }
   ],
   "source": [
    "bir.forecast(*bir.triples[8]).plot()"
   ]
  },
  {
   "cell_type": "code",
   "execution_count": 45,
   "metadata": {
    "collapsed": false
   },
   "outputs": [
    {
     "name": "stderr",
     "output_type": "stream",
     "text": [
      "100%|██████████| 2/2 [00:18<00:00,  6.97s/it]\n"
     ]
    }
   ],
   "source": [
    "grid = dict(n_estimators = [10,30])\n",
    "res = bir.gridsearch(Xtr,ytr,grid,iterator)"
   ]
  },
  {
   "cell_type": "code",
   "execution_count": 46,
   "metadata": {
    "collapsed": true
   },
   "outputs": [],
   "source": [
    "best_params = bir.get_best_grid_params(res)"
   ]
  },
  {
   "cell_type": "code",
   "execution_count": 48,
   "metadata": {
    "collapsed": false
   },
   "outputs": [
    {
     "data": {
      "text/html": [
       "<div>\n",
       "<table border=\"1\" class=\"dataframe\">\n",
       "  <thead>\n",
       "    <tr style=\"text-align: right;\">\n",
       "      <th></th>\n",
       "      <th>bootstrap</th>\n",
       "      <th>criterion</th>\n",
       "      <th>max_depth</th>\n",
       "      <th>max_features</th>\n",
       "      <th>max_leaf_nodes</th>\n",
       "      <th>min_impurity_split</th>\n",
       "      <th>min_samples_leaf</th>\n",
       "      <th>min_samples_split</th>\n",
       "      <th>min_weight_fraction_leaf</th>\n",
       "      <th>n_estimators</th>\n",
       "      <th>n_jobs</th>\n",
       "      <th>oob_score</th>\n",
       "      <th>random_state</th>\n",
       "      <th>score</th>\n",
       "      <th>std</th>\n",
       "      <th>verbose</th>\n",
       "      <th>warm_start</th>\n",
       "    </tr>\n",
       "  </thead>\n",
       "  <tbody>\n",
       "    <tr>\n",
       "      <th>0</th>\n",
       "      <td>True</td>\n",
       "      <td>mse</td>\n",
       "      <td>20</td>\n",
       "      <td>auto</td>\n",
       "      <td>None</td>\n",
       "      <td>1.000000e-07</td>\n",
       "      <td>1</td>\n",
       "      <td>2</td>\n",
       "      <td>0.0</td>\n",
       "      <td>30</td>\n",
       "      <td>1</td>\n",
       "      <td>False</td>\n",
       "      <td>None</td>\n",
       "      <td>24.986636</td>\n",
       "      <td>0.119832</td>\n",
       "      <td>0</td>\n",
       "      <td>False</td>\n",
       "    </tr>\n",
       "    <tr>\n",
       "      <th>1</th>\n",
       "      <td>True</td>\n",
       "      <td>mse</td>\n",
       "      <td>20</td>\n",
       "      <td>auto</td>\n",
       "      <td>None</td>\n",
       "      <td>1.000000e-07</td>\n",
       "      <td>1</td>\n",
       "      <td>2</td>\n",
       "      <td>0.0</td>\n",
       "      <td>10</td>\n",
       "      <td>1</td>\n",
       "      <td>False</td>\n",
       "      <td>None</td>\n",
       "      <td>25.793474</td>\n",
       "      <td>0.079805</td>\n",
       "      <td>0</td>\n",
       "      <td>False</td>\n",
       "    </tr>\n",
       "  </tbody>\n",
       "</table>\n",
       "</div>"
      ],
      "text/plain": [
       "  bootstrap criterion  max_depth max_features max_leaf_nodes  \\\n",
       "0      True       mse         20         auto           None   \n",
       "1      True       mse         20         auto           None   \n",
       "\n",
       "   min_impurity_split  min_samples_leaf  min_samples_split  \\\n",
       "0        1.000000e-07                 1                  2   \n",
       "1        1.000000e-07                 1                  2   \n",
       "\n",
       "   min_weight_fraction_leaf  n_estimators  n_jobs oob_score random_state  \\\n",
       "0                       0.0            30       1     False         None   \n",
       "1                       0.0            10       1     False         None   \n",
       "\n",
       "       score       std  verbose warm_start  \n",
       "0  24.986636  0.119832        0      False  \n",
       "1  25.793474  0.079805        0      False  "
      ]
     },
     "execution_count": 48,
     "metadata": {},
     "output_type": "execute_result"
    }
   ],
   "source": [
    "res"
   ]
  },
  {
   "cell_type": "code",
   "execution_count": null,
   "metadata": {
    "collapsed": true
   },
   "outputs": [],
   "source": []
  },
  {
   "cell_type": "code",
   "execution_count": 50,
   "metadata": {
    "collapsed": false
   },
   "outputs": [],
   "source": [
    "bir.fit(Xtr,ytr,**best_params)"
   ]
  },
  {
   "cell_type": "code",
   "execution_count": 51,
   "metadata": {
    "collapsed": true
   },
   "outputs": [],
   "source": [
    "bir.dump_model()"
   ]
  },
  {
   "cell_type": "code",
   "execution_count": 59,
   "metadata": {
    "collapsed": false
   },
   "outputs": [
    {
     "data": {
      "text/plain": [
       "<matplotlib.axes._subplots.AxesSubplot at 0x10c89cc10>"
      ]
     },
     "execution_count": 59,
     "metadata": {},
     "output_type": "execute_result"
    },
    {
     "data": {
      "image/png": "[encoded data removed]",
      "text/plain": [
       "<matplotlib.figure.Figure at 0x10c894750>"
      ]
     },
     "metadata": {},
     "output_type": "display_data"
    }
   ],
   "source": [
    "bir.forecast(*bir.triples[6]).plot()"
   ]
  },
  {
   "cell_type": "code",
   "execution_count": 60,
   "metadata": {
    "collapsed": true
   },
   "outputs": [],
   "source": [
    "MC,DO,stream = bir.triples[6]"
   ]
  },
  {
   "cell_type": "code",
   "execution_count": 62,
   "metadata": {
    "collapsed": false
   },
   "outputs": [
    {
     "data": {
      "text/plain": [
       "'bristol_mail_centre_tewkesbury_do_T0003'"
      ]
     },
     "execution_count": 62,
     "metadata": {},
     "output_type": "execute_result"
    }
   ],
   "source": [
    "fname = bir.MCDOstream2name(MC, DO, stream)\n",
    "fname"
   ]
  },
  {
   "cell_type": "code",
   "execution_count": 66,
   "metadata": {
    "collapsed": false
   },
   "outputs": [],
   "source": [
    "forecast = bir.forecast(MC, DO, stream).reset_index()"
   ]
  },
  {
   "cell_type": "code",
   "execution_count": 16,
   "metadata": {
    "collapsed": false
   },
   "outputs": [
    {
     "data": {
      "text/plain": [
       "array([0])"
      ]
     },
     "execution_count": 16,
     "metadata": {},
     "output_type": "execute_result"
    }
   ],
   "source": [
    "bir.MC_encoder.transform(['bristol mail centre'])"
   ]
  },
  {
   "cell_type": "code",
   "execution_count": 14,
   "metadata": {
    "collapsed": false
   },
   "outputs": [
    {
     "data": {
      "text/plain": [
       "array(['bristol mail centre'], dtype=object)"
      ]
     },
     "execution_count": 14,
     "metadata": {},
     "output_type": "execute_result"
    }
   ],
   "source": [
    "bir.MC_encoder.classes_"
   ]
  },
  {
   "cell_type": "code",
   "execution_count": 11,
   "metadata": {
    "collapsed": false
   },
   "outputs": [
    {
     "data": {
      "text/plain": [
       "array(['bristol mail centre'], dtype=object)"
      ]
     },
     "execution_count": 11,
     "metadata": {},
     "output_type": "execute_result"
    }
   ],
   "source": [
    "bir.MC_encoder.classes_"
   ]
  },
  {
   "cell_type": "code",
   "execution_count": null,
   "metadata": {
    "collapsed": true
   },
   "outputs": [],
   "source": [
    "mean,std"
   ]
  },
  {
   "cell_type": "code",
   "execution_count": 10,
   "metadata": {
    "collapsed": false
   },
   "outputs": [
    {
     "data": {
      "text/plain": [
       "(26.028301009386322, 0.22843247748750031)"
      ]
     },
     "execution_count": 10,
     "metadata": {},
     "output_type": "execute_result"
    }
   ],
   "source": [
    "mean,std"
   ]
  },
  {
   "cell_type": "code",
   "execution_count": 18,
   "metadata": {
    "collapsed": false
   },
   "outputs": [],
   "source": [
    "train,test= bir.load_feature(*bir.triples[0])"
   ]
  },
  {
   "cell_type": "code",
   "execution_count": 25,
   "metadata": {
    "collapsed": true
   },
   "outputs": [],
   "source": [
    "from src.model.mimo_transformer import *"
   ]
  },
  {
   "cell_type": "code",
   "execution_count": 31,
   "metadata": {
    "collapsed": false
   },
   "outputs": [],
   "source": [
    "m = MimoHollidayTransformer(**FRAME)"
   ]
  },
  {
   "cell_type": "code",
   "execution_count": 39,
   "metadata": {
    "collapsed": false
   },
   "outputs": [
    {
     "data": {
      "text/plain": [
       "(546, 31)"
      ]
     },
     "execution_count": 39,
     "metadata": {},
     "output_type": "execute_result"
    }
   ],
   "source": [
    "m.fit_transform(train[0]).shape"
   ]
  },
  {
   "cell_type": "code",
   "execution_count": 38,
   "metadata": {
    "collapsed": false
   },
   "outputs": [
    {
     "data": {
      "text/plain": [
       "20"
      ]
     },
     "execution_count": 38,
     "metadata": {},
     "output_type": "execute_result"
    }
   ],
   "source": [
    "m.label.transform('Nothing')"
   ]
  },
  {
   "cell_type": "code",
   "execution_count": 15,
   "metadata": {
    "collapsed": false
   },
   "outputs": [
    {
     "data": {
      "text/plain": [
       "[('bristol mail centre', 'avonmouth do', 'T0001'),\n",
       " ('bristol mail centre', 'tewkesbury do', 'T0079'),\n",
       " ('bristol mail centre', 'bridgwater do', 'T0094'),\n",
       " ('bristol mail centre', 'tewkesbury do', 'T0076'),\n",
       " ('bristol mail centre', 'tewkesbury do', 'T0064'),\n",
       " ('bristol mail centre', 'tewkesbury do', 'T0030'),\n",
       " ('bristol mail centre', 'tewkesbury do', 'T0003'),\n",
       " ('bristol mail centre', 'bridgwater do', 'T0095'),\n",
       " ('bristol mail centre', 'tewkesbury do', 'T0001'),\n",
       " ('bristol mail centre', 'tetbury do', 'T0095')]"
      ]
     },
     "execution_count": 15,
     "metadata": {},
     "output_type": "execute_result"
    }
   ],
   "source": [
    "bir.triples"
   ]
  },
  {
   "cell_type": "code",
   "execution_count": 5,
   "metadata": {
    "collapsed": false
   },
   "outputs": [
    {
     "data": {
      "text/plain": [
       "(25.558900099463113, 0.1521483798531845)"
      ]
     },
     "execution_count": 5,
     "metadata": {},
     "output_type": "execute_result"
    }
   ],
   "source": [
    "mean,std"
   ]
  },
  {
   "cell_type": "code",
   "execution_count": 6,
   "metadata": {
    "collapsed": true
   },
   "outputs": [],
   "source": [
    "bir.fit(Xtr,ytr)"
   ]
  },
  {
   "cell_type": "code",
   "execution_count": 7,
   "metadata": {
    "collapsed": false
   },
   "outputs": [
    {
     "data": {
      "text/plain": [
       "33.829522908852759"
      ]
     },
     "execution_count": 7,
     "metadata": {},
     "output_type": "execute_result"
    }
   ],
   "source": [
    "bir.SMAPE(yte,bir.predict(Xte))"
   ]
  },
  {
   "cell_type": "code",
   "execution_count": 8,
   "metadata": {
    "collapsed": false
   },
   "outputs": [
    {
     "data": {
      "text/plain": [
       "33.602096118812931"
      ]
     },
     "execution_count": 8,
     "metadata": {},
     "output_type": "execute_result"
    }
   ],
   "source": [
    "bir.SMAPE(yte,bir.predict(Xte))"
   ]
  },
  {
   "cell_type": "code",
   "execution_count": 6,
   "metadata": {
    "collapsed": false
   },
   "outputs": [
    {
     "data": {
      "text/plain": [
       "36.03"
      ]
     },
     "execution_count": 6,
     "metadata": {},
     "output_type": "execute_result"
    }
   ],
   "source": [
    "36.03"
   ]
  },
  {
   "cell_type": "code",
   "execution_count": null,
   "metadata": {
    "collapsed": true
   },
   "outputs": [],
   "source": []
  },
  {
   "cell_type": "code",
   "execution_count": 10,
   "metadata": {
    "collapsed": false
   },
   "outputs": [
    {
     "data": {
      "text/plain": [
       "(920, 31)"
      ]
     },
     "execution_count": 10,
     "metadata": {},
     "output_type": "execute_result"
    }
   ],
   "source": [
    "yte.shape"
   ]
  },
  {
   "cell_type": "code",
   "execution_count": 6,
   "metadata": {
    "collapsed": false
   },
   "outputs": [
    {
     "data": {
      "text/plain": [
       "[(26, 24.7640524000299, 0.27060878042399483),\n",
       " (27, 24.775710776988344, 0.28578872671100181),\n",
       " (28, 24.703845645625766, 0.26377219811970248),\n",
       " (29, 24.775296756764504, 0.22451199799197977),\n",
       " (30, 24.623063637073823, 0.25630136219096017),\n",
       " (31, 24.647885038775826, 0.09555721012368025),\n",
       " (32, 24.704287785013037, 0.10104358791285406),\n",
       " (33, 24.823864211498758, 0.15292319699494289),\n",
       " (34, 24.77627887558593, 0.064599706809898544)]"
      ]
     },
     "execution_count": 6,
     "metadata": {},
     "output_type": "execute_result"
    }
   ],
   "source": [
    "score"
   ]
  },
  {
   "cell_type": "code",
   "execution_count": 153,
   "metadata": {
    "collapsed": false
   },
   "outputs": [
    {
     "data": {
      "text/plain": [
       "(-24.874683558789645, 0.13783256662948792)"
      ]
     },
     "execution_count": 153,
     "metadata": {},
     "output_type": "execute_result"
    }
   ],
   "source": [
    "mean,score"
   ]
  },
  {
   "cell_type": "code",
   "execution_count": 11,
   "metadata": {
    "collapsed": false
   },
   "outputs": [
    {
     "data": {
      "text/plain": [
       "False"
      ]
     },
     "execution_count": 11,
     "metadata": {},
     "output_type": "execute_result"
    }
   ],
   "source": [
    "not True"
   ]
  },
  {
   "cell_type": "code",
   "execution_count": null,
   "metadata": {
    "collapsed": true
   },
   "outputs": [],
   "source": []
  }
 ],
 "metadata": {
  "anaconda-cloud": {},
  "kernelspec": {
   "display_name": "Python 2",
   "language": "python",
   "name": "python2"
  },
  "language_info": {
   "codemirror_mode": {
    "name": "ipython",
    "version": 2
   },
   "file_extension": ".py",
   "mimetype": "text/x-python",
   "name": "python",
   "nbconvert_exporter": "python",
   "pygments_lexer": "ipython2",
   "version": "2.7.12"
  }
 },
 "nbformat": 4,
 "nbformat_minor": 0
}
